{
 "cells": [
  {
   "attachments": {},
   "cell_type": "markdown",
   "metadata": {},
   "source": [
    "importent import"
   ]
  },
  {
   "cell_type": "code",
   "execution_count": 252,
   "metadata": {},
   "outputs": [],
   "source": [
    "import numpy as np , os\n",
    "import tensorflow as tf\n",
    "import collections\n",
    "\n",
    "gpus = tf.config.list_physical_devices('GPU')\n",
    "tf.config.list_physical_devices('GPU')\n",
    "for gpu in gpus:\n",
    "    tf.config.experimental.set_memory_growth(gpu, True)"
   ]
  },
  {
   "attachments": {},
   "cell_type": "markdown",
   "metadata": {},
   "source": [
    "# Data Preparation\n",
    "## Quelle  https://medium.com/hackernoon/implementing-a-sequence-to-sequence-model-45a6133958ca"
   ]
  },
  {
   "cell_type": "code",
   "execution_count": 253,
   "metadata": {},
   "outputs": [],
   "source": [
    "questions = []\n",
    "answers = []"
   ]
  },
  {
   "cell_type": "code",
   "execution_count": 254,
   "metadata": {},
   "outputs": [
    {
     "name": "stdout",
     "output_type": "stream",
     "text": [
      "33\n",
      "33\n"
     ]
    }
   ],
   "source": [
    "import os\n",
    "\n",
    "folder_path = 'data_generation/newQuestions'  # Geben Sie den Pfad zum gewünschten Ordner an\n",
    "\n",
    "# Durchlaufen aller Dateien im Ordner\n",
    "que = [os.path.join(folder_path, filename) for filename in os.listdir(folder_path)]\n",
    "folder_path = 'data_generation/newAnswers' \n",
    "ans = [os.path.join(folder_path, filename) for filename in os.listdir(folder_path)]\n",
    "print(len(que))\n",
    "print(len(ans))"
   ]
  },
  {
   "cell_type": "code",
   "execution_count": 255,
   "metadata": {},
   "outputs": [],
   "source": [
    "for (q,a) in zip(que,ans):\n",
    "    with open(q, 'r') as inputfile:\n",
    "        questions += [line.rstrip() for line in inputfile.readlines()[1:]]\n",
    "    with open(a, 'r') as inputfile:\n",
    "        answers += [line.rstrip() for line in inputfile.readlines()[1:]]     \n"
   ]
  },
  {
   "cell_type": "code",
   "execution_count": 256,
   "metadata": {},
   "outputs": [
    {
     "name": "stdout",
     "output_type": "stream",
     "text": [
      "791\n"
     ]
    }
   ],
   "source": [
    "print(len(questions))"
   ]
  },
  {
   "cell_type": "code",
   "execution_count": 257,
   "metadata": {},
   "outputs": [
    {
     "name": "stdout",
     "output_type": "stream",
     "text": [
      "791\n"
     ]
    }
   ],
   "source": [
    "print(len(answers))"
   ]
  },
  {
   "attachments": {},
   "cell_type": "markdown",
   "metadata": {},
   "source": [
    "Einlesen der Fragen"
   ]
  },
  {
   "cell_type": "code",
   "execution_count": 258,
   "metadata": {},
   "outputs": [
    {
     "name": "stdout",
     "output_type": "stream",
     "text": [
      " count questions: 1099, count answers: 1099\n"
     ]
    }
   ],
   "source": [
    "#my better version\n",
    "file_path = './processed_data/'\n",
    "\n",
    "with open(file_path+'all_fragen.txt', 'r') as inputfile:\n",
    "    questions += [line.rstrip() for line in inputfile.readlines()]\n",
    "    \n",
    "\n",
    "with open(file_path+'all_antworten.txt', 'r') as inputfile:\n",
    "    answers += [line.rstrip() for line in inputfile.readlines()]\n",
    "\n",
    "print(' count questions: %d, count answers: %d'%(len(questions), len(answers)))\n",
    "#print(antworten)"
   ]
  },
  {
   "cell_type": "code",
   "execution_count": 259,
   "metadata": {},
   "outputs": [],
   "source": [
    "import random\n",
    "sample_questions = []\n",
    "sample_answers = []\n",
    "for x in range(10):\n",
    "    number = random.randint(0, len(questions))\n",
    "    #print(str(number))\n",
    "    sample_questions += [questions[number]]\n",
    "    sample_answers += [answers[number]]\n",
    "\n",
    "\n",
    "#for (x,y) in zip(sample_questions,sample_answers):\n",
    "    #print(x + \"\\n\" + y + \"\\n \\n\")"
   ]
  },
  {
   "attachments": {},
   "cell_type": "markdown",
   "metadata": {},
   "source": [
    "make them all lowercase because that should be better simpler for the net"
   ]
  },
  {
   "cell_type": "code",
   "execution_count": 260,
   "metadata": {},
   "outputs": [
    {
     "name": "stdout",
     "output_type": "stream",
     "text": [
      "['whoi o  ', 'paxx s s ']\n"
     ]
    }
   ],
   "source": [
    "import re\n",
    "def make_clean(sentences):\n",
    "    result = []\n",
    "    for sentence in sentences:\n",
    "        txt = sentence.lower()\n",
    "        txt = re.sub(r\"i'm\", \"i am\", txt)\n",
    "        txt = re.sub(r\"he's\", \"he is\", txt)\n",
    "        txt = re.sub(r\"she's\", \"she is\", txt)\n",
    "        txt = re.sub(r\"that's\", \"that is\", txt)\n",
    "        txt = re.sub(r\"what's\", \"what is\", txt)\n",
    "        txt = re.sub(r\"where's\", \"where is\", txt)\n",
    "        txt = re.sub(r\"\\'ll\", \" will\", txt)\n",
    "        txt = re.sub(r\"\\'ve\", \" have\", txt)\n",
    "        txt = re.sub(r\"\\'re\", \" are\", txt)\n",
    "        txt = re.sub(r\"\\'d\", \" would\", txt)\n",
    "        txt = re.sub(r\"won't\", \"will not\", txt)\n",
    "        txt = re.sub(r\"can't\", \"can not\", txt)\n",
    "        txt = re.sub(r\"[^\\w\\s]\", \"\", txt)\n",
    "        result += [txt]\n",
    "    return result\n",
    "bla = ['WHOI o ! ','PAxx s s\\' ']\n",
    "bla = make_clean(bla)\n",
    "print(bla)"
   ]
  },
  {
   "cell_type": "code",
   "execution_count": 261,
   "metadata": {},
   "outputs": [],
   "source": [
    "clean_ques = make_clean(questions)\n",
    "clean_ans = make_clean(answers)"
   ]
  },
  {
   "cell_type": "code",
   "execution_count": 262,
   "metadata": {},
   "outputs": [],
   "source": [
    "###  count occurences ###\n",
    "counter_words = {}\n",
    "\n",
    "for line in clean_ques:\n",
    "    for word in line.split():\n",
    "        if word not in counter_words:\n",
    "            counter_words[word] = 1\n",
    "        else:\n",
    "            counter_words[word] += 1\n",
    "for line in clean_ans:\n",
    "    for word in line.split():\n",
    "        if word not in counter_words:\n",
    "            counter_words[word] = 1\n",
    "        else:\n",
    "            counter_words[word] += 1\n"
   ]
  },
  {
   "cell_type": "code",
   "execution_count": 263,
   "metadata": {},
   "outputs": [],
   "source": [
    "vocab = {}\n",
    "word_num = 0\n",
    "for word, count in counter_words.items():\n",
    "    vocab[word] = word_num\n",
    "    word_num += 1"
   ]
  },
  {
   "cell_type": "code",
   "execution_count": 264,
   "metadata": {},
   "outputs": [
    {
     "name": "stdout",
     "output_type": "stream",
     "text": [
      "{'how': 0, 'does': 1, 'tacotron': 2, '2': 3, 'utilize': 4, 'a': 5, 'sequencetosequence': 6, 'architecture': 7, 'what': 8, 'is': 9, 'the': 10, 'purpose': 11, 'of': 12, 'spectral': 13, 'encoder': 14, 'in': 15, 'generate': 16, 'speech': 17, 'from': 18, 'spectrograms': 19, 'role': 20, 'wavenet': 21, 'vocoder': 22, 'are': 23, 'character': 24, 'embeddings': 25, 'used': 26, 'advantages': 27, 'using': 28, 'convolutional': 29, 'networks': 30, 'lstm': 31, 'long': 32, 'shortterm': 33, 'memory': 34, 'relationship': 35, 'between': 36, 'and': 37, 'synthesis': 38, 'handle': 39, 'sentences': 40, 'improvements': 41, 'bring': 42, 'compared': 43, 'to': 44, 'its': 45, 'previous': 46, 'version': 47, 'variations': 48, 'pitch': 49, 'intonation': 50, 'challenges': 51, 'face': 52, 'handling': 53, 'different': 54, 'languages': 55, 'multiple': 56, 'speakers': 57, 'techniques': 58, 'employ': 59, 'ensure': 60, 'naturalsounding': 61, 'with': 62, 'background': 63, 'noise': 64, 'limitations': 65, 'terms': 66, 'generating': 67, 'deal': 68, 'outofvocabulary': 69, 'words': 70, 'accents': 71, 'computational': 72, 'requirements': 73, 'for': 74, 'training': 75, 'emotional': 76, 'expressions': 77, 'data': 78, 'train': 79, 'at': 80, 'speeds': 81, 'future': 82, 'research': 83, 'directions': 84, 'improving': 85, 'deep': 86, 'learning': 87, 'text': 88, 'play': 89, 'characters': 90, 'encoded': 91, 'function': 92, 'main': 93, 'technical': 94, 'implementing': 95, 'input': 96, 'sequences': 97, 'improve': 98, 'quality': 99, 'resources': 100, 'required': 101, 'process': 102, 'noisy': 103, 'attention': 104, 'mechanisms': 105, 'prosody': 106, 'impact': 107, 'batch': 108, 'size': 109, 'on': 110, 'speaker': 111, 'adaptation': 112, 'compare': 113, 'other': 114, 'models': 115, 'performance': 116, 'contribute': 117, '2s': 118, 'can': 119, 'you': 120, 'explain': 121, 'embedding': 122, 'significance': 123, 'generation': 124, 'waveforms': 125, 'texttospeech': 126, 'complex': 127, 'during': 128, 'brief': 129, 'some': 130, 'applications': 131, 'field': 132, 'distortion': 133, 'audio': 134, 'potential': 135, 'be': 136, 'realtime': 137, 'use': 138, 'punctuation': 139, 'emphasis': 140, 'synthesized': 141, 'finetuned': 142, 'specific': 143, 'domains': 144, 'or': 145, 'styles': 146, 'deploying': 147, 'do': 148, 'output': 149, 'format': 150, 'mechanism': 151, 'implemented': 152, 'advantage': 153, 'over': 154, 'traditional': 155, 'methods': 156, 'texts': 157, 'components': 158, 'pauses': 159, 'expressive': 160, 'implement': 161, 'key': 162, 'building': 163, 'normalization': 164, 'capitalization': 165, 'conversion': 166, 'complexity': 167, 'sounds': 168, 'rate': 169, 'speaking': 170, 'style': 171, 'tasks': 172, 'work': 173, 'neural': 174, '1': 175, 'longrange': 176, 'dependencies': 177, 'benefit': 178, 'approach': 179, 'lowquality': 180, 'dataset': 181, 'preprocessing': 182, 'stateoftheart': 183, 'concept': 184, 'zeichenembedding': 185, 'layer': 186, 'synthesize': 187, 'lowresource': 188, 'emotions': 189, 'cost': 190, 'running': 191, 'besides': 192, 'ambiguous': 193, 'homophone': 194, 'natural': 195, 'language': 196, 'processing': 197, 'systems': 198, 'convert': 199, 'into': 200, 'waveform': 201, 'synthesizer': 202, 'units': 203, 'naturalness': 204, 'generated': 205, 'datasets': 206, 'hyperparameters': 207, 'disfluencies': 208, 'melspectrogram': 209, 'benefits': 210, 'differ': 211, 'original': 212, 'model': 213, 'developments': 214, 'current': 215, 'trends': 216, 'like': 217, 'incorporate': 218, 'optimize': 219, 'efficient': 220, 'inference': 221, 'difference': 222, 'multispeaker': 223, 'address': 224, 'tradeoff': 225, 'intelligibility': 226, 'capabilities': 227, 'architectures': 228, 'utilized': 229, 'overcome': 230, 'issue': 231, 'clarity': 232, 'transfer': 233, 'kind': 234, 'take': 235, 'structured': 236, 'larger': 237, 'silences': 238, 'decoder': 239, 'phonetic': 240, 'nonlinguistic': 241, 'effects': 242, 'component': 243, 'mel': 244, 'arise': 245, 'when': 246, 'than': 247, 'english': 248, 'realworld': 249, 'scenarios': 250, 'voice': 251, 'cloning': 252, 'linguistic': 253, 'nuances': 254, 'context': 255, 'combined': 256, 'such': 257, 'as': 258, 'highquality': 259, 'assistants': 260, 'audiobook': 261, 'production': 262, 'pronunciation': 263, 'trained': 264, 'alternatives': 265, 'multilingual': 266, 'integrate': 267, 'describe': 268, 'variation': 269, 'individuality': 270, 'expressiveness': 271, 'run': 272, 'accuracy': 273, 'embedded': 274, 'tradeoffs': 275, 'errors': 276, 'achieve': 277, 'interference': 278, 'large': 279, 'rhythm': 280, 'customization': 281, 'advancements': 282, 'speed': 283, 'tempo': 284, 'objective': 285, 'alignment': 286, 'efficiency': 287, 'perform': 288, 'voices': 289, 'versions': 290, 'represented': 291, 'realistic': 292, 'rare': 293, 'limited': 294, 'gender': 295, 'age': 296, 'algorithms': 297, 'largescale': 298, 'further': 299, 'improved': 300, 'achieved': 301, 'leverage': 302, 'longterm': 303, 'upon': 304, 'predecessor': 305, 'characteristics': 306, 'phonemes': 307, 'inputs': 308, 'offer': 309, 'prevent': 310, 'overfitting': 311, 'signals': 312, 'adapted': 313, 'beyond': 314, 'extensions': 315, 'variablelength': 316, 'adapting': 317, 'environmental': 318, 'factors': 319, 'features': 320, 'laughter': 321, 'breath': 322, 'disfluent': 323, 'noises': 324, 'sequencertosequencer': 325, 'signal': 326, 'unclear': 327, 'vocoding': 328, 'melspectrograms': 329, 'oov': 330, 'twostep': 331, 'textencoder': 332, 'proper': 333, 'nouns': 334, 'diacritics': 335, 'encoderdecoder': 336, 'postnet': 337, 'genders': 338, 'ages': 339, 'f0': 340, 'conditioning': 341, 'duration': 342, 'dialects': 343, 'meldecoder': 344, 'rates': 345, 'characterembedding': 346, 'layers': 347, 'levels': 348, 'recording': 349, 'conditions': 350, 'residual': 351, 'connections': 352, 'microphones': 353, 'devices': 354, 'sampling': 355, 'prenet': 356, 'postprocessing': 357, 'mouth': 358, 'shapes': 359, 'batchnormalization': 360, 'relu': 361, 'activation': 362, 'music': 363, 'sound': 364, 'reverberation': 365, 'dropout': 366, 'adam': 367, 'optimizer': 368, 'movements': 369, 'head': 370, 'facial': 371, 'body': 372, 'postures': 373, 'sentence': 374, 'structures': 375, 'linear': 376, 'singing': 377, 'musical': 378, 'genres': 379, 'instruments': 380, 'multihead': 381, 'dilated': 382, 'convolution': 383, 'spectrogram': 384, 'frequencies': 385, 'softmax': 386, 'sigmoid': 387, 'volumes': 388, 'block': 389, 'drama': 390, 'comedy': 391, 'poetry': 392, 'storytelling': 393, 'news': 394, 'reporting': 395, 'gated': 396, 'sports': 397, 'commentary': 398, 'podcasting': 399, 'radio': 400, 'broadcasting': 401, 'acting': 402, 'public': 403, 'education': 404, 'audiobooks': 405, 'concatenation': 406, 'transpose': 407, 'highway': 408, 'network': 409, 'artificial': 410, 'intelligence': 411, 'chatbots': 412, 'virtual': 413, 'robotics': 414, 'gaming': 415, 'global': 416, 'local': 417, 'upsampling': 418, 'asmr': 419, 'meditation': 420, 'hypnosis': 421, 'relaxation': 422, 'sleep': 423, 'aid': 424, 'therapy': 425, 'timedelay': 426, 'logarithmic': 427, 'branding': 428, 'advertising': 429, 'voiceovers': 430, 'jingles': 431, 'design': 432, 'causal': 433, 'video': 434, 'games': 435, 'augmented': 436, 'reality': 437, 'positional': 438, 'encoding': 439, 'elearning': 440, 'moocs': 441, 'instructional': 442, 'videos': 443, 'fast': 444, 'fourier': 445, 'transform': 446, 'inverse': 447, 'audiometry': 448, 'hearing': 449, 'aids': 450, 'cochlear': 451, 'implants': 452, 'telemedicine': 453, 'remote': 454, 'conferencing': 455, 'bidirectional': 456, 'teaching': 457, 'translation': 458, 'recognition': 459, 'authentication': 460, 'recurrent': 461, 'unit': 462, 'speechtotext': 463, 'coding': 464, 'beam': 465, 'search': 466, 'greedy': 467, 'decoding': 468, 'compression': 469, 'enhancement': 470, 'zeropadding': 471, 'melfrequency': 472, 'cepstral': 473, 'coefficients': 474, 'shorttime': 475, 'denoising': 476, 'convergence': 477, 'clipping': 478, 'contrast': 479, 'stretching': 480, 'subtraction': 481, 'smoothing': 482, 'widening': 483, 'padding': 484, 'magnitude': 485, 'overlapping': 486, 'scaling': 487, 'phase': 488, 'inversion': 489, 'envelope': 490, 'frame': 491, 'shift': 492, 'resolution': 493, 'frequency': 494, 'range': 495, 'window': 496, 'it': 497, 'finetune': 498, 'augmentation': 499, 'effect': 500, 'nonenglish': 501, 'networkbased': 502, 'short': 503, 'loss': 504, 'functions': 505, 'optimizers': 506, 'homonyms': 507, 'homophones': 508, 'sarcasm': 509, 'irony': 510, 'spoken': 511, 'vs': 512, 'written': 513, 'slang': 514, 'informal': 515, 'types': 516, 'affective': 517, 'interruptions': 518, 'hesitation': 519, 'uncertainty': 520, 'breathing': 521, 'abbreviations': 522, 'acronyms': 523, 'foreign': 524, 'phrases': 525, 'sizes': 526, 'stride': 527, 'tone': 528, 'schedules': 529, 'nonstandard': 530, 'spellings': 531, 'typos': 532, 'depths': 533, 'widths': 534, 'weight': 535, 'initialization': 536, 'boundaries': 537, 'contractions': 538, 'elisions': 539, 'homograph': 540, 'disambiguation': 541, 'meanings': 542, 'decay': 543, 'gradient': 544, 'contextdependent': 545, 'distributions': 546, 'tying': 547, 'regularization': 548, 'tokenization': 549, 'named': 550, 'entities': 551, 'idiomatic': 552, 'compound': 553, 'early': 554, 'stopping': 555, 'criteria': 556, 'phrasal': 557, 'verbs': 558, 'strengths': 559, 'pooling': 560, 'pronouns': 561, 'hidden': 562, 'derivatives': 563, 'negation': 564, 'double': 565, 'negatives': 566, 'positions': 567, 'syntactic': 568, 'ambiguity': 569, 'factor': 570, 'uses': 571, 'mapping': 572, 'encodes': 573, 'predicted': 574, 'acoustic': 575, 'synthesizes': 576, 'by': 577, 'converting': 578, 'generates': 579, 'represent': 580, 'help': 581, 'capture': 582, 'utilizes': 583, 'modeling': 584, 'sequential': 585, 'handles': 586, 'splitting': 587, 'them': 588, 'shorter': 589, 'segments': 590, 'brings': 591, 'robustness': 592, 'through': 593, 'faces': 594, 'due': 595, 'languagespecific': 596, 'employs': 597, 'autoregressive': 598, 'but': 599, 'may': 600, 'affect': 601, 'include': 602, 'occasional': 603, 'mispronunciations': 604, 'oversmoothed': 605, 'relying': 606, 'subword': 607, 'graphemetophoneme': 608, 'accentspecific': 609, 'requires': 610, 'significant': 611, 'including': 612, 'gpus': 613, 'appropriate': 614, 'paired': 615, 'adjusting': 616, 'better': 617, 'learn': 618, 'converts': 619, 'sequence': 620, 'highlevel': 621, 'predicting': 622, 'transforms': 623, 'highresolution': 624, 'representation': 625, 'an': 626, 'feature': 627, 'extraction': 628, 'incorporates': 629, 'temporal': 630, 'hierarchical': 631, 'teacher': 632, 'forcing': 633, 'diverse': 634, 'system': 635, 'involves': 636, 'optimizing': 637, 'parameters': 638, 'focus': 639, 'relevant': 640, 'incorporating': 641, 'tokens': 642, 'affects': 643, 'usage': 644, 'adapt': 645, 'finetuning': 646, 'speakerspecific': 647, 'lack': 648, 'finegrained': 649, 'control': 650, 'outperforms': 651, 'many': 652, 'fixedlength': 653, 'improves': 654, 'combination': 655, 'encoders': 656, 'decoders': 657, 'helps': 658, 'continuous': 659, 'space': 660, 'extract': 661, 'plays': 662, 'enables': 663, 'highfidelity': 664, 'results': 665, 'various': 666, 'utilizing': 667, 'effectively': 668, 'minimize': 669, 'error': 670, 'has': 671, 'finds': 672, 'accessibility': 673, 'robust': 674, 'representations': 675, 'could': 676, 'hardware': 677, 'optimizations': 678, 'annotated': 679, 'specialized': 680, 'depend': 681, 'fixeddimensional': 682, 'higherlevel': 683, 'raw': 684, 'intermediate': 685, 'maps': 686, 'align': 687, 'fallback': 688, 'lexicon': 689, 'offers': 690, 'flexibility': 691, 'especially': 692, 'capturing': 693, 'fine': 694, 'details': 695, 'smaller': 696, 'chunks': 697, 'supervised': 698, 'extent': 699, 'based': 700, 'optimized': 701, 'implementations': 702, 'additional': 703, 'processes': 704, 'fixedsize': 705, 'more': 706, 'suitable': 707, 'information': 708, 'implements': 709, 'predict': 710, 'attentionbased': 711, 'preprocess': 712, 'reinforcement': 713, 'corresponding': 714, 'separate': 715, 'depends': 716, 'considered': 717, 'artifacts': 718, 'tools': 719, 'vector': 720, 'structure': 721, 'melscale': 722, 'sufficient': 723, 'optimal': 724, 'characterbased': 725, 'allows': 726, 'particularly': 727, 'producing': 728, 'part': 729, 'pipeline': 730, 'consists': 731, 'compares': 732, 'favorably': 733, 'contributes': 734, 'serves': 735, 'steps': 736, 'particular': 737, 'way': 738, 'poses': 739, 'considerable': 740, 'tackles': 741, 'performs': 742, 'well': 743, 'prosodic': 744, 'vectors': 745, 'challenging': 746, 'scarcity': 747, 'handled': 748, 'choice': 749, 'coverage': 750, 'samples': 751, 'number': 752, 'influence': 753, 'stability': 754, 'content': 755, 'containing': 756, 'fields': 757, 'voiceover': 758, 'this': 759, 'end': 760, 'questions': 761, 'fundamental': 762, 'ability': 763, 'provide': 764, 'compact': 765, 'that': 766, 'captures': 767, 'important': 768, 'dense': 769, 'collection': 770, 'optimization': 771, 'overreliance': 772, 'pronunciations': 773, 'similar': 774, 'applied': 775, 'time': 776, 'potentially': 777, 'extracts': 778, 'lowlevel': 779, 'map': 780, 'truncation': 781, 'chunking': 782, 'unsupervised': 783, 'characterlevel': 784, 'high': 785, 'frames': 786, 'relationships': 787, 'prediction': 788, 'optimizes': 789, 'parallelization': 790, 'lies': 791, 'addition': 792, 'external': 793, 'lexicons': 794, 'responsible': 795, 'balances': 796, 'subjective': 797, 'evaluation': 798, 'metrics': 799, 'pairs': 800, 'provides': 801, 'overcomes': 802, 'endtoend': 803, 'patterns': 804, 'difficulties': 805, 'approximating': 806, 'achieves': 807, 'narration': 808, 'scale': 809, 'takes': 810, 'teacherforcing': 811, 'guided': 812, 'textual': 813, 'cues': 814, 'predicts': 815, 'states': 816, 'unnaturalness': 817, 'leveraging': 818, 'aligns': 819, 'clone': 820, 'enhanced': 821, 'griffinlim': 822, 'algorithm': 823, 'represents': 824, 'each': 825, 'directly': 826, 'humanlike': 827, 'timefrequency': 828, 'need': 829, 'amount': 830, 'not': 831, 'designed': 832, 'length': 833, 'vocabulary': 834, 'crucial': 835, 'lowerdimensional': 836, 'integrates': 837, 'synthetic': 838, 'consisting': 839, 'textspeech': 840, 'parts': 841, 'being': 842, 'learned': 843, 'offline': 844, 'naturally': 845, 'occurring': 846, 'flexible': 847, 'roboticsounding': 848, 'subwordbased': 849, 'customized': 850, 'extracting': 851, 'parallelism': 852, 'obtaining': 853, 'aligned': 854, 'combining': 855, 'highdimensional': 856, 'latent': 857, 'outputs': 858, 'unusual': 859, 'nature': 860, 'substantial': 861, 'just': 862, 'requiring': 863, 'affected': 864, 'encode': 865, 'backpropagation': 866, 'descent': 867, 'amounts': 868, 'unseen': 869, 'vary': 870, 'depending': 871, 'injection': 872, 'create': 873, 'final': 874, 'their': 875, 'properties': 876, 'iterative': 877, 'updates': 878, 'enhance': 879, 'spelling': 880, 'involve': 881, 'exploring': 882, 'representing': 883, 'there': 884, 'strategies': 885, 'informative': 886, 'employed': 887, 'respective': 888, 'roles': 889, 'timedomain': 890, 'have': 891, 'achieving': 892, 'focuses': 893, 'presence': 894, 'low': 895, 'latency': 896, 'aims': 897, 'aspects': 898, 'demands': 899, 'robotic': 900, 'unnatural': 901, 'sounding': 902, 'modifications': 903, 'higherdimensional': 904, 'efficiently': 905, 'masking': 906, 'known': 907, 'assistant': 908, 'technologies': 909, 'noiseaware': 910, 'speakerindependent': 911, 'level': 912, 'differs': 913, 'architectural': 914, 'reduced': 915, 'supports': 916, 'manipulating': 917, 'trains': 918, 'addresses': 919, 'done': 920, 'issues': 921, 'capability': 922, 'cannot': 923, 'they': 924, 'within': 925, 'individual': 926, 'struggle': 927, 'leading': 928, 'inaccurate': 929, 'addressing': 930, 'biases': 931, 'numerical': 932, 'trainable': 933, 'melscaled': 934, 'computationally': 935, 'expensive': 936, 'examples': 937, 'syntax': 938, 'matrix': 939, 'accurate': 940, 'step': 941, 'towards': 942, 'adversarial': 943, 'dictionary': 944, 'dynamic': 945, 'rnn': 946, 'separates': 947, 'perfect': 948, 'slightly': 949, 'lower': 950, 'enhancements': 951, 'adding': 952, 'emotionspecific': 953, 'contour': 954, 'pretrained': 955, 'diacritictophoneme': 956, 'converter': 957, 'refines': 958, 'genderspecific': 959, 'agespecific': 960, 'phoneme': 961, 'phonemetographeme': 962, 'word': 963, 'enable': 964, 'microphonespecific': 965, 'devicespecific': 966, 'resampling': 967, 'retraining': 968, 'reduces': 969, 'lipsync': 970, 'normalizes': 971, 'applies': 972, 'nonlinearity': 973, 'musicaware': 974, 'prevents': 975, 'randomly': 976, 'dropping': 977, 'weights': 978, 'attends': 979, 'increases': 980, 'receptive': 981, 'probability': 982, 'distribution': 983, '0': 984, 'maintains': 985, 'depth': 986, 'adapts': 987, 'controls': 988, 'flow': 989, 'wavenets': 990, 'convolutions': 991, 'combines': 992, 'upsamples': 993, 'meaningful': 994, 'microphone': 995, 'device': 996, 'nonacoustic': 997, 'lowprobability': 998, 'events': 999, 'jingle': 1000, 'ensures': 1001, 'only': 1002, 'past': 1003, 'refine': 1004, 'adds': 1005, 'position': 1006, 'helping': 1007, 'order': 1008, 'activations': 1009, 'accelerating': 1010, 'educational': 1011, 'massive': 1012, 'open': 1013, 'online': 1014, 'courses': 1015, 'mooc': 1016, 'domain': 1017, 'back': 1018, 'audiological': 1019, 'contexts': 1020, 'therapeutic': 1021, 'customizing': 1022, 'implant': 1023, 'processors': 1024, 'medical': 1025, 'teleconsultations': 1026, 'conference': 1027, 'both': 1028, 'forward': 1029, 'backward': 1030, 'sides': 1031, 'instruction': 1032, 'related': 1033, 'variant': 1034, 'selectively': 1035, 'transcription': 1036, 'purposes': 1037, 'explores': 1038, 'paths': 1039, 'enhancing': 1040, 'strategy': 1041, 'selects': 1042, 'most': 1043, 'probable': 1044, 'maintain': 1045, 'preserves': 1046, 'scales': 1047, 'stabilize': 1048, 'measures': 1049, 'similarity': 1050, 'ground': 1051, 'truth': 1052, 'truncates': 1053, 'certain': 1054, 'emphasizes': 1055, 'peaks': 1056, 'resizes': 1057, 'fixed': 1058, 'estimates': 1059, 'removes': 1060, 'highfrequency': 1061, 'expands': 1062, 'zeros': 1063, 'match': 1064, 'desired': 1065, 'amplitude': 1066, 'adjusts': 1067, 'impacting': 1068, 'perceived': 1069, 'loudness': 1070, 'affecting': 1071, 'timing': 1072, 'harmonics': 1073, 'flips': 1074, 'spectrum': 1075, 'modifying': 1076, 'timbre': 1077, 'describes': 1078, 'shape': 1079, 'influencing': 1080, 'determines': 1081, 'framewindow': 1082, 'compute': 1083, 'defines': 1084, 'overlap': 1085, 'consecutive': 1086, 'frameswindows': 1087, 'computation': 1088, 'detail': 1089, 'sets': 1090, 'covered': 1091, 'reducing': 1092, 'leakage': 1093, 'learningbased': 1094, 'produces': 1095, 'several': 1096, 'days': 1097, 'even': 1098, 'weeks': 1099, 'changing': 1100, 'add': 1101, 'advanced': 1102, 'produce': 1103, 'prepares': 1104, 'pronounce': 1105, 'correctly': 1106, 'windows': 1107, 'strides': 1108, 'contours': 1109, 'cyclic': 1110, 'reduce': 1111, 'generally': 1112, 'correct': 1113, 'deepr': 1114, 'wider': 1115, 'require': 1116, 'xavier': 1117, 'pause': 1118, 'beams': 1119, 'l2': 1120, 'norm': 1121, 'square': 1122, 'root': 1123, 'no': 1124, 'clear': 1125, 'best': 1126, 'method': 1127, 'along': 1128}\n",
      "1129\n"
     ]
    }
   ],
   "source": [
    "print(vocab)\n",
    "print(len(vocab))"
   ]
  },
  {
   "attachments": {},
   "cell_type": "markdown",
   "metadata": {},
   "source": [
    "start and stop simbole hinzufügen"
   ]
  },
  {
   "cell_type": "code",
   "execution_count": 265,
   "metadata": {},
   "outputs": [],
   "source": [
    "for i in range(len(clean_ans)):\n",
    "    clean_ans[i] = '<SOS> ' + clean_ans[i] + ' <EOS>'"
   ]
  },
  {
   "attachments": {},
   "cell_type": "markdown",
   "metadata": {},
   "source": [
    "anpassen des dics"
   ]
  },
  {
   "cell_type": "code",
   "execution_count": 266,
   "metadata": {},
   "outputs": [
    {
     "name": "stdout",
     "output_type": "stream",
     "text": [
      "1129\n",
      "1134\n"
     ]
    }
   ],
   "source": [
    "tokens = ['<PAD>', '<EOS>', '<OUT>', '<SOS>']\n",
    "x = len(vocab)\n",
    "print(x)\n",
    "for token in tokens:\n",
    "    vocab[token] = x\n",
    "    x += 1\n",
    "    \n",
    "    \n",
    "vocab['cameron'] = vocab['<PAD>']\n",
    "vocab['<PAD>'] = 0\n",
    "print(len(vocab))\n"
   ]
  },
  {
   "cell_type": "code",
   "execution_count": 267,
   "metadata": {},
   "outputs": [],
   "source": [
    "### inv answers dict ###\n",
    "inv_vocab = {w:v for v, w in vocab.items()}"
   ]
  },
  {
   "cell_type": "code",
   "execution_count": 268,
   "metadata": {},
   "outputs": [
    {
     "name": "stdout",
     "output_type": "stream",
     "text": [
      "1133\n"
     ]
    }
   ],
   "source": [
    "print(len(inv_vocab))"
   ]
  },
  {
   "attachments": {},
   "cell_type": "markdown",
   "metadata": {},
   "source": [
    "Incoder input durch questions \n",
    "wenn Wort nicht bekannt dann vocab out"
   ]
  },
  {
   "cell_type": "code",
   "execution_count": 269,
   "metadata": {},
   "outputs": [],
   "source": [
    "encoder_inp = []\n",
    "for line in clean_ques:\n",
    "    lst = []\n",
    "    for word in line.split():\n",
    "        if word not in vocab:\n",
    "            lst.append(vocab['<OUT>'])\n",
    "        else:\n",
    "            lst.append(vocab[word])\n",
    "        \n",
    "    encoder_inp.append(lst)\n",
    "\n",
    "decoder_inp = []\n",
    "for line in clean_ans:\n",
    "    lst = []\n",
    "    for word in line.split():\n",
    "        if word not in vocab:\n",
    "            lst.append(vocab['<OUT>'])\n",
    "        else:\n",
    "            lst.append(vocab[word])        \n",
    "    decoder_inp.append(lst)\n",
    "\n",
    "### delete\n",
    "del(clean_ans, clean_ques, line, lst, word)    "
   ]
  },
  {
   "attachments": {},
   "cell_type": "markdown",
   "metadata": {},
   "source": [
    "# found longest length"
   ]
  },
  {
   "cell_type": "code",
   "execution_count": 270,
   "metadata": {},
   "outputs": [
    {
     "name": "stdout",
     "output_type": "stream",
     "text": [
      "26\n"
     ]
    }
   ],
   "source": [
    "longest_sequence = 0\n",
    "for x in encoder_inp+decoder_inp:\n",
    "    \n",
    "    if len(x) > longest_sequence:\n",
    "        longest_sequence = len(x)     \n",
    "print(longest_sequence)         "
   ]
  },
  {
   "attachments": {},
   "cell_type": "markdown",
   "metadata": {},
   "source": [
    "padding"
   ]
  },
  {
   "cell_type": "code",
   "execution_count": 271,
   "metadata": {},
   "outputs": [],
   "source": [
    "from tensorflow.keras.preprocessing.sequence import pad_sequences\n",
    "encoder_inp = pad_sequences(encoder_inp, longest_sequence, padding='post', truncating='post')\n",
    "decoder_inp = pad_sequences(decoder_inp, longest_sequence, padding='post', truncating='post')"
   ]
  },
  {
   "cell_type": "code",
   "execution_count": 272,
   "metadata": {},
   "outputs": [
    {
     "name": "stdout",
     "output_type": "stream",
     "text": [
      "['<SOS>', 'convolutional', 'networks', 'help', 'capture', 'local', 'dependencies', 'in', 'tacotron', '2', '<EOS>', '<PAD>', '<PAD>', '<PAD>', '<PAD>', '<PAD>', '<PAD>', '<PAD>', '<PAD>', '<PAD>', '<PAD>', '<PAD>', '<PAD>', '<PAD>', '<PAD>', '<PAD>']\n",
      "['what', 'are', 'the', 'advantages', 'of', 'using', 'convolutional', 'networks', 'in', 'tacotron', '2', '<PAD>', '<PAD>', '<PAD>', '<PAD>', '<PAD>', '<PAD>', '<PAD>', '<PAD>', '<PAD>', '<PAD>', '<PAD>', '<PAD>', '<PAD>', '<PAD>', '<PAD>']\n"
     ]
    }
   ],
   "source": [
    "#print(encoder_inp)\n",
    "#print(decoder_inp)\n",
    "def make_vector_to_sequence(input, dic):\n",
    "    ints = []\n",
    "    for k in input:\n",
    "        try:\n",
    "            ints.append(inv_vocab[k])\n",
    "        except Exception as e:\n",
    "            ints.append(inv_vocab[2])\n",
    "        \n",
    "    return ints    \n",
    "\n",
    "x = make_vector_to_sequence(decoder_inp[5],vocab)\n",
    "print(x)\n",
    "x = make_vector_to_sequence(encoder_inp[5],vocab)\n",
    "print(x)"
   ]
  },
  {
   "attachments": {},
   "cell_type": "markdown",
   "metadata": {},
   "source": [
    "remove the \"start of the sequence\" simbol in the beginning"
   ]
  },
  {
   "cell_type": "code",
   "execution_count": 273,
   "metadata": {},
   "outputs": [],
   "source": [
    "decoder_final_output = []\n",
    "for i in decoder_inp:\n",
    "    decoder_final_output.append(i[1:]) \n",
    "\n",
    "decoder_final_output = pad_sequences(decoder_final_output, longest_sequence, padding='post', truncating='post')"
   ]
  },
  {
   "cell_type": "code",
   "execution_count": 274,
   "metadata": {},
   "outputs": [],
   "source": [
    "num_categories = len(vocab)  # Check the actual size of your vocabular"
   ]
  },
  {
   "cell_type": "code",
   "execution_count": 275,
   "metadata": {},
   "outputs": [],
   "source": [
    "#decoder_final_output"
   ]
  },
  {
   "attachments": {},
   "cell_type": "markdown",
   "metadata": {},
   "source": [
    "convert 2d data to 3d for the LSTM units\n",
    "creates a separate column for every word in the vocabulary"
   ]
  },
  {
   "cell_type": "code",
   "execution_count": 276,
   "metadata": {},
   "outputs": [
    {
     "name": "stdout",
     "output_type": "stream",
     "text": [
      "Number of categories: 1134\n",
      "Decoder final output shape: (1099, 26)\n",
      "Maximum value in decoder final output: 1130\n",
      "(1099, 26, 1134)\n"
     ]
    }
   ],
   "source": [
    "from tensorflow.keras.utils import to_categorical\n",
    "\n",
    "num_categories = len(vocab)  # Check the actual size of your vocabulary\n",
    "\n",
    "# Debugging statements\n",
    "print(\"Number of categories:\", num_categories)\n",
    "print(\"Decoder final output shape:\", decoder_final_output.shape)\n",
    "print(\"Maximum value in decoder final output:\", decoder_final_output.max())\n",
    "\n",
    "# Convert to one-hot encoded representation\n",
    "decoder_final_output = to_categorical(decoder_final_output, num_categories)\n",
    "\n",
    "print(decoder_final_output.shape)"
   ]
  },
  {
   "cell_type": "code",
   "execution_count": 277,
   "metadata": {},
   "outputs": [],
   "source": [
    "#print(decoder_final_output)"
   ]
  },
  {
   "attachments": {},
   "cell_type": "markdown",
   "metadata": {},
   "source": [
    "Verwenden von keras instatt of sequencial weil mehr kontrolle"
   ]
  },
  {
   "cell_type": "code",
   "execution_count": 278,
   "metadata": {},
   "outputs": [],
   "source": [
    "from tensorflow.keras.models import Model\n",
    "from tensorflow.keras.layers import Dense, Embedding, LSTM, Input\n",
    "\n",
    "# for both\n",
    "\n",
    "enc_inp = Input(shape=(longest_sequence, ))\n",
    "dec_inp = Input(shape=(longest_sequence, ))\n",
    "# embedding layer reduces dimensionality\n",
    "# Compress output dim -> voc 722  bzw 300 \n",
    "VOCAB_SIZE = len(vocab)"
   ]
  },
  {
   "attachments": {},
   "cell_type": "markdown",
   "metadata": {},
   "source": [
    "# normal Modell"
   ]
  },
  {
   "cell_type": "code",
   "execution_count": 279,
   "metadata": {},
   "outputs": [],
   "source": [
    "from tensorflow.keras.models import Model\n",
    "from tensorflow.keras.layers import Dense, Embedding, LSTM, Input,Dropout\n",
    "\n",
    "def normalModel():\n",
    "    # embedding layer reduces dimensionality\n",
    "    # Compress output dim -> voc 722  bzw 300 \n",
    "    embed = Embedding(VOCAB_SIZE+1, output_dim=300, \n",
    "                    input_length=longest_sequence,\n",
    "                    trainable=True                  \n",
    "                    )\n",
    "    enc_embed = embed(enc_inp)\n",
    "    # erstelen LSTM mit dimensionilität von 400 \n",
    "    # sequence von eingabeVektoren in Ausgabe Vektoren\n",
    "    # h (hidden state): Der letzte verborgene Zustand des LSTM-Layers. \n",
    "    # Der verborgene Zustand enthält Kontext der Eingabesequenz bis zur letzten Zeitstufe.\n",
    "    # c (cell state): Der letzte Zellzustand des LSTM-Layers. \n",
    "    # Der Zellzustand speichert Informationen über  langfristige Abhängigkeiten in Eingabesequenz.\n",
    "    enc_lstm = LSTM(800, return_sequences=True, return_state=True)\n",
    "    enc_op, h, c = enc_lstm(enc_embed)\n",
    "    enc_states = [h, c]\n",
    "\n",
    "\n",
    "    # Decoder LSTM\n",
    "    dec_embed = embed(dec_inp)\n",
    "    dec_lstm = LSTM(800, return_sequences=True, return_state=True)\n",
    "    dec_op, _, _ = dec_lstm(dec_embed, initial_state=enc_states)\n",
    "\n",
    "    # output is propability of how propable the words are\n",
    "    dense = Dense(VOCAB_SIZE, activation='softmax')\n",
    "    # dense verknüpfen mit decoder output\n",
    "    dense_op = dense(dec_op)\n",
    "    return Model([enc_inp, dec_inp], dense_op),dec_embed,enc_states,dec_lstm,dense"
   ]
  },
  {
   "cell_type": "code",
   "execution_count": 280,
   "metadata": {},
   "outputs": [],
   "source": [
    "#model,dec_embed,enc_states = normalModel()"
   ]
  },
  {
   "cell_type": "code",
   "execution_count": 281,
   "metadata": {},
   "outputs": [],
   "source": [
    "def otherModel():\n",
    "    enc_inp = Input(shape=(longest_sequence, ))\n",
    "    dec_inp = Input(shape=(longest_sequence, ))\n",
    "\n",
    "    VOCAB_SIZE = len(vocab)\n",
    "    embed = Embedding(VOCAB_SIZE+1, output_dim=300, input_length=longest_sequence, trainable=True)\n",
    "    enc_embed = embed(enc_inp)\n",
    "\n",
    "    enc_lstm1 = LSTM(800, return_sequences=True, return_state=True)\n",
    "    enc_op1, h1, c1 = enc_lstm1(enc_embed)\n",
    "    enc_states1 = [h1, c1]\n",
    "\n",
    "    enc_lstm2 = LSTM(800, return_sequences=True, return_state=True)\n",
    "    enc_op2, h2, c2 = enc_lstm2(enc_op1)\n",
    "    enc_states2 = [h2, c2]\n",
    "\n",
    "    dec_embed = embed(dec_inp)\n",
    "\n",
    "    dec_lstm1 = LSTM(800, return_sequences=True, return_state=True)\n",
    "    dec_op1, _, _ = dec_lstm1(dec_embed, initial_state=enc_states2)\n",
    "\n",
    "    dec_lstm2 = LSTM(800, return_sequences=True, return_state=True)\n",
    "    dec_op2, _, _ = dec_lstm2(dec_op1, initial_state=enc_states1)\n",
    "\n",
    "    dropout = Dropout(0.2)\n",
    "    dec_op_dropout = dropout(dec_op2)\n",
    "\n",
    "    dense = Dense(VOCAB_SIZE, activation='softmax')\n",
    "    dense_op = dense(dec_op_dropout)\n",
    "\n",
    "    return Model([enc_inp, dec_inp], dense_op),dec_embed,enc_states1,dec_lstm2,dense"
   ]
  },
  {
   "cell_type": "code",
   "execution_count": 282,
   "metadata": {},
   "outputs": [
    {
     "name": "stdout",
     "output_type": "stream",
     "text": [
      "[0 1 2 3 4 5 6 7 0 0 0 0 0 0 0 0 0 0 0 0 0 0 0 0 0 0]\n",
      "[  0   1   2   3 138  32  33  34  30   0   0   0   0   0   0   0   0   0\n",
      "   0   0   0   0   0   0   0   0]\n"
     ]
    }
   ],
   "source": [
    "train_data_X = encoder_inp[:1000]\n",
    "train_data_Y = decoder_inp[:1000]\n",
    "val_data_X = encoder_inp[1000:]\n",
    "val_data_Y = encoder_inp[1000:]\n",
    "print(train_data_X[0])\n",
    "print(val_data_X[0])"
   ]
  },
  {
   "cell_type": "code",
   "execution_count": 283,
   "metadata": {},
   "outputs": [],
   "source": [
    "from tensorflow.keras.optimizers import Adam\n",
    "#import pandas as pd"
   ]
  },
  {
   "cell_type": "code",
   "execution_count": 284,
   "metadata": {},
   "outputs": [],
   "source": [
    "model,dec_embed,enc_states,dec_lstm,dense = otherModel()\n",
    "model.compile(loss='categorical_crossentropy',metrics=['acc'],optimizer='adam')"
   ]
  },
  {
   "cell_type": "code",
   "execution_count": 285,
   "metadata": {},
   "outputs": [
    {
     "name": "stdout",
     "output_type": "stream",
     "text": [
      "Epoch 1/100\n",
      "5/5 [==============================] - 21s 3s/step - loss: 5.6354 - acc: 0.4154 - val_loss: 4.3222 - val_acc: 0.5144\n",
      "Epoch 2/100\n",
      "5/5 [==============================] - 15s 3s/step - loss: 3.3762 - acc: 0.5307 - val_loss: 3.3529 - val_acc: 0.5066\n",
      "Epoch 3/100\n",
      "5/5 [==============================] - 15s 3s/step - loss: 2.7068 - acc: 0.5443 - val_loss: 3.3713 - val_acc: 0.5078\n",
      "Epoch 4/100\n",
      "5/5 [==============================] - 15s 3s/step - loss: 2.5889 - acc: 0.5394 - val_loss: 3.3849 - val_acc: 0.5272\n",
      "Epoch 5/100\n",
      "5/5 [==============================] - 16s 3s/step - loss: 2.5225 - acc: 0.5518 - val_loss: 3.3519 - val_acc: 0.5287\n",
      "Epoch 6/100\n",
      "5/5 [==============================] - 16s 3s/step - loss: 2.4771 - acc: 0.5547 - val_loss: 3.3310 - val_acc: 0.5245\n",
      "Epoch 7/100\n",
      "5/5 [==============================] - 16s 3s/step - loss: 2.5268 - acc: 0.5471 - val_loss: 3.3353 - val_acc: 0.5218\n",
      "Epoch 8/100\n",
      "5/5 [==============================] - 16s 3s/step - loss: 2.4845 - acc: 0.5478 - val_loss: 3.3386 - val_acc: 0.5237\n",
      "Epoch 9/100\n",
      "5/5 [==============================] - 15s 3s/step - loss: 2.5745 - acc: 0.5356 - val_loss: 3.3897 - val_acc: 0.5062\n",
      "Epoch 10/100\n",
      "5/5 [==============================] - 16s 3s/step - loss: 2.4436 - acc: 0.5558 - val_loss: 3.4266 - val_acc: 0.5303\n",
      "Epoch 11/100\n",
      "5/5 [==============================] - 16s 3s/step - loss: 2.4009 - acc: 0.5598 - val_loss: 3.4510 - val_acc: 0.5303\n",
      "Epoch 12/100\n",
      "5/5 [==============================] - 16s 3s/step - loss: 2.3609 - acc: 0.5644 - val_loss: 3.4573 - val_acc: 0.5218\n",
      "Epoch 13/100\n",
      "5/5 [==============================] - 15s 3s/step - loss: 2.3139 - acc: 0.5698 - val_loss: 3.4916 - val_acc: 0.5295\n",
      "Epoch 14/100\n",
      "5/5 [==============================] - 15s 3s/step - loss: 2.2716 - acc: 0.5790 - val_loss: 3.5813 - val_acc: 0.5221\n",
      "Epoch 15/100\n",
      "5/5 [==============================] - 15s 3s/step - loss: 2.2416 - acc: 0.5856 - val_loss: 3.6787 - val_acc: 0.5276\n",
      "Epoch 16/100\n",
      "5/5 [==============================] - 15s 3s/step - loss: 2.2129 - acc: 0.5909 - val_loss: 3.7393 - val_acc: 0.5214\n",
      "Epoch 17/100\n",
      "5/5 [==============================] - 16s 3s/step - loss: 2.1877 - acc: 0.5948 - val_loss: 3.7744 - val_acc: 0.5179\n",
      "Epoch 18/100\n",
      "5/5 [==============================] - 15s 3s/step - loss: 2.1622 - acc: 0.5995 - val_loss: 3.8148 - val_acc: 0.5194\n",
      "Epoch 19/100\n",
      "5/5 [==============================] - 16s 3s/step - loss: 2.1422 - acc: 0.6025 - val_loss: 3.8440 - val_acc: 0.5136\n",
      "Epoch 20/100\n",
      "5/5 [==============================] - 15s 3s/step - loss: 2.1212 - acc: 0.6043 - val_loss: 3.8817 - val_acc: 0.5105\n",
      "Epoch 21/100\n",
      "5/5 [==============================] - 15s 3s/step - loss: 2.1019 - acc: 0.6060 - val_loss: 3.8875 - val_acc: 0.5120\n",
      "Epoch 22/100\n",
      "5/5 [==============================] - 15s 3s/step - loss: 2.0837 - acc: 0.6085 - val_loss: 3.9306 - val_acc: 0.5124\n",
      "Epoch 23/100\n",
      "5/5 [==============================] - 16s 3s/step - loss: 2.0651 - acc: 0.6106 - val_loss: 3.9825 - val_acc: 0.5078\n",
      "Epoch 24/100\n",
      "5/5 [==============================] - 15s 3s/step - loss: 2.0439 - acc: 0.6120 - val_loss: 3.9619 - val_acc: 0.5171\n",
      "Epoch 25/100\n",
      "5/5 [==============================] - 16s 3s/step - loss: 2.0180 - acc: 0.6145 - val_loss: 4.0128 - val_acc: 0.5051\n",
      "Epoch 26/100\n",
      "5/5 [==============================] - 16s 3s/step - loss: 1.9882 - acc: 0.6188 - val_loss: 4.0016 - val_acc: 0.5078\n",
      "Epoch 27/100\n",
      "5/5 [==============================] - 15s 3s/step - loss: 1.9564 - acc: 0.6228 - val_loss: 4.0368 - val_acc: 0.5074\n",
      "Epoch 28/100\n",
      "5/5 [==============================] - 16s 3s/step - loss: 1.9277 - acc: 0.6252 - val_loss: 4.0384 - val_acc: 0.5027\n",
      "Epoch 29/100\n",
      "5/5 [==============================] - 16s 3s/step - loss: 1.8912 - acc: 0.6300 - val_loss: 4.0714 - val_acc: 0.5089\n",
      "Epoch 30/100\n",
      "5/5 [==============================] - 16s 3s/step - loss: 1.8538 - acc: 0.6346 - val_loss: 4.0948 - val_acc: 0.5051\n",
      "Epoch 31/100\n",
      "5/5 [==============================] - 16s 3s/step - loss: 1.8140 - acc: 0.6377 - val_loss: 4.1501 - val_acc: 0.5093\n",
      "Epoch 32/100\n",
      "5/5 [==============================] - 16s 3s/step - loss: 1.7689 - acc: 0.6436 - val_loss: 4.1347 - val_acc: 0.5085\n",
      "Epoch 33/100\n",
      "5/5 [==============================] - 16s 3s/step - loss: 1.9564 - acc: 0.6265 - val_loss: 4.7266 - val_acc: 0.0664\n",
      "Epoch 34/100\n",
      "5/5 [==============================] - 16s 3s/step - loss: 2.4028 - acc: 0.5352 - val_loss: 4.3663 - val_acc: 0.4969\n",
      "Epoch 35/100\n",
      "5/5 [==============================] - 17s 3s/step - loss: 2.0582 - acc: 0.6042 - val_loss: 3.9070 - val_acc: 0.5175\n",
      "Epoch 36/100\n",
      "5/5 [==============================] - 15s 3s/step - loss: 1.8521 - acc: 0.6360 - val_loss: 4.0772 - val_acc: 0.5039\n",
      "Epoch 37/100\n",
      "5/5 [==============================] - 16s 3s/step - loss: 1.7870 - acc: 0.6424 - val_loss: 4.1754 - val_acc: 0.5183\n",
      "Epoch 38/100\n",
      "5/5 [==============================] - 16s 3s/step - loss: 1.7255 - acc: 0.6435 - val_loss: 4.2267 - val_acc: 0.5198\n",
      "Epoch 39/100\n",
      "5/5 [==============================] - 16s 3s/step - loss: 1.6749 - acc: 0.6514 - val_loss: 4.2911 - val_acc: 0.4981\n",
      "Epoch 40/100\n",
      "5/5 [==============================] - 16s 3s/step - loss: 1.6363 - acc: 0.6585 - val_loss: 4.3739 - val_acc: 0.5000\n",
      "Epoch 41/100\n",
      "5/5 [==============================] - 16s 3s/step - loss: 1.6023 - acc: 0.6604 - val_loss: 4.4311 - val_acc: 0.4996\n",
      "Epoch 42/100\n",
      "5/5 [==============================] - 16s 3s/step - loss: 1.5712 - acc: 0.6644 - val_loss: 4.5003 - val_acc: 0.4996\n",
      "Epoch 43/100\n",
      "5/5 [==============================] - 15s 3s/step - loss: 1.5451 - acc: 0.6693 - val_loss: 4.5661 - val_acc: 0.4977\n",
      "Epoch 44/100\n",
      "5/5 [==============================] - 16s 3s/step - loss: 1.5190 - acc: 0.6728 - val_loss: 4.6065 - val_acc: 0.4973\n",
      "Epoch 45/100\n",
      "5/5 [==============================] - 16s 3s/step - loss: 1.4956 - acc: 0.6758 - val_loss: 4.6394 - val_acc: 0.4965\n",
      "Epoch 46/100\n",
      "5/5 [==============================] - 16s 3s/step - loss: 1.4725 - acc: 0.6805 - val_loss: 4.6854 - val_acc: 0.4957\n",
      "Epoch 47/100\n",
      "5/5 [==============================] - 16s 3s/step - loss: 1.4493 - acc: 0.6828 - val_loss: 4.7365 - val_acc: 0.4946\n",
      "Epoch 48/100\n",
      "5/5 [==============================] - 16s 3s/step - loss: 1.4282 - acc: 0.6859 - val_loss: 4.7804 - val_acc: 0.4953\n",
      "Epoch 49/100\n",
      "5/5 [==============================] - 16s 3s/step - loss: 1.4044 - acc: 0.6898 - val_loss: 4.8176 - val_acc: 0.4961\n",
      "Epoch 50/100\n",
      "5/5 [==============================] - 16s 3s/step - loss: 1.3866 - acc: 0.6916 - val_loss: 4.8459 - val_acc: 0.4946\n",
      "Epoch 51/100\n",
      "5/5 [==============================] - 16s 3s/step - loss: 1.3651 - acc: 0.6958 - val_loss: 4.8839 - val_acc: 0.4949\n",
      "Epoch 52/100\n",
      "5/5 [==============================] - 15s 3s/step - loss: 1.3414 - acc: 0.6994 - val_loss: 4.9079 - val_acc: 0.4946\n",
      "Epoch 53/100\n",
      "5/5 [==============================] - 17s 3s/step - loss: 1.3204 - acc: 0.7014 - val_loss: 4.9450 - val_acc: 0.4946\n",
      "Epoch 54/100\n",
      "5/5 [==============================] - 16s 3s/step - loss: 1.2997 - acc: 0.7045 - val_loss: 4.9493 - val_acc: 0.4926\n",
      "Epoch 55/100\n",
      "5/5 [==============================] - 16s 3s/step - loss: 1.2743 - acc: 0.7086 - val_loss: 4.9561 - val_acc: 0.4938\n",
      "Epoch 56/100\n",
      "5/5 [==============================] - 16s 3s/step - loss: 1.2533 - acc: 0.7129 - val_loss: 4.9906 - val_acc: 0.4930\n",
      "Epoch 57/100\n",
      "5/5 [==============================] - 16s 3s/step - loss: 1.2344 - acc: 0.7140 - val_loss: 5.0245 - val_acc: 0.4922\n",
      "Epoch 58/100\n",
      "5/5 [==============================] - 16s 3s/step - loss: 1.2118 - acc: 0.7185 - val_loss: 5.0582 - val_acc: 0.4934\n",
      "Epoch 59/100\n",
      "5/5 [==============================] - 16s 3s/step - loss: 1.1913 - acc: 0.7230 - val_loss: 5.0784 - val_acc: 0.4934\n",
      "Epoch 60/100\n",
      "5/5 [==============================] - 16s 3s/step - loss: 1.1704 - acc: 0.7272 - val_loss: 5.0953 - val_acc: 0.4938\n",
      "Epoch 61/100\n",
      "5/5 [==============================] - 16s 3s/step - loss: 1.1491 - acc: 0.7293 - val_loss: 5.1031 - val_acc: 0.4918\n",
      "Epoch 62/100\n",
      "5/5 [==============================] - 16s 3s/step - loss: 1.1290 - acc: 0.7327 - val_loss: 5.1270 - val_acc: 0.4918\n",
      "Epoch 63/100\n",
      "5/5 [==============================] - 16s 3s/step - loss: 1.1086 - acc: 0.7370 - val_loss: 5.1464 - val_acc: 0.4938\n",
      "Epoch 64/100\n",
      "5/5 [==============================] - 16s 3s/step - loss: 1.0892 - acc: 0.7418 - val_loss: 5.1833 - val_acc: 0.4949\n",
      "Epoch 65/100\n",
      "5/5 [==============================] - 16s 3s/step - loss: 1.0714 - acc: 0.7442 - val_loss: 5.1979 - val_acc: 0.4938\n",
      "Epoch 66/100\n",
      "5/5 [==============================] - 17s 3s/step - loss: 1.0498 - acc: 0.7482 - val_loss: 5.2259 - val_acc: 0.4930\n",
      "Epoch 67/100\n",
      "5/5 [==============================] - 17s 3s/step - loss: 1.0271 - acc: 0.7535 - val_loss: 5.2441 - val_acc: 0.4953\n",
      "Epoch 68/100\n",
      "5/5 [==============================] - 16s 3s/step - loss: 1.0086 - acc: 0.7572 - val_loss: 5.2583 - val_acc: 0.4942\n",
      "Epoch 69/100\n",
      "5/5 [==============================] - 16s 3s/step - loss: 0.9940 - acc: 0.7586 - val_loss: 5.2770 - val_acc: 0.4953\n",
      "Epoch 70/100\n",
      "5/5 [==============================] - 15s 3s/step - loss: 0.9765 - acc: 0.7631 - val_loss: 5.3043 - val_acc: 0.4930\n",
      "Epoch 71/100\n",
      "5/5 [==============================] - 15s 3s/step - loss: 0.9641 - acc: 0.7644 - val_loss: 5.3143 - val_acc: 0.4961\n",
      "Epoch 72/100\n",
      "5/5 [==============================] - 15s 3s/step - loss: 0.9454 - acc: 0.7677 - val_loss: 5.3491 - val_acc: 0.4926\n",
      "Epoch 73/100\n",
      "5/5 [==============================] - 15s 3s/step - loss: 0.9249 - acc: 0.7716 - val_loss: 5.3767 - val_acc: 0.4957\n",
      "Epoch 74/100\n",
      "5/5 [==============================] - 16s 3s/step - loss: 0.9114 - acc: 0.7740 - val_loss: 5.3845 - val_acc: 0.4946\n",
      "Epoch 75/100\n",
      "5/5 [==============================] - 15s 3s/step - loss: 0.8922 - acc: 0.7787 - val_loss: 5.3961 - val_acc: 0.4973\n",
      "Epoch 76/100\n",
      "5/5 [==============================] - 15s 3s/step - loss: 0.8748 - acc: 0.7827 - val_loss: 5.4053 - val_acc: 0.4918\n",
      "Epoch 77/100\n",
      "5/5 [==============================] - 15s 3s/step - loss: 0.8608 - acc: 0.7863 - val_loss: 5.4260 - val_acc: 0.4934\n",
      "Epoch 78/100\n",
      "5/5 [==============================] - 16s 3s/step - loss: 0.8419 - acc: 0.7884 - val_loss: 5.4412 - val_acc: 0.4930\n",
      "Epoch 79/100\n",
      "5/5 [==============================] - 15s 3s/step - loss: 0.8262 - acc: 0.7913 - val_loss: 5.4490 - val_acc: 0.4930\n",
      "Epoch 80/100\n",
      "5/5 [==============================] - 16s 3s/step - loss: 0.8103 - acc: 0.7967 - val_loss: 5.4774 - val_acc: 0.4922\n",
      "Epoch 81/100\n",
      "5/5 [==============================] - 17s 3s/step - loss: 0.7991 - acc: 0.7966 - val_loss: 5.4867 - val_acc: 0.4918\n",
      "Epoch 82/100\n",
      "5/5 [==============================] - 16s 3s/step - loss: 0.7821 - acc: 0.8022 - val_loss: 5.4935 - val_acc: 0.4930\n",
      "Epoch 83/100\n",
      "5/5 [==============================] - 16s 3s/step - loss: 0.7688 - acc: 0.8045 - val_loss: 5.5399 - val_acc: 0.4942\n",
      "Epoch 84/100\n",
      "5/5 [==============================] - 16s 3s/step - loss: 0.7619 - acc: 0.8049 - val_loss: 5.5431 - val_acc: 0.4953\n",
      "Epoch 85/100\n",
      "5/5 [==============================] - 16s 3s/step - loss: 0.7521 - acc: 0.8069 - val_loss: 5.5829 - val_acc: 0.4957\n",
      "Epoch 86/100\n",
      "5/5 [==============================] - 16s 3s/step - loss: 0.7331 - acc: 0.8113 - val_loss: 5.5644 - val_acc: 0.4915\n",
      "Epoch 87/100\n",
      "5/5 [==============================] - 16s 3s/step - loss: 0.7146 - acc: 0.8173 - val_loss: 5.5931 - val_acc: 0.4926\n",
      "Epoch 88/100\n",
      "5/5 [==============================] - 16s 3s/step - loss: 0.6982 - acc: 0.8203 - val_loss: 5.6040 - val_acc: 0.4946\n",
      "Epoch 89/100\n",
      "5/5 [==============================] - 15s 3s/step - loss: 0.6883 - acc: 0.8206 - val_loss: 5.6406 - val_acc: 0.4946\n",
      "Epoch 90/100\n",
      "5/5 [==============================] - 16s 3s/step - loss: 0.6940 - acc: 0.8217 - val_loss: 5.6279 - val_acc: 0.4922\n",
      "Epoch 91/100\n",
      "5/5 [==============================] - 16s 3s/step - loss: 0.6763 - acc: 0.8252 - val_loss: 5.6556 - val_acc: 0.4938\n",
      "Epoch 92/100\n",
      "5/5 [==============================] - 17s 3s/step - loss: 0.6613 - acc: 0.8262 - val_loss: 5.6445 - val_acc: 0.4918\n",
      "Epoch 93/100\n",
      "5/5 [==============================] - 16s 3s/step - loss: 0.6567 - acc: 0.8275 - val_loss: 5.6610 - val_acc: 0.4946\n",
      "Epoch 94/100\n",
      "5/5 [==============================] - 16s 3s/step - loss: 0.6385 - acc: 0.8319 - val_loss: 5.7040 - val_acc: 0.4942\n",
      "Epoch 95/100\n",
      "5/5 [==============================] - 16s 3s/step - loss: 0.6251 - acc: 0.8348 - val_loss: 5.6879 - val_acc: 0.4911\n",
      "Epoch 96/100\n",
      "5/5 [==============================] - 15s 3s/step - loss: 0.6137 - acc: 0.8389 - val_loss: 5.7400 - val_acc: 0.4934\n",
      "Epoch 97/100\n",
      "5/5 [==============================] - 16s 3s/step - loss: 0.6059 - acc: 0.8405 - val_loss: 5.7570 - val_acc: 0.4926\n",
      "Epoch 98/100\n",
      "5/5 [==============================] - 16s 3s/step - loss: 0.5905 - acc: 0.8442 - val_loss: 5.7409 - val_acc: 0.4942\n",
      "Epoch 99/100\n",
      "5/5 [==============================] - 16s 3s/step - loss: 0.5773 - acc: 0.8491 - val_loss: 5.7661 - val_acc: 0.4915\n",
      "Epoch 100/100\n",
      "5/5 [==============================] - 16s 3s/step - loss: 0.5701 - acc: 0.8495 - val_loss: 5.7895 - val_acc: 0.4938\n"
     ]
    }
   ],
   "source": [
    "#model2 = Model([enc_inp, dec_inp], dense_op)\n",
    "with tf.device('/GPU:0'):\n",
    "            history = model.fit([train_data_X, train_data_Y], decoder_final_output[:1000],\n",
    "            validation_data=([val_data_X, val_data_Y], decoder_final_output[1000:]),\n",
    "            epochs=100, batch_size=200)\n",
    "#history_frame = pd.DataFrame(history.history())\n",
    "#history_frame.loc[:, ['loss', 'val_loss']].plot()\n",
    "#history_frame.loc[:, ['acc', 'categorical_crossentropy']].plot()"
   ]
  },
  {
   "cell_type": "code",
   "execution_count": 295,
   "metadata": {},
   "outputs": [
    {
     "data": {
      "image/png": "[encoded data removed]",
      "text/plain": [
       "<Figure size 640x480 with 1 Axes>"
      ]
     },
     "metadata": {},
     "output_type": "display_data"
    }
   ],
   "source": [
    "import matplotlib.pyplot as plt\n",
    "\n",
    "# Get the training and validation loss\n",
    "train_loss = history.history['loss']\n",
    "val_loss = history.history['val_loss']\n",
    "\n",
    "# Plot the training and validation loss\n",
    "epochs = range(1, len(train_loss) + 1)\n",
    "plt.plot(epochs, train_loss, 'b', label='Training Loss')\n",
    "plt.plot(epochs, val_loss, 'r', label='Validation Loss')\n",
    "plt.title('Training and Validation Loss')\n",
    "plt.xlabel('Epochs')\n",
    "plt.ylabel('Loss')\n",
    "plt.legend()\n",
    "plt.show()"
   ]
  },
  {
   "cell_type": "code",
   "execution_count": 287,
   "metadata": {},
   "outputs": [
    {
     "data": {
      "image/png": "[encoded data removed]",
      "text/plain": [
       "<Figure size 640x480 with 1 Axes>"
      ]
     },
     "metadata": {},
     "output_type": "display_data"
    }
   ],
   "source": [
    "train_acc = history.history['acc']\n",
    "val_acc = history.history['val_acc']\n",
    "\n",
    "# Plot the training and validation loss\n",
    "epochs = range(1, len(train_acc) + 1)\n",
    "plt.plot(epochs, train_acc, 'b', label='Training Accuracy')\n",
    "plt.plot(epochs, val_acc, 'r', label='Validation Accuracy')\n",
    "plt.title('Training and Validation Accuracy')\n",
    "plt.xlabel('Epochs')\n",
    "plt.ylabel('Accuracy')\n",
    "plt.legend()\n",
    "plt.show()"
   ]
  },
  {
   "cell_type": "code",
   "execution_count": 288,
   "metadata": {},
   "outputs": [
    {
     "name": "stdout",
     "output_type": "stream",
     "text": [
      "No GPU detected.\n"
     ]
    }
   ],
   "source": [
    "gpus = tf.config.list_physical_devices('GPU')\n",
    "if gpus:\n",
    "    for gpu in gpus:\n",
    "        print(\"GPU:\", gpu)\n",
    "else:\n",
    "    print(\"No GPU detected.\")"
   ]
  },
  {
   "cell_type": "code",
   "execution_count": 289,
   "metadata": {},
   "outputs": [],
   "source": [
    "#model.save('models/normalModel_100Epochs.h5')"
   ]
  },
  {
   "cell_type": "code",
   "execution_count": 290,
   "metadata": {},
   "outputs": [],
   "source": [
    "#model = otherModel()\n",
    "#model.compile(loss='categorical_crossentropy',metrics=['acc'],optimizer='adam')\n",
    "#history = model.fit([train_data_X, train_data_Y], decoder_final_output[:1000],\n",
    "#          validation_data=([val_data_X, val_data_Y], decoder_final_output[1000:]),\n",
    "#          epochs=100, batch_size=150)\n",
    "#history_frame = pd.DataFrame(history.history())\n",
    "#history_frame.loc[:, ['loss', 'val_loss']].plot()\n",
    "#history_frame.loc[:, ['acc', 'categorical_crossentropy']].plot()"
   ]
  },
  {
   "cell_type": "code",
   "execution_count": 291,
   "metadata": {},
   "outputs": [],
   "source": [
    "#model2 = Model([enc_inp, dec_inp], dense_op)\n",
    "#from tensorflow.keras.optimizers import Adam\n",
    "#model2.compile(loss='categorical_crossentropy',metrics=['acc'],optimizer='adam')\n",
    "#history = model2.fit([encoder_inp,decoder_inp], decoder_final_output,epochs=50, batch_size=150)"
   ]
  },
  {
   "cell_type": "code",
   "execution_count": 292,
   "metadata": {},
   "outputs": [],
   "source": [
    "#!pip install tensorflow-gpu\n",
    "#print(tf.test.gpu_device_name())\n",
    "#!pip install pandas\n",
    "#!pip install matplotlib"
   ]
  },
  {
   "cell_type": "code",
   "execution_count": null,
   "metadata": {},
   "outputs": [],
   "source": []
  },
  {
   "cell_type": "code",
   "execution_count": 293,
   "metadata": {},
   "outputs": [
    {
     "name": "stdout",
     "output_type": "stream",
     "text": [
      "Model: \"model_8\"\n",
      "__________________________________________________________________________________________________\n",
      " Layer (type)                   Output Shape         Param #     Connected to                     \n",
      "==================================================================================================\n",
      " input_24 (InputLayer)          [(None, 26)]         0           []                               \n",
      "                                                                                                  \n",
      " input_23 (InputLayer)          [(None, 26)]         0           []                               \n",
      "                                                                                                  \n",
      " embedding_5 (Embedding)        (None, 26, 300)      340500      ['input_23[0][0]',               \n",
      "                                                                  'input_24[0][0]']               \n",
      "                                                                                                  \n",
      " lstm_14 (LSTM)                 [(None, 26, 800),    3523200     ['embedding_5[0][0]']            \n",
      "                                 (None, 800),                                                     \n",
      "                                 (None, 800)]                                                     \n",
      "                                                                                                  \n",
      " lstm_15 (LSTM)                 [(None, 26, 800),    5123200     ['lstm_14[0][0]']                \n",
      "                                 (None, 800),                                                     \n",
      "                                 (None, 800)]                                                     \n",
      "                                                                                                  \n",
      " lstm_16 (LSTM)                 [(None, 26, 800),    3523200     ['embedding_5[1][0]',            \n",
      "                                 (None, 800),                     'lstm_15[0][1]',                \n",
      "                                 (None, 800)]                     'lstm_15[0][2]']                \n",
      "                                                                                                  \n",
      " lstm_17 (LSTM)                 [(None, 26, 800),    5123200     ['lstm_16[0][0]',                \n",
      "                                 (None, 800),                     'lstm_14[0][1]',                \n",
      "                                 (None, 800)]                     'lstm_14[0][2]']                \n",
      "                                                                                                  \n",
      " dropout_1 (Dropout)            (None, 26, 800)      0           ['lstm_17[0][0]']                \n",
      "                                                                                                  \n",
      " dense_4 (Dense)                (None, 26, 1134)     908334      ['dropout_1[0][0]']              \n",
      "                                                                                                  \n",
      "==================================================================================================\n",
      "Total params: 18,541,634\n",
      "Trainable params: 18,541,634\n",
      "Non-trainable params: 0\n",
      "__________________________________________________________________________________________________\n"
     ]
    }
   ],
   "source": [
    "model.summary()"
   ]
  },
  {
   "attachments": {},
   "cell_type": "markdown",
   "metadata": {},
   "source": [
    "To use modell have to use Interence\n",
    "To use the modell we need the enc_states"
   ]
  },
  {
   "cell_type": "code",
   "execution_count": 294,
   "metadata": {},
   "outputs": [
    {
     "ename": "ValueError",
     "evalue": "Graph disconnected: cannot obtain value for tensor KerasTensor(type_spec=TensorSpec(shape=(None, 26), dtype=tf.float32, name='input_23'), name='input_23', description=\"created by layer 'input_23'\") at layer \"embedding_5\". The following previous layers were accessed without issue: []",
     "output_type": "error",
     "traceback": [
      "\u001b[1;31m---------------------------------------------------------------------------\u001b[0m",
      "\u001b[1;31mValueError\u001b[0m                                Traceback (most recent call last)",
      "Cell \u001b[1;32mIn[294], line 1\u001b[0m\n\u001b[1;32m----> 1\u001b[0m enc_model \u001b[39m=\u001b[39m Model([enc_inp], enc_states)\n\u001b[0;32m      3\u001b[0m \u001b[39m# decoder Model\u001b[39;00m\n\u001b[0;32m      4\u001b[0m decoder_state_input_h \u001b[39m=\u001b[39m Input(shape\u001b[39m=\u001b[39m(\u001b[39m800\u001b[39m,))\n",
      "File \u001b[1;32mc:\\Users\\Ben\\anaconda3\\envs\\Test\\lib\\site-packages\\tensorflow\\python\\trackable\\base.py:205\u001b[0m, in \u001b[0;36mno_automatic_dependency_tracking.<locals>._method_wrapper\u001b[1;34m(self, *args, **kwargs)\u001b[0m\n\u001b[0;32m    203\u001b[0m \u001b[39mself\u001b[39m\u001b[39m.\u001b[39m_self_setattr_tracking \u001b[39m=\u001b[39m \u001b[39mFalse\u001b[39;00m  \u001b[39m# pylint: disable=protected-access\u001b[39;00m\n\u001b[0;32m    204\u001b[0m \u001b[39mtry\u001b[39;00m:\n\u001b[1;32m--> 205\u001b[0m   result \u001b[39m=\u001b[39m method(\u001b[39mself\u001b[39;49m, \u001b[39m*\u001b[39;49margs, \u001b[39m*\u001b[39;49m\u001b[39m*\u001b[39;49mkwargs)\n\u001b[0;32m    206\u001b[0m \u001b[39mfinally\u001b[39;00m:\n\u001b[0;32m    207\u001b[0m   \u001b[39mself\u001b[39m\u001b[39m.\u001b[39m_self_setattr_tracking \u001b[39m=\u001b[39m previous_value  \u001b[39m# pylint: disable=protected-access\u001b[39;00m\n",
      "File \u001b[1;32mc:\\Users\\Ben\\anaconda3\\envs\\Test\\lib\\site-packages\\keras\\engine\\functional.py:167\u001b[0m, in \u001b[0;36mFunctional.__init__\u001b[1;34m(self, inputs, outputs, name, trainable, **kwargs)\u001b[0m\n\u001b[0;32m    158\u001b[0m     \u001b[39mif\u001b[39;00m \u001b[39mnot\u001b[39;00m \u001b[39mall\u001b[39m(\n\u001b[0;32m    159\u001b[0m         [\n\u001b[0;32m    160\u001b[0m             functional_utils\u001b[39m.\u001b[39mis_input_keras_tensor(t)\n\u001b[0;32m    161\u001b[0m             \u001b[39mfor\u001b[39;00m t \u001b[39min\u001b[39;00m tf\u001b[39m.\u001b[39mnest\u001b[39m.\u001b[39mflatten(inputs)\n\u001b[0;32m    162\u001b[0m         ]\n\u001b[0;32m    163\u001b[0m     ):\n\u001b[0;32m    164\u001b[0m         inputs, outputs \u001b[39m=\u001b[39m functional_utils\u001b[39m.\u001b[39mclone_graph_nodes(\n\u001b[0;32m    165\u001b[0m             inputs, outputs\n\u001b[0;32m    166\u001b[0m         )\n\u001b[1;32m--> 167\u001b[0m \u001b[39mself\u001b[39;49m\u001b[39m.\u001b[39;49m_init_graph_network(inputs, outputs)\n",
      "File \u001b[1;32mc:\\Users\\Ben\\anaconda3\\envs\\Test\\lib\\site-packages\\tensorflow\\python\\trackable\\base.py:205\u001b[0m, in \u001b[0;36mno_automatic_dependency_tracking.<locals>._method_wrapper\u001b[1;34m(self, *args, **kwargs)\u001b[0m\n\u001b[0;32m    203\u001b[0m \u001b[39mself\u001b[39m\u001b[39m.\u001b[39m_self_setattr_tracking \u001b[39m=\u001b[39m \u001b[39mFalse\u001b[39;00m  \u001b[39m# pylint: disable=protected-access\u001b[39;00m\n\u001b[0;32m    204\u001b[0m \u001b[39mtry\u001b[39;00m:\n\u001b[1;32m--> 205\u001b[0m   result \u001b[39m=\u001b[39m method(\u001b[39mself\u001b[39;49m, \u001b[39m*\u001b[39;49margs, \u001b[39m*\u001b[39;49m\u001b[39m*\u001b[39;49mkwargs)\n\u001b[0;32m    206\u001b[0m \u001b[39mfinally\u001b[39;00m:\n\u001b[0;32m    207\u001b[0m   \u001b[39mself\u001b[39m\u001b[39m.\u001b[39m_self_setattr_tracking \u001b[39m=\u001b[39m previous_value  \u001b[39m# pylint: disable=protected-access\u001b[39;00m\n",
      "File \u001b[1;32mc:\\Users\\Ben\\anaconda3\\envs\\Test\\lib\\site-packages\\keras\\engine\\functional.py:266\u001b[0m, in \u001b[0;36mFunctional._init_graph_network\u001b[1;34m(self, inputs, outputs)\u001b[0m\n\u001b[0;32m    263\u001b[0m     \u001b[39mself\u001b[39m\u001b[39m.\u001b[39m_input_coordinates\u001b[39m.\u001b[39mappend((layer, node_index, tensor_index))\n\u001b[0;32m    265\u001b[0m \u001b[39m# Keep track of the network's nodes and layers.\u001b[39;00m\n\u001b[1;32m--> 266\u001b[0m nodes, nodes_by_depth, layers, _ \u001b[39m=\u001b[39m _map_graph_network(\n\u001b[0;32m    267\u001b[0m     \u001b[39mself\u001b[39;49m\u001b[39m.\u001b[39;49minputs, \u001b[39mself\u001b[39;49m\u001b[39m.\u001b[39;49moutputs\n\u001b[0;32m    268\u001b[0m )\n\u001b[0;32m    269\u001b[0m \u001b[39mself\u001b[39m\u001b[39m.\u001b[39m_network_nodes \u001b[39m=\u001b[39m nodes\n\u001b[0;32m    270\u001b[0m \u001b[39mself\u001b[39m\u001b[39m.\u001b[39m_nodes_by_depth \u001b[39m=\u001b[39m nodes_by_depth\n",
      "File \u001b[1;32mc:\\Users\\Ben\\anaconda3\\envs\\Test\\lib\\site-packages\\keras\\engine\\functional.py:1142\u001b[0m, in \u001b[0;36m_map_graph_network\u001b[1;34m(inputs, outputs)\u001b[0m\n\u001b[0;32m   1140\u001b[0m \u001b[39mfor\u001b[39;00m x \u001b[39min\u001b[39;00m tf\u001b[39m.\u001b[39mnest\u001b[39m.\u001b[39mflatten(node\u001b[39m.\u001b[39mkeras_inputs):\n\u001b[0;32m   1141\u001b[0m     \u001b[39mif\u001b[39;00m \u001b[39mid\u001b[39m(x) \u001b[39mnot\u001b[39;00m \u001b[39min\u001b[39;00m computable_tensors:\n\u001b[1;32m-> 1142\u001b[0m         \u001b[39mraise\u001b[39;00m \u001b[39mValueError\u001b[39;00m(\n\u001b[0;32m   1143\u001b[0m             \u001b[39m\"\u001b[39m\u001b[39mGraph disconnected: cannot obtain value for \u001b[39m\u001b[39m\"\u001b[39m\n\u001b[0;32m   1144\u001b[0m             \u001b[39mf\u001b[39m\u001b[39m'\u001b[39m\u001b[39mtensor \u001b[39m\u001b[39m{\u001b[39;00mx\u001b[39m}\u001b[39;00m\u001b[39m at layer \u001b[39m\u001b[39m\"\u001b[39m\u001b[39m{\u001b[39;00mlayer\u001b[39m.\u001b[39mname\u001b[39m}\u001b[39;00m\u001b[39m\"\u001b[39m\u001b[39m. \u001b[39m\u001b[39m'\u001b[39m\n\u001b[0;32m   1145\u001b[0m             \u001b[39m\"\u001b[39m\u001b[39mThe following previous layers were accessed \u001b[39m\u001b[39m\"\u001b[39m\n\u001b[0;32m   1146\u001b[0m             \u001b[39mf\u001b[39m\u001b[39m\"\u001b[39m\u001b[39mwithout issue: \u001b[39m\u001b[39m{\u001b[39;00mlayers_with_complete_input\u001b[39m}\u001b[39;00m\u001b[39m\"\u001b[39m\n\u001b[0;32m   1147\u001b[0m         )\n\u001b[0;32m   1148\u001b[0m \u001b[39mfor\u001b[39;00m x \u001b[39min\u001b[39;00m tf\u001b[39m.\u001b[39mnest\u001b[39m.\u001b[39mflatten(node\u001b[39m.\u001b[39moutputs):\n\u001b[0;32m   1149\u001b[0m     computable_tensors\u001b[39m.\u001b[39madd(\u001b[39mid\u001b[39m(x))\n",
      "\u001b[1;31mValueError\u001b[0m: Graph disconnected: cannot obtain value for tensor KerasTensor(type_spec=TensorSpec(shape=(None, 26), dtype=tf.float32, name='input_23'), name='input_23', description=\"created by layer 'input_23'\") at layer \"embedding_5\". The following previous layers were accessed without issue: []"
     ]
    }
   ],
   "source": [
    "enc_model = Model([enc_inp], enc_states)\n",
    "\n",
    "# decoder Model\n",
    "decoder_state_input_h = Input(shape=(800,))\n",
    "decoder_state_input_c = Input(shape=(800,))\n",
    "\n",
    "decoder_states_inputs = [decoder_state_input_h, decoder_state_input_c]\n",
    "\n",
    "# wir verwenden LSTM units mit den trainierten states\n",
    "# h war hidden state mit Information Kontext \n",
    "# c cell state mit Inforamtion über Abhängigkeiten\n",
    "decoder_outputs, state_h, state_c = dec_lstm(dec_embed , \n",
    "                                    initial_state=decoder_states_inputs)\n",
    "\n",
    "decoder_states = [state_h, state_c]\n",
    "\n",
    "dec_model = Model([dec_inp]+ decoder_states_inputs,\n",
    "                                      [decoder_outputs]+ decoder_states)"
   ]
  },
  {
   "cell_type": "code",
   "execution_count": null,
   "metadata": {},
   "outputs": [
    {
     "name": "stdout",
     "output_type": "stream",
     "text": [
      "[8, 9, 2, 3, 1131]\n"
     ]
    }
   ],
   "source": [
    "def create_pred_input(sentence):\n",
    "    X_in = []\n",
    "    for word in sentence.lower().split():\n",
    "        try:\n",
    "            X_in.append(vocab[word])\n",
    "        except:\n",
    "            X_in.append(vocab['<OUT>'])\n",
    "            pass\n",
    "    print(X_in)    \n",
    "    return pad_sequences([X_in], longest_sequence, padding='post')\n",
    "\n",
    "input_for_prediction = create_pred_input('What is Tacotron 2 ?')"
   ]
  },
  {
   "cell_type": "code",
   "execution_count": null,
   "metadata": {},
   "outputs": [],
   "source": [
    "def predict_sentence(sentences):\n",
    "    sentences = make_clean(sentences)\n",
    "    for sentence in sentences:\n",
    "        print(\"Question  : \" + sentence + \"/n\")\n",
    "        pred_input = create_pred_input(sentence)\n",
    "        stat = enc_model.predict(pred_input)\n",
    "        print(\"make predicted Input for \" + str(pred_input))\n",
    "        empty_target_seq = np.zeros( ( 1 , 1) )\n",
    "        ##   empty_target_seq = [0]\n",
    "        empty_target_seq[0, 0] = vocab['<SOS>']       \n",
    "\n",
    "        stop_condition = False\n",
    "        decoded_translation = ''\n",
    "        while not stop_condition :\n",
    "\n",
    "            dec_outputs , h, c= dec_model.predict([ empty_target_seq] + stat )\n",
    "            decoder_concat_input = dense(dec_outputs)\n",
    "            ## decoder_concat_input = [0.1, 0.2, .4, .0, ...............]\n",
    "\n",
    "            sampled_word_index = np.argmax( decoder_concat_input[0, -1, :] )\n",
    "            ## sampled_word_index = [2]\n",
    "\n",
    "            sampled_word = inv_vocab[sampled_word_index] + ' '\n",
    "\n",
    "            ## inv_vocab[2] = 'hi'\n",
    "            ## sampled_word = 'hi '\n",
    "\n",
    "            if sampled_word != '<EOS> ':\n",
    "                decoded_translation += sampled_word  \n",
    "\n",
    "            if sampled_word == '<EOS> ' or len(decoded_translation.split()) > longest_sequence:\n",
    "                stop_condition = True \n",
    "\n",
    "            empty_target_seq = np.zeros( ( 1 , 1 ) )  \n",
    "            empty_target_seq[ 0 , 0 ] = sampled_word_index\n",
    "            ## <SOS> - > hi\n",
    "            ## hi --> <EOS>\n",
    "            stat = [h, c]  \n",
    "\n",
    "        print(\"chatbot : \", decoded_translation )\n",
    "        print(\"============================================== \\n\")  "
   ]
  },
  {
   "cell_type": "code",
   "execution_count": null,
   "metadata": {},
   "outputs": [
    {
     "name": "stdout",
     "output_type": "stream",
     "text": [
      "Question  : how does tacotron 2 utilize a sequencetosequence architecture/n\n",
      "[0, 1, 2, 3, 4, 5, 6, 7]\n",
      "1/1 [==============================] - 0s 24ms/step\n",
      "make predicted Input for [[0 1 2 3 4 5 6 7 0 0 0 0 0 0 0 0 0 0 0 0 0 0 0 0 0 0]]\n",
      "1/1 [==============================] - 0s 22ms/step\n",
      "1/1 [==============================] - 0s 19ms/step\n",
      "1/1 [==============================] - 0s 20ms/step\n",
      "1/1 [==============================] - 0s 19ms/step\n",
      "1/1 [==============================] - 0s 19ms/step\n",
      "1/1 [==============================] - 0s 17ms/step\n",
      "1/1 [==============================] - 0s 17ms/step\n",
      "1/1 [==============================] - 0s 18ms/step\n",
      "1/1 [==============================] - 0s 18ms/step\n",
      "1/1 [==============================] - 0s 18ms/step\n",
      "1/1 [==============================] - 0s 18ms/step\n",
      "1/1 [==============================] - 0s 17ms/step\n",
      "chatbot :  tacotron 2 utilizes lstm to model temporal dependencies in speech generation \n",
      "============================================== \n",
      "\n",
      "Question  : what is the purpose of the spectral encoder in tacotron 2/n\n",
      "[8, 9, 10, 11, 12, 10, 13, 14, 15, 2, 3]\n",
      "1/1 [==============================] - 0s 21ms/step\n",
      "make predicted Input for [[ 8  9 10 11 12 10 13 14 15  2  3  0  0  0  0  0  0  0  0  0  0  0  0  0\n",
      "   0  0]]\n",
      "1/1 [==============================] - 0s 16ms/step\n",
      "1/1 [==============================] - 0s 17ms/step\n",
      "1/1 [==============================] - 0s 17ms/step\n",
      "1/1 [==============================] - 0s 17ms/step\n",
      "1/1 [==============================] - 0s 17ms/step\n",
      "1/1 [==============================] - 0s 16ms/step\n",
      "1/1 [==============================] - 0s 24ms/step\n",
      "1/1 [==============================] - 0s 20ms/step\n",
      "1/1 [==============================] - 0s 20ms/step\n",
      "1/1 [==============================] - 0s 18ms/step\n",
      "1/1 [==============================] - 0s 17ms/step\n",
      "1/1 [==============================] - 0s 19ms/step\n",
      "1/1 [==============================] - 0s 17ms/step\n",
      "1/1 [==============================] - 0s 17ms/step\n",
      "chatbot :  the spectral encoder in tacotron 2 extracts acoustic features from the input text \n",
      "============================================== \n",
      "\n",
      "Question  : how does tacotron 2 generate speech from spectrograms/n\n",
      "[0, 1, 2, 3, 16, 17, 18, 19]\n",
      "1/1 [==============================] - 0s 25ms/step\n",
      "make predicted Input for [[ 0  1  2  3 16 17 18 19  0  0  0  0  0  0  0  0  0  0  0  0  0  0  0  0\n",
      "   0  0]]\n",
      "1/1 [==============================] - 0s 19ms/step\n",
      "1/1 [==============================] - 0s 18ms/step\n",
      "1/1 [==============================] - 0s 16ms/step\n",
      "1/1 [==============================] - 0s 16ms/step\n",
      "1/1 [==============================] - 0s 18ms/step\n",
      "1/1 [==============================] - 0s 17ms/step\n",
      "1/1 [==============================] - 0s 16ms/step\n",
      "1/1 [==============================] - 0s 17ms/step\n",
      "1/1 [==============================] - 0s 17ms/step\n",
      "1/1 [==============================] - 0s 26ms/step\n",
      "chatbot :  tacotron 2 generates speech by converting spectrograms into waveforms \n",
      "============================================== \n",
      "\n"
     ]
    }
   ],
   "source": [
    "Testset = [\"How does Tacotron 2 utilize a Sequence-to-Sequence architecture?\",\n",
    "\"What is the purpose of the Spectral Encoder in Tacotron 2?\",\n",
    "\"How does Tacotron 2 generate speech from spectrograms?\"\n",
    "\"What is the role of the WaveNet Vocoder in Tacotron 2\",\n",
    "\"How are character embeddings used in Tacotron 2?\",\n",
    "\"What are the advantages of using convolutional networks in Tacotron 2?\"]\n",
    "#print(])\n",
    "predict_sentence([questions[0],questions[1],questions[2]])\n",
    "#predict_sentence(answers[0])"
   ]
  },
  {
   "cell_type": "code",
   "execution_count": null,
   "metadata": {},
   "outputs": [
    {
     "name": "stdout",
     "output_type": "stream",
     "text": [
      "{'how': 0, 'does': 1, 'tacotron': 2, '2': 3, 'utilize': 4, 'a': 5, 'sequencetosequence': 6, 'architecture': 7, 'what': 8, 'is': 9, 'the': 10, 'purpose': 11, 'of': 12, 'spectral': 13, 'encoder': 14, 'in': 15, 'generate': 16, 'speech': 17, 'from': 18, 'spectrograms': 19, 'role': 20, 'wavenet': 21, 'vocoder': 22, 'are': 23, 'character': 24, 'embeddings': 25, 'used': 26, 'advantages': 27, 'using': 28, 'convolutional': 29, 'networks': 30, 'lstm': 31, 'long': 32, 'shortterm': 33, 'memory': 34, 'relationship': 35, 'between': 36, 'and': 37, 'synthesis': 38, 'handle': 39, 'sentences': 40, 'improvements': 41, 'bring': 42, 'compared': 43, 'to': 44, 'its': 45, 'previous': 46, 'version': 47, 'variations': 48, 'pitch': 49, 'intonation': 50, 'challenges': 51, 'face': 52, 'handling': 53, 'different': 54, 'languages': 55, 'multiple': 56, 'speakers': 57, 'techniques': 58, 'employ': 59, 'ensure': 60, 'naturalsounding': 61, 'with': 62, 'background': 63, 'noise': 64, 'limitations': 65, 'terms': 66, 'generating': 67, 'deal': 68, 'outofvocabulary': 69, 'words': 70, 'accents': 71, 'computational': 72, 'requirements': 73, 'for': 74, 'training': 75, 'emotional': 76, 'expressions': 77, 'data': 78, 'train': 79, 'at': 80, 'speeds': 81, 'future': 82, 'research': 83, 'directions': 84, 'improving': 85, 'deep': 86, 'learning': 87, 'text': 88, 'play': 89, 'characters': 90, 'encoded': 91, 'function': 92, 'main': 93, 'technical': 94, 'implementing': 95, 'input': 96, 'sequences': 97, 'improve': 98, 'quality': 99, 'resources': 100, 'required': 101, 'process': 102, 'noisy': 103, 'attention': 104, 'mechanisms': 105, 'prosody': 106, 'impact': 107, 'batch': 108, 'size': 109, 'on': 110, 'speaker': 111, 'adaptation': 112, 'compare': 113, 'other': 114, 'models': 115, 'performance': 116, 'contribute': 117, '2s': 118, 'can': 119, 'you': 120, 'explain': 121, 'embedding': 122, 'significance': 123, 'generation': 124, 'waveforms': 125, 'texttospeech': 126, 'complex': 127, 'during': 128, 'brief': 129, 'some': 130, 'applications': 131, 'field': 132, 'distortion': 133, 'audio': 134, 'potential': 135, 'be': 136, 'realtime': 137, 'use': 138, 'punctuation': 139, 'emphasis': 140, 'synthesized': 141, 'finetuned': 142, 'specific': 143, 'domains': 144, 'or': 145, 'styles': 146, 'deploying': 147, 'do': 148, 'output': 149, 'format': 150, 'mechanism': 151, 'implemented': 152, 'advantage': 153, 'over': 154, 'traditional': 155, 'methods': 156, 'texts': 157, 'components': 158, 'pauses': 159, 'expressive': 160, 'implement': 161, 'key': 162, 'building': 163, 'normalization': 164, 'capitalization': 165, 'conversion': 166, 'complexity': 167, 'sounds': 168, 'rate': 169, 'speaking': 170, 'style': 171, 'tasks': 172, 'work': 173, 'neural': 174, '1': 175, 'longrange': 176, 'dependencies': 177, 'benefit': 178, 'approach': 179, 'lowquality': 180, 'dataset': 181, 'preprocessing': 182, 'stateoftheart': 183, 'concept': 184, 'zeichenembedding': 185, 'layer': 186, 'synthesize': 187, 'lowresource': 188, 'emotions': 189, 'cost': 190, 'running': 191, 'besides': 192, 'ambiguous': 193, 'homophone': 194, 'natural': 195, 'language': 196, 'processing': 197, 'systems': 198, 'convert': 199, 'into': 200, 'waveform': 201, 'synthesizer': 202, 'units': 203, 'naturalness': 204, 'generated': 205, 'datasets': 206, 'hyperparameters': 207, 'disfluencies': 208, 'melspectrogram': 209, 'benefits': 210, 'differ': 211, 'original': 212, 'model': 213, 'developments': 214, 'current': 215, 'trends': 216, 'like': 217, 'incorporate': 218, 'optimize': 219, 'efficient': 220, 'inference': 221, 'difference': 222, 'multispeaker': 223, 'address': 224, 'tradeoff': 225, 'intelligibility': 226, 'capabilities': 227, 'architectures': 228, 'utilized': 229, 'overcome': 230, 'issue': 231, 'clarity': 232, 'transfer': 233, 'kind': 234, 'take': 235, 'structured': 236, 'larger': 237, 'silences': 238, 'decoder': 239, 'phonetic': 240, 'nonlinguistic': 241, 'effects': 242, 'component': 243, 'mel': 244, 'arise': 245, 'when': 246, 'than': 247, 'english': 248, 'realworld': 249, 'scenarios': 250, 'voice': 251, 'cloning': 252, 'linguistic': 253, 'nuances': 254, 'context': 255, 'combined': 256, 'such': 257, 'as': 258, 'highquality': 259, 'assistants': 260, 'audiobook': 261, 'production': 262, 'pronunciation': 263, 'trained': 264, 'alternatives': 265, 'multilingual': 266, 'integrate': 267, 'describe': 268, 'variation': 269, 'individuality': 270, 'expressiveness': 271, 'run': 272, 'accuracy': 273, 'embedded': 274, 'tradeoffs': 275, 'errors': 276, 'achieve': 277, 'interference': 278, 'large': 279, 'rhythm': 280, 'customization': 281, 'advancements': 282, 'speed': 283, 'tempo': 284, 'objective': 285, 'alignment': 286, 'efficiency': 287, 'perform': 288, 'voices': 289, 'versions': 290, 'represented': 291, 'realistic': 292, 'rare': 293, 'limited': 294, 'gender': 295, 'age': 296, 'algorithms': 297, 'largescale': 298, 'further': 299, 'improved': 300, 'achieved': 301, 'leverage': 302, 'longterm': 303, 'upon': 304, 'predecessor': 305, 'characteristics': 306, 'phonemes': 307, 'inputs': 308, 'offer': 309, 'prevent': 310, 'overfitting': 311, 'signals': 312, 'adapted': 313, 'beyond': 314, 'extensions': 315, 'variablelength': 316, 'adapting': 317, 'environmental': 318, 'factors': 319, 'features': 320, 'laughter': 321, 'breath': 322, 'disfluent': 323, 'noises': 324, 'sequencertosequencer': 325, 'signal': 326, 'unclear': 327, 'vocoding': 328, 'melspectrograms': 329, 'oov': 330, 'twostep': 331, 'textencoder': 332, 'proper': 333, 'nouns': 334, 'diacritics': 335, 'encoderdecoder': 336, 'postnet': 337, 'genders': 338, 'ages': 339, 'f0': 340, 'conditioning': 341, 'duration': 342, 'dialects': 343, 'meldecoder': 344, 'rates': 345, 'characterembedding': 346, 'layers': 347, 'levels': 348, 'recording': 349, 'conditions': 350, 'residual': 351, 'connections': 352, 'microphones': 353, 'devices': 354, 'sampling': 355, 'prenet': 356, 'postprocessing': 357, 'mouth': 358, 'shapes': 359, 'batchnormalization': 360, 'relu': 361, 'activation': 362, 'music': 363, 'sound': 364, 'reverberation': 365, 'dropout': 366, 'adam': 367, 'optimizer': 368, 'movements': 369, 'head': 370, 'facial': 371, 'body': 372, 'postures': 373, 'sentence': 374, 'structures': 375, 'linear': 376, 'singing': 377, 'musical': 378, 'genres': 379, 'instruments': 380, 'multihead': 381, 'dilated': 382, 'convolution': 383, 'spectrogram': 384, 'frequencies': 385, 'softmax': 386, 'sigmoid': 387, 'volumes': 388, 'block': 389, 'drama': 390, 'comedy': 391, 'poetry': 392, 'storytelling': 393, 'news': 394, 'reporting': 395, 'gated': 396, 'sports': 397, 'commentary': 398, 'podcasting': 399, 'radio': 400, 'broadcasting': 401, 'acting': 402, 'public': 403, 'education': 404, 'audiobooks': 405, 'concatenation': 406, 'transpose': 407, 'highway': 408, 'network': 409, 'artificial': 410, 'intelligence': 411, 'chatbots': 412, 'virtual': 413, 'robotics': 414, 'gaming': 415, 'global': 416, 'local': 417, 'upsampling': 418, 'asmr': 419, 'meditation': 420, 'hypnosis': 421, 'relaxation': 422, 'sleep': 423, 'aid': 424, 'therapy': 425, 'timedelay': 426, 'logarithmic': 427, 'branding': 428, 'advertising': 429, 'voiceovers': 430, 'jingles': 431, 'design': 432, 'causal': 433, 'video': 434, 'games': 435, 'augmented': 436, 'reality': 437, 'positional': 438, 'encoding': 439, 'elearning': 440, 'moocs': 441, 'instructional': 442, 'videos': 443, 'fast': 444, 'fourier': 445, 'transform': 446, 'inverse': 447, 'audiometry': 448, 'hearing': 449, 'aids': 450, 'cochlear': 451, 'implants': 452, 'telemedicine': 453, 'remote': 454, 'conferencing': 455, 'bidirectional': 456, 'teaching': 457, 'translation': 458, 'recognition': 459, 'authentication': 460, 'recurrent': 461, 'unit': 462, 'speechtotext': 463, 'coding': 464, 'beam': 465, 'search': 466, 'greedy': 467, 'decoding': 468, 'compression': 469, 'enhancement': 470, 'zeropadding': 471, 'melfrequency': 472, 'cepstral': 473, 'coefficients': 474, 'shorttime': 475, 'denoising': 476, 'convergence': 477, 'clipping': 478, 'contrast': 479, 'stretching': 480, 'subtraction': 481, 'smoothing': 482, 'widening': 483, 'padding': 484, 'magnitude': 485, 'overlapping': 486, 'scaling': 487, 'phase': 488, 'inversion': 489, 'envelope': 490, 'frame': 491, 'shift': 492, 'resolution': 493, 'frequency': 494, 'range': 495, 'window': 496, 'it': 497, 'finetune': 498, 'augmentation': 499, 'effect': 500, 'nonenglish': 501, 'networkbased': 502, 'short': 503, 'loss': 504, 'functions': 505, 'optimizers': 506, 'homonyms': 507, 'homophones': 508, 'sarcasm': 509, 'irony': 510, 'spoken': 511, 'vs': 512, 'written': 513, 'slang': 514, 'informal': 515, 'types': 516, 'affective': 517, 'interruptions': 518, 'hesitation': 519, 'uncertainty': 520, 'breathing': 521, 'abbreviations': 522, 'acronyms': 523, 'foreign': 524, 'phrases': 525, 'sizes': 526, 'stride': 527, 'tone': 528, 'schedules': 529, 'nonstandard': 530, 'spellings': 531, 'typos': 532, 'depths': 533, 'widths': 534, 'weight': 535, 'initialization': 536, 'boundaries': 537, 'contractions': 538, 'elisions': 539, 'homograph': 540, 'disambiguation': 541, 'meanings': 542, 'decay': 543, 'gradient': 544, 'contextdependent': 545, 'distributions': 546, 'tying': 547, 'regularization': 548, 'tokenization': 549, 'named': 550, 'entities': 551, 'idiomatic': 552, 'compound': 553, 'early': 554, 'stopping': 555, 'criteria': 556, 'phrasal': 557, 'verbs': 558, 'strengths': 559, 'pooling': 560, 'pronouns': 561, 'hidden': 562, 'derivatives': 563, 'negation': 564, 'double': 565, 'negatives': 566, 'positions': 567, 'syntactic': 568, 'ambiguity': 569, 'factor': 570, 'uses': 571, 'mapping': 572, 'encodes': 573, 'predicted': 574, 'acoustic': 575, 'synthesizes': 576, 'by': 577, 'converting': 578, 'generates': 579, 'represent': 580, 'help': 581, 'capture': 582, 'utilizes': 583, 'modeling': 584, 'sequential': 585, 'handles': 586, 'splitting': 587, 'them': 588, 'shorter': 589, 'segments': 590, 'brings': 591, 'robustness': 592, 'through': 593, 'faces': 594, 'due': 595, 'languagespecific': 596, 'employs': 597, 'autoregressive': 598, 'but': 599, 'may': 600, 'affect': 601, 'include': 602, 'occasional': 603, 'mispronunciations': 604, 'oversmoothed': 605, 'relying': 606, 'subword': 607, 'graphemetophoneme': 608, 'accentspecific': 609, 'requires': 610, 'significant': 611, 'including': 612, 'gpus': 613, 'appropriate': 614, 'paired': 615, 'adjusting': 616, 'better': 617, 'learn': 618, 'converts': 619, 'sequence': 620, 'highlevel': 621, 'predicting': 622, 'transforms': 623, 'highresolution': 624, 'representation': 625, 'an': 626, 'feature': 627, 'extraction': 628, 'incorporates': 629, 'temporal': 630, 'hierarchical': 631, 'teacher': 632, 'forcing': 633, 'diverse': 634, 'system': 635, 'involves': 636, 'optimizing': 637, 'parameters': 638, 'focus': 639, 'relevant': 640, 'incorporating': 641, 'tokens': 642, 'affects': 643, 'usage': 644, 'adapt': 645, 'finetuning': 646, 'speakerspecific': 647, 'lack': 648, 'finegrained': 649, 'control': 650, 'outperforms': 651, 'many': 652, 'fixedlength': 653, 'improves': 654, 'combination': 655, 'encoders': 656, 'decoders': 657, 'helps': 658, 'continuous': 659, 'space': 660, 'extract': 661, 'plays': 662, 'enables': 663, 'highfidelity': 664, 'results': 665, 'various': 666, 'utilizing': 667, 'effectively': 668, 'minimize': 669, 'error': 670, 'has': 671, 'finds': 672, 'accessibility': 673, 'robust': 674, 'representations': 675, 'could': 676, 'hardware': 677, 'optimizations': 678, 'annotated': 679, 'specialized': 680, 'depend': 681, 'fixeddimensional': 682, 'higherlevel': 683, 'raw': 684, 'intermediate': 685, 'maps': 686, 'align': 687, 'fallback': 688, 'lexicon': 689, 'offers': 690, 'flexibility': 691, 'especially': 692, 'capturing': 693, 'fine': 694, 'details': 695, 'smaller': 696, 'chunks': 697, 'supervised': 698, 'extent': 699, 'based': 700, 'optimized': 701, 'implementations': 702, 'additional': 703, 'processes': 704, 'fixedsize': 705, 'more': 706, 'suitable': 707, 'information': 708, 'implements': 709, 'predict': 710, 'attentionbased': 711, 'preprocess': 712, 'reinforcement': 713, 'corresponding': 714, 'separate': 715, 'depends': 716, 'considered': 717, 'artifacts': 718, 'tools': 719, 'vector': 720, 'structure': 721, 'melscale': 722, 'sufficient': 723, 'optimal': 724, 'characterbased': 725, 'allows': 726, 'particularly': 727, 'producing': 728, 'part': 729, 'pipeline': 730, 'consists': 731, 'compares': 732, 'favorably': 733, 'contributes': 734, 'serves': 735, 'steps': 736, 'particular': 737, 'way': 738, 'poses': 739, 'considerable': 740, 'tackles': 741, 'performs': 742, 'well': 743, 'prosodic': 744, 'vectors': 745, 'challenging': 746, 'scarcity': 747, 'handled': 748, 'choice': 749, 'coverage': 750, 'samples': 751, 'number': 752, 'influence': 753, 'stability': 754, 'content': 755, 'containing': 756, 'fields': 757, 'voiceover': 758, 'this': 759, 'end': 760, 'questions': 761, 'fundamental': 762, 'ability': 763, 'provide': 764, 'compact': 765, 'that': 766, 'captures': 767, 'important': 768, 'dense': 769, 'collection': 770, 'optimization': 771, 'overreliance': 772, 'pronunciations': 773, 'similar': 774, 'applied': 775, 'time': 776, 'potentially': 777, 'extracts': 778, 'lowlevel': 779, 'map': 780, 'truncation': 781, 'chunking': 782, 'unsupervised': 783, 'characterlevel': 784, 'high': 785, 'frames': 786, 'relationships': 787, 'prediction': 788, 'optimizes': 789, 'parallelization': 790, 'lies': 791, 'addition': 792, 'external': 793, 'lexicons': 794, 'responsible': 795, 'balances': 796, 'subjective': 797, 'evaluation': 798, 'metrics': 799, 'pairs': 800, 'provides': 801, 'overcomes': 802, 'endtoend': 803, 'patterns': 804, 'difficulties': 805, 'approximating': 806, 'achieves': 807, 'narration': 808, 'scale': 809, 'takes': 810, 'teacherforcing': 811, 'guided': 812, 'textual': 813, 'cues': 814, 'predicts': 815, 'states': 816, 'unnaturalness': 817, 'leveraging': 818, 'aligns': 819, 'clone': 820, 'enhanced': 821, 'griffinlim': 822, 'algorithm': 823, 'represents': 824, 'each': 825, 'directly': 826, 'humanlike': 827, 'timefrequency': 828, 'need': 829, 'amount': 830, 'not': 831, 'designed': 832, 'length': 833, 'vocabulary': 834, 'crucial': 835, 'lowerdimensional': 836, 'integrates': 837, 'synthetic': 838, 'consisting': 839, 'textspeech': 840, 'parts': 841, 'being': 842, 'learned': 843, 'offline': 844, 'naturally': 845, 'occurring': 846, 'flexible': 847, 'roboticsounding': 848, 'subwordbased': 849, 'customized': 850, 'extracting': 851, 'parallelism': 852, 'obtaining': 853, 'aligned': 854, 'combining': 855, 'highdimensional': 856, 'latent': 857, 'outputs': 858, 'unusual': 859, 'nature': 860, 'substantial': 861, 'just': 862, 'requiring': 863, 'affected': 864, 'encode': 865, 'backpropagation': 866, 'descent': 867, 'amounts': 868, 'unseen': 869, 'vary': 870, 'depending': 871, 'injection': 872, 'create': 873, 'final': 874, 'their': 875, 'properties': 876, 'iterative': 877, 'updates': 878, 'enhance': 879, 'spelling': 880, 'involve': 881, 'exploring': 882, 'representing': 883, 'there': 884, 'strategies': 885, 'informative': 886, 'employed': 887, 'respective': 888, 'roles': 889, 'timedomain': 890, 'have': 891, 'achieving': 892, 'focuses': 893, 'presence': 894, 'low': 895, 'latency': 896, 'aims': 897, 'aspects': 898, 'demands': 899, 'robotic': 900, 'unnatural': 901, 'sounding': 902, 'modifications': 903, 'higherdimensional': 904, 'efficiently': 905, 'masking': 906, 'known': 907, 'assistant': 908, 'technologies': 909, 'noiseaware': 910, 'speakerindependent': 911, 'level': 912, 'differs': 913, 'architectural': 914, 'reduced': 915, 'supports': 916, 'manipulating': 917, 'trains': 918, 'addresses': 919, 'done': 920, 'issues': 921, 'capability': 922, 'cannot': 923, 'they': 924, 'within': 925, 'individual': 926, 'struggle': 927, 'leading': 928, 'inaccurate': 929, 'addressing': 930, 'biases': 931, 'numerical': 932, 'trainable': 933, 'melscaled': 934, 'computationally': 935, 'expensive': 936, 'examples': 937, 'syntax': 938, 'matrix': 939, 'accurate': 940, 'step': 941, 'towards': 942, 'adversarial': 943, 'dictionary': 944, 'dynamic': 945, 'rnn': 946, 'separates': 947, 'perfect': 948, 'slightly': 949, 'lower': 950, 'enhancements': 951, 'adding': 952, 'emotionspecific': 953, 'contour': 954, 'pretrained': 955, 'diacritictophoneme': 956, 'converter': 957, 'refines': 958, 'genderspecific': 959, 'agespecific': 960, 'phoneme': 961, 'phonemetographeme': 962, 'word': 963, 'enable': 964, 'microphonespecific': 965, 'devicespecific': 966, 'resampling': 967, 'retraining': 968, 'reduces': 969, 'lipsync': 970, 'normalizes': 971, 'applies': 972, 'nonlinearity': 973, 'musicaware': 974, 'prevents': 975, 'randomly': 976, 'dropping': 977, 'weights': 978, 'attends': 979, 'increases': 980, 'receptive': 981, 'probability': 982, 'distribution': 983, '0': 984, 'maintains': 985, 'depth': 986, 'adapts': 987, 'controls': 988, 'flow': 989, 'wavenets': 990, 'convolutions': 991, 'combines': 992, 'upsamples': 993, 'meaningful': 994, 'microphone': 995, 'device': 996, 'nonacoustic': 997, 'lowprobability': 998, 'events': 999, 'jingle': 1000, 'ensures': 1001, 'only': 1002, 'past': 1003, 'refine': 1004, 'adds': 1005, 'position': 1006, 'helping': 1007, 'order': 1008, 'activations': 1009, 'accelerating': 1010, 'educational': 1011, 'massive': 1012, 'open': 1013, 'online': 1014, 'courses': 1015, 'mooc': 1016, 'domain': 1017, 'back': 1018, 'audiological': 1019, 'contexts': 1020, 'therapeutic': 1021, 'customizing': 1022, 'implant': 1023, 'processors': 1024, 'medical': 1025, 'teleconsultations': 1026, 'conference': 1027, 'both': 1028, 'forward': 1029, 'backward': 1030, 'sides': 1031, 'instruction': 1032, 'related': 1033, 'variant': 1034, 'selectively': 1035, 'transcription': 1036, 'purposes': 1037, 'explores': 1038, 'paths': 1039, 'enhancing': 1040, 'strategy': 1041, 'selects': 1042, 'most': 1043, 'probable': 1044, 'maintain': 1045, 'preserves': 1046, 'scales': 1047, 'stabilize': 1048, 'measures': 1049, 'similarity': 1050, 'ground': 1051, 'truth': 1052, 'truncates': 1053, 'certain': 1054, 'emphasizes': 1055, 'peaks': 1056, 'resizes': 1057, 'fixed': 1058, 'estimates': 1059, 'removes': 1060, 'highfrequency': 1061, 'expands': 1062, 'zeros': 1063, 'match': 1064, 'desired': 1065, 'amplitude': 1066, 'adjusts': 1067, 'impacting': 1068, 'perceived': 1069, 'loudness': 1070, 'affecting': 1071, 'timing': 1072, 'harmonics': 1073, 'flips': 1074, 'spectrum': 1075, 'modifying': 1076, 'timbre': 1077, 'describes': 1078, 'shape': 1079, 'influencing': 1080, 'determines': 1081, 'framewindow': 1082, 'compute': 1083, 'defines': 1084, 'overlap': 1085, 'consecutive': 1086, 'frameswindows': 1087, 'computation': 1088, 'detail': 1089, 'sets': 1090, 'covered': 1091, 'reducing': 1092, 'leakage': 1093, 'learningbased': 1094, 'produces': 1095, 'several': 1096, 'days': 1097, 'even': 1098, 'weeks': 1099, 'changing': 1100, 'add': 1101, 'advanced': 1102, 'produce': 1103, 'prepares': 1104, 'pronounce': 1105, 'correctly': 1106, 'windows': 1107, 'strides': 1108, 'contours': 1109, 'cyclic': 1110, 'reduce': 1111, 'generally': 1112, 'correct': 1113, 'deepr': 1114, 'wider': 1115, 'require': 1116, 'xavier': 1117, 'pause': 1118, 'beams': 1119, 'l2': 1120, 'norm': 1121, 'square': 1122, 'root': 1123, 'no': 1124, 'clear': 1125, 'best': 1126, 'method': 1127, 'along': 1128, '<PAD>': 0, '<EOS>': 1130, '<OUT>': 1131, '<SOS>': 1132, 'cameron': 1129}\n"
     ]
    }
   ],
   "source": [
    "print(vocab)"
   ]
  },
  {
   "cell_type": "code",
   "execution_count": null,
   "metadata": {},
   "outputs": [
    {
     "name": "stdout",
     "output_type": "stream",
     "text": [
      "Question  : can the tacotron 2 deal with speech/n\n",
      "[119, 10, 2, 3, 68, 62, 17]\n",
      "1/1 [==============================] - 0s 22ms/step\n"
     ]
    },
    {
     "name": "stdout",
     "output_type": "stream",
     "text": [
      "make predicted Input for [[119  10   2   3  68  62  17   0   0   0   0   0   0   0   0   0   0   0\n",
      "    0   0   0   0   0   0   0   0]]\n",
      "1/1 [==============================] - 0s 22ms/step\n",
      "1/1 [==============================] - 0s 21ms/step\n",
      "1/1 [==============================] - 0s 22ms/step\n",
      "1/1 [==============================] - 0s 17ms/step\n",
      "1/1 [==============================] - 0s 17ms/step\n",
      "1/1 [==============================] - 0s 17ms/step\n",
      "1/1 [==============================] - 0s 16ms/step\n",
      "1/1 [==============================] - 0s 18ms/step\n",
      "1/1 [==============================] - 0s 18ms/step\n",
      "1/1 [==============================] - 0s 18ms/step\n",
      "1/1 [==============================] - 0s 18ms/step\n",
      "1/1 [==============================] - 0s 17ms/step\n",
      "chatbot :  tacotron 2 has advantages over traditional methods in generating natural speech \n",
      "============================================== \n",
      "\n",
      "Question  : can it generate speech/n\n",
      "[119, 497, 16, 17]\n",
      "1/1 [==============================] - 0s 22ms/step\n",
      "make predicted Input for [[119 497  16  17   0   0   0   0   0   0   0   0   0   0   0   0   0   0\n",
      "    0   0   0   0   0   0   0   0]]\n",
      "1/1 [==============================] - 0s 18ms/step\n",
      "1/1 [==============================] - 0s 17ms/step\n",
      "1/1 [==============================] - 0s 19ms/step\n",
      "1/1 [==============================] - 0s 17ms/step\n",
      "1/1 [==============================] - 0s 16ms/step\n",
      "1/1 [==============================] - 0s 16ms/step\n",
      "1/1 [==============================] - 0s 17ms/step\n",
      "1/1 [==============================] - 0s 18ms/step\n",
      "1/1 [==============================] - 0s 19ms/step\n",
      "1/1 [==============================] - 0s 19ms/step\n",
      "1/1 [==============================] - 0s 18ms/step\n",
      "1/1 [==============================] - 0s 26ms/step\n",
      "chatbot :  tacotron 2 has the potential to generate speech in multiple languages \n",
      "============================================== \n",
      "\n",
      "Question  : what are current challenges/n\n",
      "[8, 23, 215, 51]\n",
      "1/1 [==============================] - 0s 24ms/step\n",
      "make predicted Input for [[  8  23 215  51   0   0   0   0   0   0   0   0   0   0   0   0   0   0\n",
      "    0   0   0   0   0   0   0   0]]\n",
      "1/1 [==============================] - 0s 17ms/step\n",
      "1/1 [==============================] - 0s 18ms/step\n",
      "1/1 [==============================] - 0s 17ms/step\n",
      "1/1 [==============================] - 0s 17ms/step\n",
      "1/1 [==============================] - 0s 19ms/step\n",
      "1/1 [==============================] - 0s 17ms/step\n",
      "1/1 [==============================] - 0s 18ms/step\n",
      "1/1 [==============================] - 0s 18ms/step\n",
      "1/1 [==============================] - 0s 17ms/step\n",
      "1/1 [==============================] - 0s 18ms/step\n",
      "1/1 [==============================] - 0s 18ms/step\n",
      "1/1 [==============================] - 0s 17ms/step\n",
      "1/1 [==============================] - 0s 18ms/step\n",
      "chatbot :  training tacotron 2 is computationally expensive due to its deep learning architecture \n",
      "============================================== \n",
      "\n",
      "Question  : is it advantage/n\n",
      "[9, 497, 153]\n",
      "1/1 [==============================] - 0s 23ms/step\n",
      "make predicted Input for [[  9 497 153   0   0   0   0   0   0   0   0   0   0   0   0   0   0   0\n",
      "    0   0   0   0   0   0   0   0]]\n",
      "1/1 [==============================] - 0s 17ms/step\n",
      "1/1 [==============================] - 0s 18ms/step\n",
      "1/1 [==============================] - 0s 17ms/step\n",
      "1/1 [==============================] - 0s 16ms/step\n",
      "1/1 [==============================] - 0s 18ms/step\n",
      "1/1 [==============================] - 0s 18ms/step\n",
      "1/1 [==============================] - 0s 17ms/step\n",
      "1/1 [==============================] - 0s 16ms/step\n",
      "1/1 [==============================] - 0s 16ms/step\n",
      "1/1 [==============================] - 0s 17ms/step\n",
      "chatbot :  tacotron 2 implements a sequencetosequence architecture for speech synthesis \n",
      "============================================== \n",
      "\n"
     ]
    }
   ],
   "source": [
    "Testset = [\"Can the Tacotron 2 deal with speech\",\n",
    "           \"Can it generate speech\",\n",
    "           \"what are current challenges\",\n",
    "           \"Is it a sequence2sequ\"\n",
    "           ]\n",
    "predict_sentence(Testset)"
   ]
  },
  {
   "cell_type": "code",
   "execution_count": null,
   "metadata": {},
   "outputs": [
    {
     "name": "stdout",
     "output_type": "stream",
     "text": [
      "Question  : is tacotron an apple /n\n",
      "[9, 2, 626, 1131]\n",
      "1/1 [==============================] - 0s 24ms/step\n",
      "make predicted Input for [[   9    2  626 1131    0    0    0    0    0    0    0    0    0    0\n",
      "     0    0    0    0    0    0    0    0    0    0    0    0]]\n",
      "1/1 [==============================] - 0s 17ms/step\n",
      "1/1 [==============================] - 0s 18ms/step\n",
      "1/1 [==============================] - 0s 18ms/step\n",
      "1/1 [==============================] - 0s 19ms/step\n",
      "1/1 [==============================] - 0s 18ms/step\n",
      "1/1 [==============================] - 0s 18ms/step\n",
      "1/1 [==============================] - 0s 17ms/step\n",
      "1/1 [==============================] - 0s 17ms/step\n",
      "1/1 [==============================] - 0s 19ms/step\n",
      "1/1 [==============================] - 0s 21ms/step\n",
      "1/1 [==============================] - 0s 19ms/step\n",
      "1/1 [==============================] - 0s 17ms/step\n",
      "chatbot :  the training process for tacotron 2 involves teacherforcing and guided attention \n",
      "============================================== \n",
      "\n"
     ]
    }
   ],
   "source": [
    "Testset = [\"Is Tacotron an apple ?\"]\n",
    "predict_sentence(Testset)"
   ]
  },
  {
   "cell_type": "code",
   "execution_count": null,
   "metadata": {},
   "outputs": [],
   "source": [
    "def pad_sentence_batch(sentence_batch, pad_int):\n",
    "    padded_seqs = []\n",
    "    seq_lens = []\n",
    "    max_sentence_len = longest_sequence\n",
    "    for sentence in sentence_batch:\n",
    "        padded_seqs.append(sentence + [pad_int] * (max_sentence_len - len(sentence)))\n",
    "        seq_lens.append(longest_sequence)\n",
    "    return padded_seqs, seq_lens"
   ]
  },
  {
   "cell_type": "code",
   "execution_count": null,
   "metadata": {},
   "outputs": [
    {
     "ename": "TypeError",
     "evalue": "unsupported operand type(s) for /: 'int' and 'list'",
     "output_type": "error",
     "traceback": [
      "\u001b[1;31m---------------------------------------------------------------------------\u001b[0m",
      "\u001b[1;31mTypeError\u001b[0m                                 Traceback (most recent call last)",
      "Cell \u001b[1;32mIn[155], line 14\u001b[0m\n\u001b[0;32m     11\u001b[0m     input_batch[\u001b[39m0\u001b[39m] \u001b[39m=\u001b[39mtest[\u001b[39m0\u001b[39m]      \n\u001b[0;32m     12\u001b[0m     \u001b[39mreturn\u001b[39;00m model\u001b[39m.\u001b[39mpredict(test, seq_x)\n\u001b[1;32m---> 14\u001b[0m res \u001b[39m=\u001b[39m predict_sentence(\u001b[39m'\u001b[39;49m\u001b[39mWhat is Tacotron 2\u001b[39;49m\u001b[39m'\u001b[39;49m)    \n\u001b[0;32m     17\u001b[0m \u001b[39m#   result=' '.join(rev_dictionary_to[i] for i in log[0])\u001b[39;00m\n\u001b[0;32m     18\u001b[0m \u001b[39m#   return result\u001b[39;00m\n",
      "Cell \u001b[1;32mIn[155], line 12\u001b[0m, in \u001b[0;36mpredict_sentence\u001b[1;34m(sentence)\u001b[0m\n\u001b[0;32m     10\u001b[0m input_batch \u001b[39m=\u001b[39m np\u001b[39m.\u001b[39mzeros([\u001b[39m1\u001b[39m,seq_x[\u001b[39m0\u001b[39m]])\n\u001b[0;32m     11\u001b[0m input_batch[\u001b[39m0\u001b[39m] \u001b[39m=\u001b[39mtest[\u001b[39m0\u001b[39m]      \n\u001b[1;32m---> 12\u001b[0m \u001b[39mreturn\u001b[39;00m model\u001b[39m.\u001b[39;49mpredict(test, seq_x)\n",
      "File \u001b[1;32mc:\\Users\\Ben\\anaconda3\\envs\\Test\\lib\\site-packages\\keras\\utils\\traceback_utils.py:70\u001b[0m, in \u001b[0;36mfilter_traceback.<locals>.error_handler\u001b[1;34m(*args, **kwargs)\u001b[0m\n\u001b[0;32m     67\u001b[0m     filtered_tb \u001b[39m=\u001b[39m _process_traceback_frames(e\u001b[39m.\u001b[39m__traceback__)\n\u001b[0;32m     68\u001b[0m     \u001b[39m# To get the full stack trace, call:\u001b[39;00m\n\u001b[0;32m     69\u001b[0m     \u001b[39m# `tf.debugging.disable_traceback_filtering()`\u001b[39;00m\n\u001b[1;32m---> 70\u001b[0m     \u001b[39mraise\u001b[39;00m e\u001b[39m.\u001b[39mwith_traceback(filtered_tb) \u001b[39mfrom\u001b[39;00m \u001b[39mNone\u001b[39m\n\u001b[0;32m     71\u001b[0m \u001b[39mfinally\u001b[39;00m:\n\u001b[0;32m     72\u001b[0m     \u001b[39mdel\u001b[39;00m filtered_tb\n",
      "File \u001b[1;32mc:\\Users\\Ben\\anaconda3\\envs\\Test\\lib\\site-packages\\keras\\engine\\data_adapter.py:268\u001b[0m, in \u001b[0;36mTensorLikeDataAdapter.__init__\u001b[1;34m(self, x, y, sample_weights, sample_weight_modes, batch_size, epochs, steps, shuffle, **kwargs)\u001b[0m\n\u001b[0;32m    265\u001b[0m \u001b[39mif\u001b[39;00m \u001b[39mnot\u001b[39;00m batch_size:\n\u001b[0;32m    266\u001b[0m     batch_size \u001b[39m=\u001b[39m \u001b[39mint\u001b[39m(math\u001b[39m.\u001b[39mceil(num_samples \u001b[39m/\u001b[39m steps)) \u001b[39mif\u001b[39;00m steps \u001b[39melse\u001b[39;00m \u001b[39m32\u001b[39m\n\u001b[1;32m--> 268\u001b[0m \u001b[39mself\u001b[39m\u001b[39m.\u001b[39m_size \u001b[39m=\u001b[39m \u001b[39mint\u001b[39m(math\u001b[39m.\u001b[39mceil(num_samples \u001b[39m/\u001b[39;49m batch_size))\n\u001b[0;32m    269\u001b[0m \u001b[39mself\u001b[39m\u001b[39m.\u001b[39m_batch_size \u001b[39m=\u001b[39m batch_size\n\u001b[0;32m    271\u001b[0m num_full_batches \u001b[39m=\u001b[39m \u001b[39mint\u001b[39m(num_samples \u001b[39m/\u001b[39m\u001b[39m/\u001b[39m batch_size)\n",
      "\u001b[1;31mTypeError\u001b[0m: unsupported operand type(s) for /: 'int' and 'list'"
     ]
    }
   ],
   "source": [
    "def predict_sentence(sentence):\n",
    "    X_in = []\n",
    "    for word in sentence.split():\n",
    "        try:\n",
    "            X_in.append(vocab[word])\n",
    "        except:\n",
    "            X_in.append(vocab['<PAD>'])\n",
    "            pass\n",
    "    test, seq_x = pad_sentence_batch([X_in], vocab['<PAD>'])\n",
    "    input_batch = np.zeros([1,seq_x[0]])\n",
    "    input_batch[0] =test[0]      \n",
    "    return model.predict(test, seq_x)\n",
    "    \n",
    "res = predict_sentence('What is Tacotron 2')    \n",
    "\n",
    "\n",
    "#   result=' '.join(rev_dictionary_to[i] for i in log[0])\n",
    "#   return result"
   ]
  },
  {
   "cell_type": "code",
   "execution_count": null,
   "metadata": {},
   "outputs": [],
   "source": [
    "def predict(sentence):\n",
    "    X_in = []\n",
    "    for word in sentence.split():\n",
    "        try:\n",
    "            X_in.append(dictionary_from[word])\n",
    "        except:\n",
    "            X_in.append(PAD)\n",
    "            pass\n",
    "        \n",
    "    test, seq_x = pad_sentence_batch([X_in], PAD)\n",
    "    input_batch = np.zeros([batch_size,seq_x[0]])\n",
    "    input_batch[0] =test[0] \n",
    "        \n",
    "    log = sess.run(tf.argmax(model.logits,2), \n",
    "                                      feed_dict={\n",
    "                                              model.X:input_batch,\n",
    "                                              model.X_seq_len:seq_x,\n",
    "                                              model.Y_seq_len:seq_x\n",
    "                                              }\n",
    "                                      )\n",
    "    \n",
    "    result=' '.join(rev_dictionary_to[i] for i in log[0])\n",
    "    return result"
   ]
  },
  {
   "cell_type": "code",
   "execution_count": null,
   "metadata": {},
   "outputs": [
    {
     "ename": "NameError",
     "evalue": "name 'build_dataset' is not defined",
     "output_type": "error",
     "traceback": [
      "\u001b[1;31m---------------------------------------------------------------------------\u001b[0m",
      "\u001b[1;31mNameError\u001b[0m                                 Traceback (most recent call last)",
      "\u001b[1;32mc:\\Users\\Ben\\Desktop\\ASMRProject\\sequence_to_sequence\\YOUTUBE.ipynb Cell 22\u001b[0m in \u001b[0;36m<cell line: 3>\u001b[1;34m()\u001b[0m\n\u001b[0;32m      <a href='vscode-notebook-cell:/c%3A/Users/Ben/Desktop/ASMRProject/sequence_to_sequence/YOUTUBE.ipynb#X21sZmlsZQ%3D%3D?line=0'>1</a>\u001b[0m concat_from \u001b[39m=\u001b[39m \u001b[39m'\u001b[39m\u001b[39m \u001b[39m\u001b[39m'\u001b[39m\u001b[39m.\u001b[39mjoin(questions)\u001b[39m.\u001b[39msplit()\n\u001b[0;32m      <a href='vscode-notebook-cell:/c%3A/Users/Ben/Desktop/ASMRProject/sequence_to_sequence/YOUTUBE.ipynb#X21sZmlsZQ%3D%3D?line=1'>2</a>\u001b[0m vocabulary_size_from \u001b[39m=\u001b[39m \u001b[39mlen\u001b[39m(\u001b[39mlist\u001b[39m(\u001b[39mset\u001b[39m(concat_from)))\n\u001b[1;32m----> <a href='vscode-notebook-cell:/c%3A/Users/Ben/Desktop/ASMRProject/sequence_to_sequence/YOUTUBE.ipynb#X21sZmlsZQ%3D%3D?line=2'>3</a>\u001b[0m data_from, count_from, dictionary_from, rev_dictionary_from \u001b[39m=\u001b[39m build_dataset(concat_from, vocabulary_size_from)\n\u001b[0;32m      <a href='vscode-notebook-cell:/c%3A/Users/Ben/Desktop/ASMRProject/sequence_to_sequence/YOUTUBE.ipynb#X21sZmlsZQ%3D%3D?line=3'>4</a>\u001b[0m \u001b[39mprint\u001b[39m(\u001b[39m'\u001b[39m\u001b[39mvocab from size: \u001b[39m\u001b[39m%d\u001b[39;00m\u001b[39m'\u001b[39m\u001b[39m%\u001b[39m(vocabulary_size_from))\n\u001b[0;32m      <a href='vscode-notebook-cell:/c%3A/Users/Ben/Desktop/ASMRProject/sequence_to_sequence/YOUTUBE.ipynb#X21sZmlsZQ%3D%3D?line=4'>5</a>\u001b[0m \u001b[39mprint\u001b[39m(\u001b[39m'\u001b[39m\u001b[39mMost common words\u001b[39m\u001b[39m'\u001b[39m, count_from[\u001b[39m4\u001b[39m:\u001b[39m10\u001b[39m])\n",
      "\u001b[1;31mNameError\u001b[0m: name 'build_dataset' is not defined"
     ]
    }
   ],
   "source": [
    "concat_from = ' '.join(questions).split()\n",
    "vocabulary_size_from = len(list(set(concat_from)))\n",
    "data_from, count_from, dictionary_from, rev_dictionary_from = build_dataset(concat_from, vocabulary_size_from)\n",
    "print('vocab from size: %d'%(vocabulary_size_from))\n",
    "print('Most common words', count_from[4:10])\n",
    "print('Sample data', data_from[:10], [rev_dictionary_from[i] for i in data_from[:10]])\n",
    "\n",
    "concat_to = ' '.join(answers).split()\n",
    "vocabulary_size_to = len(list(set(concat_to)))\n",
    "data_to, count_to, dictionary_to, rev_dictionary_to = build_dataset(concat_to, vocabulary_size_to)\n",
    "print('vocab to size: %d'%(vocabulary_size_to))\n",
    "print('Most common words', count_to[4:10])\n",
    "print('Sample data', data_to[:10], [rev_dictionary_to[i] for i in data_to[:10]])\n"
   ]
  },
  {
   "attachments": {},
   "cell_type": "markdown",
   "metadata": {},
   "source": [
    "**\"PAD\"** steht normalerweise für **Padding** und wird verwendet, um Sequenzen auf eine einheitliche Länge aufzufüllen. Es wird verwendet, wenn die Eingabe- oder Ausgabesequenzen unterschiedliche Längen haben, um sie zu standardisieren.\n",
    "\n",
    "**\"GO\"** steht normalerweise für den **Start eines Satzes oder einer Sequenz**. Es wird als erstes Symbol in der Ausgabesequenz verwendet, um anzuzeigen, dass der Modelloutput beginnt.\n",
    "\n",
    "wird bei Ihm hier bei dem decoder_embdeding verwendet verwendet\n",
    "``` \n",
    "with tf.variable_scope(\"decoder_embeddings\"):        \n",
    "    decoder_input = tf.concat([tf.fill([batch_size, 1], GO), main], 1)\n",
    "    decoder_embeddings = tf.Variable(tf.random_uniform([to_dict_size, embedded_size], -1, 1))\n",
    "    decoder_embedded = tf.nn.embedding_lookup(encoder_embeddings, decoder_input)\n",
    "```\n",
    "\n",
    "\n",
    "**\"EOS\"** steht normalerweise für das **Ende eines Satzes oder einer Sequenz**. Es wird als letztes Symbol in der Ausgabesequenz verwendet, um anzuzeigen, dass der Modelloutput abgeschlossen ist.\n",
    "\n",
    "**\"UNK\"** steht normalerweise für **unbekannte Wörter** oder Out-of-Vocabulary-Wörter. Es wird verwendet, wenn das Modell ein Wort in der Eingabesequenz nicht erkennt oder keine spezifische Zuordnung dafür hat."
   ]
  },
  {
   "cell_type": "code",
   "execution_count": null,
   "metadata": {},
   "outputs": [],
   "source": [
    "GO = dictionary_from['GO']\n",
    "PAD = dictionary_from['PAD']\n",
    "EOS = dictionary_from['EOS']\n",
    "UNK = dictionary_from['UNK']"
   ]
  },
  {
   "attachments": {},
   "cell_type": "markdown",
   "metadata": {},
   "source": [
    "Ich muss die wörter den Jeweiligen Dic zuordnen damit diese als int32 gespeichert sind"
   ]
  },
  {
   "cell_type": "code",
   "execution_count": null,
   "metadata": {},
   "outputs": [],
   "source": [
    "def createValuesFromWord(sentence, dict_):\n",
    "    result = []\n",
    "    for values in sentence.split():\n",
    "        try:\n",
    "            result += [dict_[values.lower()]]\n",
    "        except Exception as e:\n",
    "            result +=[dict_['UNK']]    \n",
    "    return result    "
   ]
  },
  {
   "cell_type": "code",
   "execution_count": null,
   "metadata": {},
   "outputs": [
    {
     "name": "stdout",
     "output_type": "stream",
     "text": [
      "3\n"
     ]
    }
   ],
   "source": [
    "print(dictionary_to['UNK'])"
   ]
  },
  {
   "cell_type": "code",
   "execution_count": null,
   "metadata": {},
   "outputs": [
    {
     "data": {
      "text/plain": [
       "[4, 7, 3]"
      ]
     },
     "execution_count": 13,
     "metadata": {},
     "output_type": "execute_result"
    }
   ],
   "source": [
    "createValuesFromWord(\"tacOtron the asdf \",dictionary_to)"
   ]
  },
  {
   "attachments": {},
   "cell_type": "markdown",
   "metadata": {},
   "source": [
    "# Hyperparameters"
   ]
  },
  {
   "attachments": {},
   "cell_type": "markdown",
   "metadata": {},
   "source": [
    "Hier wird die gesamte sequence als value umgewandelt\n",
    "Ist das nur für Prediction? Nein für das Training\n",
    "Wofür die ins 2 -> ['EOS', 2], End of secoucne maybe?"
   ]
  },
  {
   "cell_type": "code",
   "execution_count": null,
   "metadata": {},
   "outputs": [],
   "source": [
    "def str_idx(corpus, dic):\n",
    "    X = []\n",
    "    for i in corpus:\n",
    "        ints = []\n",
    "        for k in i.split():\n",
    "            try:\n",
    "                ints.append(dic[k])\n",
    "            except Exception as e:\n",
    "                print(e)\n",
    "                ints.append(2)\n",
    "        X.append(ints)\n",
    "    return X"
   ]
  },
  {
   "cell_type": "code",
   "execution_count": null,
   "metadata": {},
   "outputs": [],
   "source": [
    "X = str_idx(questions, dictionary_from)\n",
    "Y = str_idx(answers, dictionary_to)"
   ]
  },
  {
   "attachments": {},
   "cell_type": "markdown",
   "metadata": {},
   "source": [
    "Hier werden alle auf die selbe länge geschnitten\n",
    "Frage. wieso max sentence 50????"
   ]
  },
  {
   "cell_type": "code",
   "execution_count": null,
   "metadata": {},
   "outputs": [],
   "source": [
    "# neu machen\n",
    "def pad_sentence_batch(sentence_batch, pad_int):\n",
    "    padded_seqs = []\n",
    "    seq_lens = []\n",
    "    max_sentence_len = 50 \n",
    "    for sentence in sentence_batch:\n",
    "        padded_seqs.append(sentence + [pad_int] * (max_sentence_len - len(sentence)))\n",
    "        seq_lens.append(50)\n",
    "    return padded_seqs, seq_lens"
   ]
  },
  {
   "attachments": {},
   "cell_type": "markdown",
   "metadata": {},
   "source": [
    "Hier einfach die accurracy"
   ]
  },
  {
   "cell_type": "code",
   "execution_count": null,
   "metadata": {},
   "outputs": [],
   "source": [
    "def check_accuracy(logits, Y):\n",
    "    acc = 0\n",
    "    for i in range(logits.shape[0]):\n",
    "        internal_acc = 0\n",
    "        for k in range(len(Y[i])):\n",
    "            if Y[i][k] == logits[i][k]:\n",
    "                internal_acc += 1\n",
    "        acc += (internal_acc / len(Y[i]))\n",
    "    return acc / logits.shape[0]"
   ]
  },
  {
   "cell_type": "code",
   "execution_count": null,
   "metadata": {},
   "outputs": [],
   "source": [
    "# hier startet das training"
   ]
  },
  {
   "cell_type": "code",
   "execution_count": null,
   "metadata": {},
   "outputs": [],
   "source": [
    "for i in range(epoch):\n",
    "    total_loss, total_accuracy = 0, 0\n",
    "    for k in range(0, (len(text_from) // batch_size) * batch_size, batch_size):\n",
    "        batch_x, seq_x = pad_sentence_batch(X[k: k+batch_size], PAD)\n",
    "        batch_y, seq_y = pad_sentence_batch(Y[k: k+batch_size], PAD)\n",
    "        predicted, loss, _ = sess.run([tf.argmax(model.logits,2), model.cost, model.optimizer], \n",
    "                                      feed_dict={model.X:batch_x,\n",
    "                                                model.Y:batch_y,\n",
    "                                                model.X_seq_len:seq_x,\n",
    "                                                model.Y_seq_len:seq_y})\n",
    "        \n",
    "        total_loss += loss\n",
    "        total_accuracy += check_accuracy(predicted,batch_y)\n",
    "#        print 'output:', [rev_dictionary_to[i] for i in predicted[0]]\n",
    "#        print 'input:', [rev_dictionary_to[i] for i in batch_x[0]]\n",
    "        \n",
    "    total_loss /= (len(text_from) // batch_size)\n",
    "    total_accuracy /= (len(text_from) // batch_size)\n",
    "    print('epoch: %d, avg loss: %f, avg accuracy: %f'%(i+1, total_loss, total_accuracy))\n",
    "    path = saver.save(sess, checkpoint_prefix, global_step=i+1)"
   ]
  },
  {
   "cell_type": "code",
   "execution_count": null,
   "metadata": {},
   "outputs": [],
   "source": [
    "def predict(sentence):\n",
    "    X_in = []\n",
    "    for word in sentence.split():\n",
    "        try:\n",
    "            X_in.append(dictionary_from[word])\n",
    "        except:\n",
    "            X_in.append(PAD)\n",
    "            pass\n",
    "        \n",
    "    test, seq_x = pad_sentence_batch([X_in], PAD)\n",
    "    input_batch = np.zeros([batch_size,seq_x[0]])\n",
    "    input_batch[0] =test[0] \n",
    "        \n",
    "    log = sess.run(tf.argmax(model.logits,2), \n",
    "                                      feed_dict={\n",
    "                                              model.X:input_batch,\n",
    "                                              model.X_seq_len:seq_x,\n",
    "                                              model.Y_seq_len:seq_x\n",
    "                                              }\n",
    "                                      )\n",
    "    \n",
    "    result=' '.join(rev_dictionary_to[i] for i in log[0])\n",
    "    return result\n",
    "    \n",
    "checkpoint_file = tf.train.latest_checkpoint(os.path.join('./', 'checkpoints_chatbot'))\n",
    "saver = tf.train.import_meta_graph(\"{}.meta\".format(checkpoint_file))\n",
    "saver.restore(sess, checkpoint_file)\n",
    "    \n",
    "print(predict('what is Tacotron 2?'))    \n"
   ]
  }
 ],
 "metadata": {
  "kernelspec": {
   "display_name": "tensor",
   "language": "python",
   "name": "python3"
  },
  "language_info": {
   "codemirror_mode": {
    "name": "ipython",
    "version": 3
   },
   "file_extension": ".py",
   "mimetype": "text/x-python",
   "name": "python",
   "nbconvert_exporter": "python",
   "pygments_lexer": "ipython3",
   "version": "3.8.15"
  },
  "orig_nbformat": 4
 },
 "nbformat": 4,
 "nbformat_minor": 2
}
