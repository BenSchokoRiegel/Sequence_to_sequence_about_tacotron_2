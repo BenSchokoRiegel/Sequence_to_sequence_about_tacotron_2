{
 "cells": [
  {
   "attachments": {},
   "cell_type": "markdown",
   "metadata": {},
   "source": [
    "importent import"
   ]
  },
  {
   "cell_type": "code",
   "execution_count": 357,
   "metadata": {},
   "outputs": [],
   "source": [
    "import numpy as np , os\n",
    "import tensorflow as tf\n",
    "import collections\n",
    "\n",
    "gpus = tf.config.list_physical_devices('GPU')\n",
    "tf.config.list_physical_devices('GPU')\n",
    "for gpu in gpus:\n",
    "    tf.config.experimental.set_memory_growth(gpu, True)"
   ]
  },
  {
   "attachments": {},
   "cell_type": "markdown",
   "metadata": {},
   "source": [
    "# Data Preparation\n",
    "## Quelle  https://medium.com/hackernoon/implementing-a-sequence-to-sequence-model-45a6133958ca"
   ]
  },
  {
   "cell_type": "code",
   "execution_count": 358,
   "metadata": {},
   "outputs": [],
   "source": [
    "questions = []\n",
    "answers = []"
   ]
  },
  {
   "cell_type": "code",
   "execution_count": 359,
   "metadata": {},
   "outputs": [
    {
     "name": "stdout",
     "output_type": "stream",
     "text": [
      "33\n",
      "33\n"
     ]
    }
   ],
   "source": [
    "import os\n",
    "\n",
    "folder_path = 'data_generation/newQuestions'  # Geben Sie den Pfad zum gewünschten Ordner an\n",
    "\n",
    "# Durchlaufen aller Dateien im Ordner\n",
    "que = [os.path.join(folder_path, filename) for filename in os.listdir(folder_path)]\n",
    "folder_path = 'data_generation/newAnswers' \n",
    "ans = [os.path.join(folder_path, filename) for filename in os.listdir(folder_path)]\n",
    "print(len(que))\n",
    "print(len(ans))"
   ]
  },
  {
   "cell_type": "code",
   "execution_count": 360,
   "metadata": {},
   "outputs": [],
   "source": [
    "for (q,a) in zip(que,ans):\n",
    "    with open(q, 'r') as inputfile:\n",
    "        questions += [line.rstrip() for line in inputfile.readlines()[1:]]\n",
    "    with open(a, 'r') as inputfile:\n",
    "        answers += [line.rstrip() for line in inputfile.readlines()[1:]]     \n"
   ]
  },
  {
   "cell_type": "code",
   "execution_count": 361,
   "metadata": {},
   "outputs": [
    {
     "name": "stdout",
     "output_type": "stream",
     "text": [
      "791\n"
     ]
    }
   ],
   "source": [
    "print(len(questions))"
   ]
  },
  {
   "cell_type": "code",
   "execution_count": 362,
   "metadata": {},
   "outputs": [
    {
     "name": "stdout",
     "output_type": "stream",
     "text": [
      "791\n"
     ]
    }
   ],
   "source": [
    "print(len(answers))"
   ]
  },
  {
   "attachments": {},
   "cell_type": "markdown",
   "metadata": {},
   "source": [
    "Einlesen der Fragen"
   ]
  },
  {
   "cell_type": "code",
   "execution_count": 363,
   "metadata": {},
   "outputs": [
    {
     "name": "stdout",
     "output_type": "stream",
     "text": [
      " count questions: 1099, count answers: 1099\n"
     ]
    }
   ],
   "source": [
    "#my better version\n",
    "file_path = './processed_data/'\n",
    "\n",
    "with open(file_path+'all_fragen.txt', 'r') as inputfile:\n",
    "    questions += [line.rstrip() for line in inputfile.readlines()]\n",
    "    \n",
    "\n",
    "with open(file_path+'all_antworten.txt', 'r') as inputfile:\n",
    "    answers += [line.rstrip() for line in inputfile.readlines()]\n",
    "\n",
    "print(' count questions: %d, count answers: %d'%(len(questions), len(answers)))\n",
    "#print(antworten)"
   ]
  },
  {
   "cell_type": "code",
   "execution_count": 364,
   "metadata": {},
   "outputs": [],
   "source": [
    "import random\n",
    "sample_questions = []\n",
    "sample_answers = []\n",
    "for x in range(10):\n",
    "    number = random.randint(0, len(questions))\n",
    "    #print(str(number))\n",
    "    sample_questions += [questions[number]]\n",
    "    sample_answers += [answers[number]]\n",
    "\n",
    "\n",
    "#for (x,y) in zip(sample_questions,sample_answers):\n",
    "    #print(x + \"\\n\" + y + \"\\n \\n\")"
   ]
  },
  {
   "attachments": {},
   "cell_type": "markdown",
   "metadata": {},
   "source": [
    "make them all lowercase because that should be better simpler for the net"
   ]
  },
  {
   "cell_type": "code",
   "execution_count": 365,
   "metadata": {},
   "outputs": [
    {
     "name": "stdout",
     "output_type": "stream",
     "text": [
      "['whoi o  ', 'paxx s s ']\n"
     ]
    }
   ],
   "source": [
    "import re\n",
    "def make_clean(sentences):\n",
    "    result = []\n",
    "    for sentence in sentences:\n",
    "        txt = sentence.lower()\n",
    "        txt = re.sub(r\"i'm\", \"i am\", txt)\n",
    "        txt = re.sub(r\"he's\", \"he is\", txt)\n",
    "        txt = re.sub(r\"she's\", \"she is\", txt)\n",
    "        txt = re.sub(r\"that's\", \"that is\", txt)\n",
    "        txt = re.sub(r\"what's\", \"what is\", txt)\n",
    "        txt = re.sub(r\"where's\", \"where is\", txt)\n",
    "        txt = re.sub(r\"\\'ll\", \" will\", txt)\n",
    "        txt = re.sub(r\"\\'ve\", \" have\", txt)\n",
    "        txt = re.sub(r\"\\'re\", \" are\", txt)\n",
    "        txt = re.sub(r\"\\'d\", \" would\", txt)\n",
    "        txt = re.sub(r\"won't\", \"will not\", txt)\n",
    "        txt = re.sub(r\"can't\", \"can not\", txt)\n",
    "        txt = re.sub(r\"[^\\w\\s]\", \"\", txt)\n",
    "        result += [txt]\n",
    "    return result\n",
    "bla = ['WHOI o ! ','PAxx s s\\' ']\n",
    "bla = make_clean(bla)\n",
    "print(bla)"
   ]
  },
  {
   "cell_type": "code",
   "execution_count": 366,
   "metadata": {},
   "outputs": [],
   "source": [
    "clean_ques = make_clean(questions)\n",
    "clean_ans = make_clean(answers)"
   ]
  },
  {
   "cell_type": "code",
   "execution_count": 367,
   "metadata": {},
   "outputs": [],
   "source": [
    "###  count occurences ###\n",
    "counter_words = {}\n",
    "\n",
    "for line in clean_ques:\n",
    "    for word in line.split():\n",
    "        if word not in counter_words:\n",
    "            counter_words[word] = 1\n",
    "        else:\n",
    "            counter_words[word] += 1\n",
    "for line in clean_ans:\n",
    "    for word in line.split():\n",
    "        if word not in counter_words:\n",
    "            counter_words[word] = 1\n",
    "        else:\n",
    "            counter_words[word] += 1\n"
   ]
  },
  {
   "cell_type": "code",
   "execution_count": 368,
   "metadata": {},
   "outputs": [],
   "source": [
    "vocab = {}\n",
    "word_num = 0\n",
    "for word, count in counter_words.items():\n",
    "    vocab[word] = word_num\n",
    "    word_num += 1"
   ]
  },
  {
   "cell_type": "code",
   "execution_count": 369,
   "metadata": {},
   "outputs": [
    {
     "name": "stdout",
     "output_type": "stream",
     "text": [
      "{'how': 0, 'does': 1, 'tacotron': 2, '2': 3, 'utilize': 4, 'a': 5, 'sequencetosequence': 6, 'architecture': 7, 'what': 8, 'is': 9, 'the': 10, 'purpose': 11, 'of': 12, 'spectral': 13, 'encoder': 14, 'in': 15, 'generate': 16, 'speech': 17, 'from': 18, 'spectrograms': 19, 'role': 20, 'wavenet': 21, 'vocoder': 22, 'are': 23, 'character': 24, 'embeddings': 25, 'used': 26, 'advantages': 27, 'using': 28, 'convolutional': 29, 'networks': 30, 'lstm': 31, 'long': 32, 'shortterm': 33, 'memory': 34, 'relationship': 35, 'between': 36, 'and': 37, 'synthesis': 38, 'handle': 39, 'sentences': 40, 'improvements': 41, 'bring': 42, 'compared': 43, 'to': 44, 'its': 45, 'previous': 46, 'version': 47, 'variations': 48, 'pitch': 49, 'intonation': 50, 'challenges': 51, 'face': 52, 'handling': 53, 'different': 54, 'languages': 55, 'multiple': 56, 'speakers': 57, 'techniques': 58, 'employ': 59, 'ensure': 60, 'naturalsounding': 61, 'with': 62, 'background': 63, 'noise': 64, 'limitations': 65, 'terms': 66, 'generating': 67, 'deal': 68, 'outofvocabulary': 69, 'words': 70, 'accents': 71, 'computational': 72, 'requirements': 73, 'for': 74, 'training': 75, 'emotional': 76, 'expressions': 77, 'data': 78, 'train': 79, 'at': 80, 'speeds': 81, 'future': 82, 'research': 83, 'directions': 84, 'improving': 85, 'deep': 86, 'learning': 87, 'text': 88, 'play': 89, 'characters': 90, 'encoded': 91, 'function': 92, 'main': 93, 'technical': 94, 'implementing': 95, 'input': 96, 'sequences': 97, 'improve': 98, 'quality': 99, 'resources': 100, 'required': 101, 'process': 102, 'noisy': 103, 'attention': 104, 'mechanisms': 105, 'prosody': 106, 'impact': 107, 'batch': 108, 'size': 109, 'on': 110, 'speaker': 111, 'adaptation': 112, 'compare': 113, 'other': 114, 'models': 115, 'performance': 116, 'contribute': 117, '2s': 118, 'can': 119, 'you': 120, 'explain': 121, 'embedding': 122, 'significance': 123, 'generation': 124, 'waveforms': 125, 'texttospeech': 126, 'complex': 127, 'during': 128, 'brief': 129, 'some': 130, 'applications': 131, 'field': 132, 'distortion': 133, 'audio': 134, 'potential': 135, 'be': 136, 'realtime': 137, 'use': 138, 'punctuation': 139, 'emphasis': 140, 'synthesized': 141, 'finetuned': 142, 'specific': 143, 'domains': 144, 'or': 145, 'styles': 146, 'deploying': 147, 'do': 148, 'output': 149, 'format': 150, 'mechanism': 151, 'implemented': 152, 'advantage': 153, 'over': 154, 'traditional': 155, 'methods': 156, 'texts': 157, 'components': 158, 'pauses': 159, 'expressive': 160, 'implement': 161, 'key': 162, 'building': 163, 'normalization': 164, 'capitalization': 165, 'conversion': 166, 'complexity': 167, 'sounds': 168, 'rate': 169, 'speaking': 170, 'style': 171, 'tasks': 172, 'work': 173, 'neural': 174, '1': 175, 'longrange': 176, 'dependencies': 177, 'benefit': 178, 'approach': 179, 'lowquality': 180, 'dataset': 181, 'preprocessing': 182, 'stateoftheart': 183, 'concept': 184, 'zeichenembedding': 185, 'layer': 186, 'synthesize': 187, 'lowresource': 188, 'emotions': 189, 'cost': 190, 'running': 191, 'besides': 192, 'ambiguous': 193, 'homophone': 194, 'natural': 195, 'language': 196, 'processing': 197, 'systems': 198, 'convert': 199, 'into': 200, 'waveform': 201, 'synthesizer': 202, 'units': 203, 'naturalness': 204, 'generated': 205, 'datasets': 206, 'hyperparameters': 207, 'disfluencies': 208, 'melspectrogram': 209, 'benefits': 210, 'differ': 211, 'original': 212, 'model': 213, 'developments': 214, 'current': 215, 'trends': 216, 'like': 217, 'incorporate': 218, 'optimize': 219, 'efficient': 220, 'inference': 221, 'difference': 222, 'multispeaker': 223, 'address': 224, 'tradeoff': 225, 'intelligibility': 226, 'capabilities': 227, 'architectures': 228, 'utilized': 229, 'overcome': 230, 'issue': 231, 'clarity': 232, 'transfer': 233, 'kind': 234, 'take': 235, 'structured': 236, 'larger': 237, 'silences': 238, 'decoder': 239, 'phonetic': 240, 'nonlinguistic': 241, 'effects': 242, 'component': 243, 'mel': 244, 'arise': 245, 'when': 246, 'than': 247, 'english': 248, 'realworld': 249, 'scenarios': 250, 'voice': 251, 'cloning': 252, 'linguistic': 253, 'nuances': 254, 'context': 255, 'combined': 256, 'such': 257, 'as': 258, 'highquality': 259, 'assistants': 260, 'audiobook': 261, 'production': 262, 'pronunciation': 263, 'trained': 264, 'alternatives': 265, 'multilingual': 266, 'integrate': 267, 'describe': 268, 'variation': 269, 'individuality': 270, 'expressiveness': 271, 'run': 272, 'accuracy': 273, 'embedded': 274, 'tradeoffs': 275, 'errors': 276, 'achieve': 277, 'interference': 278, 'large': 279, 'rhythm': 280, 'customization': 281, 'advancements': 282, 'speed': 283, 'tempo': 284, 'objective': 285, 'alignment': 286, 'efficiency': 287, 'perform': 288, 'voices': 289, 'versions': 290, 'represented': 291, 'realistic': 292, 'rare': 293, 'limited': 294, 'gender': 295, 'age': 296, 'algorithms': 297, 'largescale': 298, 'further': 299, 'improved': 300, 'achieved': 301, 'leverage': 302, 'longterm': 303, 'upon': 304, 'predecessor': 305, 'characteristics': 306, 'phonemes': 307, 'inputs': 308, 'offer': 309, 'prevent': 310, 'overfitting': 311, 'signals': 312, 'adapted': 313, 'beyond': 314, 'extensions': 315, 'variablelength': 316, 'adapting': 317, 'environmental': 318, 'factors': 319, 'features': 320, 'laughter': 321, 'breath': 322, 'disfluent': 323, 'noises': 324, 'sequencertosequencer': 325, 'signal': 326, 'unclear': 327, 'vocoding': 328, 'melspectrograms': 329, 'oov': 330, 'twostep': 331, 'textencoder': 332, 'proper': 333, 'nouns': 334, 'diacritics': 335, 'encoderdecoder': 336, 'postnet': 337, 'genders': 338, 'ages': 339, 'f0': 340, 'conditioning': 341, 'duration': 342, 'dialects': 343, 'meldecoder': 344, 'rates': 345, 'characterembedding': 346, 'layers': 347, 'levels': 348, 'recording': 349, 'conditions': 350, 'residual': 351, 'connections': 352, 'microphones': 353, 'devices': 354, 'sampling': 355, 'prenet': 356, 'postprocessing': 357, 'mouth': 358, 'shapes': 359, 'batchnormalization': 360, 'relu': 361, 'activation': 362, 'music': 363, 'sound': 364, 'reverberation': 365, 'dropout': 366, 'adam': 367, 'optimizer': 368, 'movements': 369, 'head': 370, 'facial': 371, 'body': 372, 'postures': 373, 'sentence': 374, 'structures': 375, 'linear': 376, 'singing': 377, 'musical': 378, 'genres': 379, 'instruments': 380, 'multihead': 381, 'dilated': 382, 'convolution': 383, 'spectrogram': 384, 'frequencies': 385, 'softmax': 386, 'sigmoid': 387, 'volumes': 388, 'block': 389, 'drama': 390, 'comedy': 391, 'poetry': 392, 'storytelling': 393, 'news': 394, 'reporting': 395, 'gated': 396, 'sports': 397, 'commentary': 398, 'podcasting': 399, 'radio': 400, 'broadcasting': 401, 'acting': 402, 'public': 403, 'education': 404, 'audiobooks': 405, 'concatenation': 406, 'transpose': 407, 'highway': 408, 'network': 409, 'artificial': 410, 'intelligence': 411, 'chatbots': 412, 'virtual': 413, 'robotics': 414, 'gaming': 415, 'global': 416, 'local': 417, 'upsampling': 418, 'asmr': 419, 'meditation': 420, 'hypnosis': 421, 'relaxation': 422, 'sleep': 423, 'aid': 424, 'therapy': 425, 'timedelay': 426, 'logarithmic': 427, 'branding': 428, 'advertising': 429, 'voiceovers': 430, 'jingles': 431, 'design': 432, 'causal': 433, 'video': 434, 'games': 435, 'augmented': 436, 'reality': 437, 'positional': 438, 'encoding': 439, 'elearning': 440, 'moocs': 441, 'instructional': 442, 'videos': 443, 'fast': 444, 'fourier': 445, 'transform': 446, 'inverse': 447, 'audiometry': 448, 'hearing': 449, 'aids': 450, 'cochlear': 451, 'implants': 452, 'telemedicine': 453, 'remote': 454, 'conferencing': 455, 'bidirectional': 456, 'teaching': 457, 'translation': 458, 'recognition': 459, 'authentication': 460, 'recurrent': 461, 'unit': 462, 'speechtotext': 463, 'coding': 464, 'beam': 465, 'search': 466, 'greedy': 467, 'decoding': 468, 'compression': 469, 'enhancement': 470, 'zeropadding': 471, 'melfrequency': 472, 'cepstral': 473, 'coefficients': 474, 'shorttime': 475, 'denoising': 476, 'convergence': 477, 'clipping': 478, 'contrast': 479, 'stretching': 480, 'subtraction': 481, 'smoothing': 482, 'widening': 483, 'padding': 484, 'magnitude': 485, 'overlapping': 486, 'scaling': 487, 'phase': 488, 'inversion': 489, 'envelope': 490, 'frame': 491, 'shift': 492, 'resolution': 493, 'frequency': 494, 'range': 495, 'window': 496, 'it': 497, 'finetune': 498, 'augmentation': 499, 'effect': 500, 'nonenglish': 501, 'networkbased': 502, 'short': 503, 'loss': 504, 'functions': 505, 'optimizers': 506, 'homonyms': 507, 'homophones': 508, 'sarcasm': 509, 'irony': 510, 'spoken': 511, 'vs': 512, 'written': 513, 'slang': 514, 'informal': 515, 'types': 516, 'affective': 517, 'interruptions': 518, 'hesitation': 519, 'uncertainty': 520, 'breathing': 521, 'abbreviations': 522, 'acronyms': 523, 'foreign': 524, 'phrases': 525, 'sizes': 526, 'stride': 527, 'tone': 528, 'schedules': 529, 'nonstandard': 530, 'spellings': 531, 'typos': 532, 'depths': 533, 'widths': 534, 'weight': 535, 'initialization': 536, 'boundaries': 537, 'contractions': 538, 'elisions': 539, 'homograph': 540, 'disambiguation': 541, 'meanings': 542, 'decay': 543, 'gradient': 544, 'contextdependent': 545, 'distributions': 546, 'tying': 547, 'regularization': 548, 'tokenization': 549, 'named': 550, 'entities': 551, 'idiomatic': 552, 'compound': 553, 'early': 554, 'stopping': 555, 'criteria': 556, 'phrasal': 557, 'verbs': 558, 'strengths': 559, 'pooling': 560, 'pronouns': 561, 'hidden': 562, 'derivatives': 563, 'negation': 564, 'double': 565, 'negatives': 566, 'positions': 567, 'syntactic': 568, 'ambiguity': 569, 'factor': 570, 'uses': 571, 'mapping': 572, 'encodes': 573, 'predicted': 574, 'acoustic': 575, 'synthesizes': 576, 'by': 577, 'converting': 578, 'generates': 579, 'represent': 580, 'help': 581, 'capture': 582, 'utilizes': 583, 'modeling': 584, 'sequential': 585, 'handles': 586, 'splitting': 587, 'them': 588, 'shorter': 589, 'segments': 590, 'brings': 591, 'robustness': 592, 'through': 593, 'faces': 594, 'due': 595, 'languagespecific': 596, 'employs': 597, 'autoregressive': 598, 'but': 599, 'may': 600, 'affect': 601, 'include': 602, 'occasional': 603, 'mispronunciations': 604, 'oversmoothed': 605, 'relying': 606, 'subword': 607, 'graphemetophoneme': 608, 'accentspecific': 609, 'requires': 610, 'significant': 611, 'including': 612, 'gpus': 613, 'appropriate': 614, 'paired': 615, 'adjusting': 616, 'better': 617, 'learn': 618, 'converts': 619, 'sequence': 620, 'highlevel': 621, 'predicting': 622, 'transforms': 623, 'highresolution': 624, 'representation': 625, 'an': 626, 'feature': 627, 'extraction': 628, 'incorporates': 629, 'temporal': 630, 'hierarchical': 631, 'teacher': 632, 'forcing': 633, 'diverse': 634, 'system': 635, 'involves': 636, 'optimizing': 637, 'parameters': 638, 'focus': 639, 'relevant': 640, 'incorporating': 641, 'tokens': 642, 'affects': 643, 'usage': 644, 'adapt': 645, 'finetuning': 646, 'speakerspecific': 647, 'lack': 648, 'finegrained': 649, 'control': 650, 'outperforms': 651, 'many': 652, 'fixedlength': 653, 'improves': 654, 'combination': 655, 'encoders': 656, 'decoders': 657, 'helps': 658, 'continuous': 659, 'space': 660, 'extract': 661, 'plays': 662, 'enables': 663, 'highfidelity': 664, 'results': 665, 'various': 666, 'utilizing': 667, 'effectively': 668, 'minimize': 669, 'error': 670, 'has': 671, 'finds': 672, 'accessibility': 673, 'robust': 674, 'representations': 675, 'could': 676, 'hardware': 677, 'optimizations': 678, 'annotated': 679, 'specialized': 680, 'depend': 681, 'fixeddimensional': 682, 'higherlevel': 683, 'raw': 684, 'intermediate': 685, 'maps': 686, 'align': 687, 'fallback': 688, 'lexicon': 689, 'offers': 690, 'flexibility': 691, 'especially': 692, 'capturing': 693, 'fine': 694, 'details': 695, 'smaller': 696, 'chunks': 697, 'supervised': 698, 'extent': 699, 'based': 700, 'optimized': 701, 'implementations': 702, 'additional': 703, 'processes': 704, 'fixedsize': 705, 'more': 706, 'suitable': 707, 'information': 708, 'implements': 709, 'predict': 710, 'attentionbased': 711, 'preprocess': 712, 'reinforcement': 713, 'corresponding': 714, 'separate': 715, 'depends': 716, 'considered': 717, 'artifacts': 718, 'tools': 719, 'vector': 720, 'structure': 721, 'melscale': 722, 'sufficient': 723, 'optimal': 724, 'characterbased': 725, 'allows': 726, 'particularly': 727, 'producing': 728, 'part': 729, 'pipeline': 730, 'consists': 731, 'compares': 732, 'favorably': 733, 'contributes': 734, 'serves': 735, 'steps': 736, 'particular': 737, 'way': 738, 'poses': 739, 'considerable': 740, 'tackles': 741, 'performs': 742, 'well': 743, 'prosodic': 744, 'vectors': 745, 'challenging': 746, 'scarcity': 747, 'handled': 748, 'choice': 749, 'coverage': 750, 'samples': 751, 'number': 752, 'influence': 753, 'stability': 754, 'content': 755, 'containing': 756, 'fields': 757, 'voiceover': 758, 'this': 759, 'end': 760, 'questions': 761, 'fundamental': 762, 'ability': 763, 'provide': 764, 'compact': 765, 'that': 766, 'captures': 767, 'important': 768, 'dense': 769, 'collection': 770, 'optimization': 771, 'overreliance': 772, 'pronunciations': 773, 'similar': 774, 'applied': 775, 'time': 776, 'potentially': 777, 'extracts': 778, 'lowlevel': 779, 'map': 780, 'truncation': 781, 'chunking': 782, 'unsupervised': 783, 'characterlevel': 784, 'high': 785, 'frames': 786, 'relationships': 787, 'prediction': 788, 'optimizes': 789, 'parallelization': 790, 'lies': 791, 'addition': 792, 'external': 793, 'lexicons': 794, 'responsible': 795, 'balances': 796, 'subjective': 797, 'evaluation': 798, 'metrics': 799, 'pairs': 800, 'provides': 801, 'overcomes': 802, 'endtoend': 803, 'patterns': 804, 'difficulties': 805, 'approximating': 806, 'achieves': 807, 'narration': 808, 'scale': 809, 'takes': 810, 'teacherforcing': 811, 'guided': 812, 'textual': 813, 'cues': 814, 'predicts': 815, 'states': 816, 'unnaturalness': 817, 'leveraging': 818, 'aligns': 819, 'clone': 820, 'enhanced': 821, 'griffinlim': 822, 'algorithm': 823, 'represents': 824, 'each': 825, 'directly': 826, 'humanlike': 827, 'timefrequency': 828, 'need': 829, 'amount': 830, 'not': 831, 'designed': 832, 'length': 833, 'vocabulary': 834, 'crucial': 835, 'lowerdimensional': 836, 'integrates': 837, 'synthetic': 838, 'consisting': 839, 'textspeech': 840, 'parts': 841, 'being': 842, 'learned': 843, 'offline': 844, 'naturally': 845, 'occurring': 846, 'flexible': 847, 'roboticsounding': 848, 'subwordbased': 849, 'customized': 850, 'extracting': 851, 'parallelism': 852, 'obtaining': 853, 'aligned': 854, 'combining': 855, 'highdimensional': 856, 'latent': 857, 'outputs': 858, 'unusual': 859, 'nature': 860, 'substantial': 861, 'just': 862, 'requiring': 863, 'affected': 864, 'encode': 865, 'backpropagation': 866, 'descent': 867, 'amounts': 868, 'unseen': 869, 'vary': 870, 'depending': 871, 'injection': 872, 'create': 873, 'final': 874, 'their': 875, 'properties': 876, 'iterative': 877, 'updates': 878, 'enhance': 879, 'spelling': 880, 'involve': 881, 'exploring': 882, 'representing': 883, 'there': 884, 'strategies': 885, 'informative': 886, 'employed': 887, 'respective': 888, 'roles': 889, 'timedomain': 890, 'have': 891, 'achieving': 892, 'focuses': 893, 'presence': 894, 'low': 895, 'latency': 896, 'aims': 897, 'aspects': 898, 'demands': 899, 'robotic': 900, 'unnatural': 901, 'sounding': 902, 'modifications': 903, 'higherdimensional': 904, 'efficiently': 905, 'masking': 906, 'known': 907, 'assistant': 908, 'technologies': 909, 'noiseaware': 910, 'speakerindependent': 911, 'level': 912, 'differs': 913, 'architectural': 914, 'reduced': 915, 'supports': 916, 'manipulating': 917, 'trains': 918, 'addresses': 919, 'done': 920, 'issues': 921, 'capability': 922, 'cannot': 923, 'they': 924, 'within': 925, 'individual': 926, 'struggle': 927, 'leading': 928, 'inaccurate': 929, 'addressing': 930, 'biases': 931, 'numerical': 932, 'trainable': 933, 'melscaled': 934, 'computationally': 935, 'expensive': 936, 'examples': 937, 'syntax': 938, 'matrix': 939, 'accurate': 940, 'step': 941, 'towards': 942, 'adversarial': 943, 'dictionary': 944, 'dynamic': 945, 'rnn': 946, 'separates': 947, 'perfect': 948, 'slightly': 949, 'lower': 950, 'enhancements': 951, 'adding': 952, 'emotionspecific': 953, 'contour': 954, 'pretrained': 955, 'diacritictophoneme': 956, 'converter': 957, 'refines': 958, 'genderspecific': 959, 'agespecific': 960, 'phoneme': 961, 'phonemetographeme': 962, 'word': 963, 'enable': 964, 'microphonespecific': 965, 'devicespecific': 966, 'resampling': 967, 'retraining': 968, 'reduces': 969, 'lipsync': 970, 'normalizes': 971, 'applies': 972, 'nonlinearity': 973, 'musicaware': 974, 'prevents': 975, 'randomly': 976, 'dropping': 977, 'weights': 978, 'attends': 979, 'increases': 980, 'receptive': 981, 'probability': 982, 'distribution': 983, '0': 984, 'maintains': 985, 'depth': 986, 'adapts': 987, 'controls': 988, 'flow': 989, 'wavenets': 990, 'convolutions': 991, 'combines': 992, 'upsamples': 993, 'meaningful': 994, 'microphone': 995, 'device': 996, 'nonacoustic': 997, 'lowprobability': 998, 'events': 999, 'jingle': 1000, 'ensures': 1001, 'only': 1002, 'past': 1003, 'refine': 1004, 'adds': 1005, 'position': 1006, 'helping': 1007, 'order': 1008, 'activations': 1009, 'accelerating': 1010, 'educational': 1011, 'massive': 1012, 'open': 1013, 'online': 1014, 'courses': 1015, 'mooc': 1016, 'domain': 1017, 'back': 1018, 'audiological': 1019, 'contexts': 1020, 'therapeutic': 1021, 'customizing': 1022, 'implant': 1023, 'processors': 1024, 'medical': 1025, 'teleconsultations': 1026, 'conference': 1027, 'both': 1028, 'forward': 1029, 'backward': 1030, 'sides': 1031, 'instruction': 1032, 'related': 1033, 'variant': 1034, 'selectively': 1035, 'transcription': 1036, 'purposes': 1037, 'explores': 1038, 'paths': 1039, 'enhancing': 1040, 'strategy': 1041, 'selects': 1042, 'most': 1043, 'probable': 1044, 'maintain': 1045, 'preserves': 1046, 'scales': 1047, 'stabilize': 1048, 'measures': 1049, 'similarity': 1050, 'ground': 1051, 'truth': 1052, 'truncates': 1053, 'certain': 1054, 'emphasizes': 1055, 'peaks': 1056, 'resizes': 1057, 'fixed': 1058, 'estimates': 1059, 'removes': 1060, 'highfrequency': 1061, 'expands': 1062, 'zeros': 1063, 'match': 1064, 'desired': 1065, 'amplitude': 1066, 'adjusts': 1067, 'impacting': 1068, 'perceived': 1069, 'loudness': 1070, 'affecting': 1071, 'timing': 1072, 'harmonics': 1073, 'flips': 1074, 'spectrum': 1075, 'modifying': 1076, 'timbre': 1077, 'describes': 1078, 'shape': 1079, 'influencing': 1080, 'determines': 1081, 'framewindow': 1082, 'compute': 1083, 'defines': 1084, 'overlap': 1085, 'consecutive': 1086, 'frameswindows': 1087, 'computation': 1088, 'detail': 1089, 'sets': 1090, 'covered': 1091, 'reducing': 1092, 'leakage': 1093, 'learningbased': 1094, 'produces': 1095, 'several': 1096, 'days': 1097, 'even': 1098, 'weeks': 1099, 'changing': 1100, 'add': 1101, 'advanced': 1102, 'produce': 1103, 'prepares': 1104, 'pronounce': 1105, 'correctly': 1106, 'windows': 1107, 'strides': 1108, 'contours': 1109, 'cyclic': 1110, 'reduce': 1111, 'generally': 1112, 'correct': 1113, 'deepr': 1114, 'wider': 1115, 'require': 1116, 'xavier': 1117, 'pause': 1118, 'beams': 1119, 'l2': 1120, 'norm': 1121, 'square': 1122, 'root': 1123, 'no': 1124, 'clear': 1125, 'best': 1126, 'method': 1127, 'along': 1128}\n",
      "1129\n"
     ]
    }
   ],
   "source": [
    "print(vocab)\n",
    "print(len(vocab))"
   ]
  },
  {
   "cell_type": "code",
   "execution_count": null,
   "metadata": {},
   "outputs": [],
   "source": []
  },
  {
   "attachments": {},
   "cell_type": "markdown",
   "metadata": {},
   "source": [
    "start and stop simbole hinzufügen"
   ]
  },
  {
   "cell_type": "code",
   "execution_count": 370,
   "metadata": {},
   "outputs": [],
   "source": [
    "for i in range(len(clean_ans)):\n",
    "    clean_ans[i] = '<SOS> ' + clean_ans[i] + ' <EOS>'\n",
    "    # clean_aue"
   ]
  },
  {
   "attachments": {},
   "cell_type": "markdown",
   "metadata": {},
   "source": [
    "anpassen des dics"
   ]
  },
  {
   "cell_type": "code",
   "execution_count": 371,
   "metadata": {},
   "outputs": [
    {
     "name": "stdout",
     "output_type": "stream",
     "text": [
      "1129\n",
      "1134\n"
     ]
    }
   ],
   "source": [
    "tokens = ['<PAD>', '<EOS>', '<OUT>', '<SOS>']\n",
    "x = len(vocab)\n",
    "print(x)\n",
    "for token in tokens:\n",
    "    vocab[token] = x\n",
    "    x += 1   \n",
    "    \n",
    "vocab['cameron'] = vocab['<PAD>']\n",
    "vocab['<PAD>'] = 0\n",
    "print(len(vocab))\n"
   ]
  },
  {
   "cell_type": "code",
   "execution_count": 372,
   "metadata": {},
   "outputs": [],
   "source": [
    "### inv answers dict ###\n",
    "inv_vocab = {w:v for v, w in vocab.items()}"
   ]
  },
  {
   "cell_type": "code",
   "execution_count": 373,
   "metadata": {},
   "outputs": [
    {
     "name": "stdout",
     "output_type": "stream",
     "text": [
      "1133\n"
     ]
    }
   ],
   "source": [
    "print(len(inv_vocab))"
   ]
  },
  {
   "attachments": {},
   "cell_type": "markdown",
   "metadata": {},
   "source": [
    "Incoder input durch questions \n",
    "wenn Wort nicht bekannt dann vocab out"
   ]
  },
  {
   "cell_type": "code",
   "execution_count": 374,
   "metadata": {},
   "outputs": [],
   "source": [
    "encoder_inp = []\n",
    "for line in clean_ques:\n",
    "    lst = []\n",
    "    for word in line.split():\n",
    "        if word not in vocab:\n",
    "            lst.append(vocab['<OUT>'])\n",
    "        else:\n",
    "            lst.append(vocab[word])\n",
    "        \n",
    "    encoder_inp.append(lst)\n",
    "\n",
    "decoder_inp = []\n",
    "for line in clean_ans:\n",
    "    lst = []\n",
    "    for word in line.split():\n",
    "        if word not in vocab:\n",
    "            lst.append(vocab['<OUT>'])\n",
    "        else:\n",
    "            lst.append(vocab[word])        \n",
    "    decoder_inp.append(lst)\n",
    "\n",
    "### delete\n",
    "del(clean_ans, clean_ques, line, lst, word)    "
   ]
  },
  {
   "attachments": {},
   "cell_type": "markdown",
   "metadata": {},
   "source": [
    "# found longest length"
   ]
  },
  {
   "cell_type": "code",
   "execution_count": 375,
   "metadata": {},
   "outputs": [
    {
     "name": "stdout",
     "output_type": "stream",
     "text": [
      "26\n"
     ]
    }
   ],
   "source": [
    "longest_sequence = 0\n",
    "for x in encoder_inp+decoder_inp:\n",
    "    \n",
    "    if len(x) > longest_sequence:\n",
    "        longest_sequence = len(x)     \n",
    "print(longest_sequence)         "
   ]
  },
  {
   "cell_type": "code",
   "execution_count": 376,
   "metadata": {},
   "outputs": [],
   "source": [
    "def reverse_sequences(sequences):\n",
    "    return [seq[::-1] for seq in sequences]\n",
    "\n",
    "# Eingabedaten temporär umkehren\n",
    "encoder_inp_reversed = reverse_sequences(encoder_inp)\n",
    "decoder_inp_reversed = reverse_sequences(decoder_inp)"
   ]
  },
  {
   "attachments": {},
   "cell_type": "markdown",
   "metadata": {},
   "source": [
    "## padding"
   ]
  },
  {
   "cell_type": "code",
   "execution_count": 377,
   "metadata": {},
   "outputs": [],
   "source": [
    "from tensorflow.keras.preprocessing.sequence import pad_sequences\n",
    "\n",
    "encoder_inp = pad_sequences(encoder_inp, \n",
    "                            longest_sequence, \n",
    "                            padding='post', \n",
    "                            truncating='post')\n",
    "decoder_inp = pad_sequences(decoder_inp, \n",
    "                            longest_sequence, \n",
    "                            padding='post', \n",
    "                            truncating='post')\n",
    "\n",
    "encoder_inp_reversed = pad_sequences(encoder_inp_reversed, \n",
    "                            longest_sequence, \n",
    "                            padding='post', \n",
    "                            truncating='post')\n",
    "decoder_inp_reversed = pad_sequences(decoder_inp_reversed, \n",
    "                            longest_sequence, \n",
    "                            padding='post', \n",
    "                            truncating='post')\n"
   ]
  },
  {
   "cell_type": "code",
   "execution_count": 378,
   "metadata": {},
   "outputs": [
    {
     "name": "stdout",
     "output_type": "stream",
     "text": [
      "['<SOS>', 'convolutional', 'networks', 'help', 'capture', 'local', 'dependencies', 'in', 'tacotron', '2', '<EOS>', '<PAD>', '<PAD>', '<PAD>', '<PAD>', '<PAD>', '<PAD>', '<PAD>', '<PAD>', '<PAD>', '<PAD>', '<PAD>', '<PAD>', '<PAD>', '<PAD>', '<PAD>']\n",
      "['what', 'are', 'the', 'advantages', 'of', 'using', 'convolutional', 'networks', 'in', 'tacotron', '2', '<PAD>', '<PAD>', '<PAD>', '<PAD>', '<PAD>', '<PAD>', '<PAD>', '<PAD>', '<PAD>', '<PAD>', '<PAD>', '<PAD>', '<PAD>', '<PAD>', '<PAD>']\n"
     ]
    }
   ],
   "source": [
    "#print(encoder_inp)\n",
    "#print(decoder_inp)\n",
    "def make_vector_to_sequence(input, dic):\n",
    "    ints = []\n",
    "    for k in input:\n",
    "        try:\n",
    "            ints.append(inv_vocab[k])\n",
    "        except Exception as e:\n",
    "            ints.append(inv_vocab[2])\n",
    "        \n",
    "    return ints    \n",
    "\n",
    "x = make_vector_to_sequence(decoder_inp[5],vocab)\n",
    "print(x)\n",
    "x = make_vector_to_sequence(encoder_inp[5],vocab)\n",
    "print(x)"
   ]
  },
  {
   "attachments": {},
   "cell_type": "markdown",
   "metadata": {},
   "source": [
    "remove the \"start of the sequence\" simbol in the beginning"
   ]
  },
  {
   "cell_type": "code",
   "execution_count": 379,
   "metadata": {},
   "outputs": [],
   "source": [
    "decoder_final_output = []\n",
    "for i in decoder_inp:\n",
    "    decoder_final_output.append(i[1:]) \n",
    "\n",
    "decoder_final_output = pad_sequences(decoder_final_output, longest_sequence, padding='post', truncating='post')"
   ]
  },
  {
   "cell_type": "code",
   "execution_count": 380,
   "metadata": {},
   "outputs": [],
   "source": [
    "num_categories = len(vocab)  # Check the actual size of your vocabular"
   ]
  },
  {
   "cell_type": "code",
   "execution_count": 381,
   "metadata": {},
   "outputs": [
    {
     "data": {
      "text/plain": [
       "array([[  2,   3, 571, ...,   0,   0,   0],\n",
       "       [ 10,  13,  14, ...,   0,   0,   0],\n",
       "       [  2,   3, 576, ...,   0,   0,   0],\n",
       "       ...,\n",
       "       [  2,   3, 571, ...,   0,   0,   0],\n",
       "       [  2,   3, 119, ...,   0,   0,   0],\n",
       "       [ 10, 104, 151, ...,   0,   0,   0]])"
      ]
     },
     "execution_count": 381,
     "metadata": {},
     "output_type": "execute_result"
    }
   ],
   "source": [
    "decoder_final_output"
   ]
  },
  {
   "attachments": {},
   "cell_type": "markdown",
   "metadata": {},
   "source": [
    "convert 2d data to 3d for the LSTM units\n",
    "creates a separate column for every word in the vocabulary"
   ]
  },
  {
   "cell_type": "code",
   "execution_count": 382,
   "metadata": {},
   "outputs": [
    {
     "name": "stdout",
     "output_type": "stream",
     "text": [
      "Number of categories: 1134\n",
      "Decoder final output shape: (1099, 26)\n",
      "Maximum value in decoder final output: 1130\n",
      "(1099, 26, 1134)\n"
     ]
    }
   ],
   "source": [
    "from tensorflow.keras.utils import to_categorical\n",
    "\n",
    "num_categories = len(vocab)  # Check the actual size of your vocabulary\n",
    "\n",
    "# Debugging statements\n",
    "print(\"Number of categories:\", num_categories)\n",
    "print(\"Decoder final output shape:\", decoder_final_output.shape)\n",
    "print(\"Maximum value in decoder final output:\", decoder_final_output.max())\n",
    "\n",
    "# Convert to one-hot encoded representation\n",
    "decoder_final_output = to_categorical(decoder_final_output, num_categories)\n",
    "\n",
    "print(decoder_final_output.shape)"
   ]
  },
  {
   "cell_type": "code",
   "execution_count": 383,
   "metadata": {},
   "outputs": [],
   "source": [
    "#for x in decoder_final_output[0][0]:\n",
    "    #print(x)"
   ]
  },
  {
   "attachments": {},
   "cell_type": "markdown",
   "metadata": {},
   "source": [
    "Verwenden von keras instatt of sequencial weil mehr kontrolle"
   ]
  },
  {
   "cell_type": "code",
   "execution_count": 384,
   "metadata": {},
   "outputs": [],
   "source": [
    "from tensorflow.keras.models import Model\n",
    "from tensorflow.keras.layers import Dense, Embedding, LSTM, Input\n",
    "\n",
    "# for both\n",
    "\n",
    "enc_inp = Input(shape=(longest_sequence, ))\n",
    "dec_inp = Input(shape=(longest_sequence, ))\n",
    "# embedding layer reduces dimensionality\n",
    "# Compress output dim -> voc 722  bzw 300 \n",
    "VOCAB_SIZE = len(vocab)"
   ]
  },
  {
   "cell_type": "code",
   "execution_count": 385,
   "metadata": {},
   "outputs": [],
   "source": [
    "VOCAB_SIZE = len(vocab)\n",
    "embed = Embedding(VOCAB_SIZE+1, output_dim=400, \n",
    "                  input_length=longest_sequence,\n",
    "                  trainable=True                  \n",
    "                  )\n",
    "\n",
    "enc_embed = embed(enc_inp)\n",
    "\n",
    "enc_lstm = LSTM(800, return_sequences=True, return_state=True, dropout=0.1)\n",
    "enc_op, h, c = enc_lstm(enc_embed)\n",
    "enc_states = [h, c]\n",
    "\n",
    "dec_embed = embed(dec_inp)\n",
    "dec_lstm = LSTM(800, return_sequences=True, return_state=True, dropout=0.1)\n",
    "dec_op, _, _ = dec_lstm(dec_embed, initial_state=enc_states)\n",
    "\n",
    "dense = Dense(VOCAB_SIZE, activation='softmax')\n",
    "\n",
    "dense_op = dense(dec_op)\n",
    "\n",
    "model = Model([enc_inp, dec_inp], dense_op)"
   ]
  },
  {
   "cell_type": "code",
   "execution_count": 386,
   "metadata": {},
   "outputs": [
    {
     "name": "stdout",
     "output_type": "stream",
     "text": [
      "[0 1 2 3 4 5 6 7 0 0 0 0 0 0 0 0 0 0 0 0 0 0 0 0 0 0]\n",
      "[  0   1   2   3 138  32  33  34  30   0   0   0   0   0   0   0   0   0\n",
      "   0   0   0   0   0   0   0   0]\n"
     ]
    }
   ],
   "source": [
    "train_data_X = encoder_inp[:1000]\n",
    "train_data_Y = decoder_inp[:1000]\n",
    "val_data_X = encoder_inp[1000:]\n",
    "val_data_Y = encoder_inp[1000:]\n",
    "print(train_data_X[0])\n",
    "print(val_data_X[0])"
   ]
  },
  {
   "cell_type": "code",
   "execution_count": 387,
   "metadata": {},
   "outputs": [],
   "source": [
    "from tensorflow.keras.optimizers import Adam\n",
    "model.compile(loss='categorical_crossentropy',metrics=['acc'],optimizer='adam')\n",
    "if False:    \n",
    "#model2 = Model([enc_inp, dec_inp], dense_op)\n",
    "    history = None\n",
    "    with tf.device('/GPU:0'):\n",
    "        history = model.fit([train_data_X, train_data_Y], decoder_final_output[:1000],\n",
    "        validation_data=([val_data_X, val_data_Y], decoder_final_output[1000:]),\n",
    "        epochs=100, batch_size=150)\n",
    "    #history_frame = pd.DataFrame(history.history())\n",
    "    #history_frame.loc[:, ['loss', 'val_loss']].plot()\n",
    "    #history_frame.loc[:, ['acc', 'categorical_crossentropy']].plot()"
   ]
  },
  {
   "cell_type": "code",
   "execution_count": 388,
   "metadata": {},
   "outputs": [
    {
     "name": "stdout",
     "output_type": "stream",
     "text": [
      "55/55 [==============================] - 31s 519ms/step - loss: 3.0101 - acc: 0.5359\n",
      "55/55 [==============================] - 27s 492ms/step - loss: 2.3384 - acc: 0.5856\n",
      "55/55 [==============================] - 27s 495ms/step - loss: 2.2447 - acc: 0.5983\n",
      "55/55 [==============================] - 27s 493ms/step - loss: 2.0497 - acc: 0.6235\n",
      "55/55 [==============================] - 29s 522ms/step - loss: 2.0339 - acc: 0.6207\n",
      "55/55 [==============================] - 28s 510ms/step - loss: 1.7507 - acc: 0.6645\n",
      "55/55 [==============================] - 28s 514ms/step - loss: 1.8286 - acc: 0.6438\n",
      "55/55 [==============================] - 28s 513ms/step - loss: 1.4888 - acc: 0.7012\n",
      "55/55 [==============================] - 28s 513ms/step - loss: 1.6433 - acc: 0.6653\n",
      "55/55 [==============================] - 28s 502ms/step - loss: 1.2818 - acc: 0.7281\n"
     ]
    }
   ],
   "source": [
    "rev_encoder_inp = encoder_inp\n",
    "rev_decoder_input = decoder_inp\n",
    "# TODO function die reveres macht an Random \n",
    "\n",
    "histories = []\n",
    "with tf.device('/GPU:0'):\n",
    "    num_epochs = 10\n",
    "    for epoch in range(num_epochs):\n",
    "        # Erstellen Sie Ihre Eingaben für diese Epoche\n",
    "        if epoch % 2 == 1:\n",
    "            history = model.fit([encoder_inp, decoder_inp], decoder_final_output,\n",
    "                                batch_size=20 )\n",
    "        else:\n",
    "            history = model.fit([encoder_inp_reversed,decoder_inp_reversed], decoder_final_output,\n",
    "                               batch_size=20 )  \n",
    "        histories.append(history)\n",
    "        "
   ]
  },
  {
   "cell_type": "code",
   "execution_count": 389,
   "metadata": {},
   "outputs": [],
   "source": [
    "\n",
    "if None:\n",
    "    history = None\n",
    "    with tf.device('/GPU:0'):\n",
    "        history = model.fit([encoder_inp, decoder_inp], decoder_final_output,\n",
    "        epochs=10, batch_size=20)"
   ]
  },
  {
   "cell_type": "code",
   "execution_count": 390,
   "metadata": {},
   "outputs": [],
   "source": [
    "import pickle\n",
    "if False: \n",
    "    def save_model_and_state(enc_name,modelname):\n",
    "        with open(\"new_saves/\"+ enc_name + \".pkl\", 'wb') as f:\n",
    "            pickle.dump(enc_states, f)\n",
    "        # Save the model\n",
    "        model.save(\"new_saves/\"+ modelname + \".h5\")"
   ]
  },
  {
   "cell_type": "code",
   "execution_count": 391,
   "metadata": {},
   "outputs": [
    {
     "ename": "KeyError",
     "evalue": "'val_loss'",
     "output_type": "error",
     "traceback": [
      "\u001b[1;31m---------------------------------------------------------------------------\u001b[0m",
      "\u001b[1;31mKeyError\u001b[0m                                  Traceback (most recent call last)",
      "\u001b[1;32mc:\\Users\\Ben\\Desktop\\Sequence_to_sequence_about_tacotron_2\\start.ipynb Cell 48\u001b[0m line \u001b[0;36m<cell line: 5>\u001b[1;34m()\u001b[0m\n\u001b[0;32m      <a href='vscode-notebook-cell:/c%3A/Users/Ben/Desktop/Sequence_to_sequence_about_tacotron_2/start.ipynb#X66sZmlsZQ%3D%3D?line=2'>3</a>\u001b[0m \u001b[39m# Get the training and validation loss\u001b[39;00m\n\u001b[0;32m      <a href='vscode-notebook-cell:/c%3A/Users/Ben/Desktop/Sequence_to_sequence_about_tacotron_2/start.ipynb#X66sZmlsZQ%3D%3D?line=3'>4</a>\u001b[0m train_loss \u001b[39m=\u001b[39m history\u001b[39m.\u001b[39mhistory[\u001b[39m'\u001b[39m\u001b[39mloss\u001b[39m\u001b[39m'\u001b[39m]\n\u001b[1;32m----> <a href='vscode-notebook-cell:/c%3A/Users/Ben/Desktop/Sequence_to_sequence_about_tacotron_2/start.ipynb#X66sZmlsZQ%3D%3D?line=4'>5</a>\u001b[0m val_loss \u001b[39m=\u001b[39m history\u001b[39m.\u001b[39;49mhistory[\u001b[39m'\u001b[39;49m\u001b[39mval_loss\u001b[39;49m\u001b[39m'\u001b[39;49m]\n\u001b[0;32m      <a href='vscode-notebook-cell:/c%3A/Users/Ben/Desktop/Sequence_to_sequence_about_tacotron_2/start.ipynb#X66sZmlsZQ%3D%3D?line=6'>7</a>\u001b[0m \u001b[39m# Plot the training and validation loss\u001b[39;00m\n\u001b[0;32m      <a href='vscode-notebook-cell:/c%3A/Users/Ben/Desktop/Sequence_to_sequence_about_tacotron_2/start.ipynb#X66sZmlsZQ%3D%3D?line=7'>8</a>\u001b[0m epochs \u001b[39m=\u001b[39m \u001b[39mrange\u001b[39m(\u001b[39m1\u001b[39m, \u001b[39mlen\u001b[39m(train_loss) \u001b[39m+\u001b[39m \u001b[39m1\u001b[39m)\n",
      "\u001b[1;31mKeyError\u001b[0m: 'val_loss'"
     ]
    }
   ],
   "source": [
    "import matplotlib.pyplot as plt\n",
    "\n",
    "# Get the training and validation loss\n",
    "train_loss = history.history['loss']\n",
    "val_loss = history.history['val_loss']\n",
    "\n",
    "# Plot the training and validation loss\n",
    "epochs = range(1, len(train_loss) + 1)\n",
    "plt.plot(epochs, train_loss, 'b', label='Training Loss')\n",
    "#plt.plot(epochs, val_loss, 'r', label='Validation Loss')\n",
    "plt.title('Training and Validation Loss')\n",
    "plt.xlabel('Epochs')\n",
    "plt.ylabel('Loss')\n",
    "plt.legend()\n",
    "plt.show()\n",
    "\n",
    "\n",
    "train_loss = history.history['loss']\n",
    "val_loss = history.history['val_loss']\n",
    "\n",
    "# Plot the training and validation loss\n",
    "epochs = range(1, len(train_loss) + 1)\n",
    "plt.plot(epochs, train_loss, 'b', label='Training Loss')\n",
    "plt.plot(epochs, val_loss, 'r', label='Validation Loss')\n",
    "plt.title('Training and Validation Loss')\n",
    "plt.xlabel('Epochs')\n",
    "plt.ylabel('Loss')\n",
    "plt.legend()\n",
    "plt.show()\n"
   ]
  },
  {
   "cell_type": "code",
   "execution_count": null,
   "metadata": {},
   "outputs": [],
   "source": []
  },
  {
   "cell_type": "code",
   "execution_count": null,
   "metadata": {},
   "outputs": [
    {
     "data": {
      "image/png": "[encoded data removed]",
      "text/plain": [
       "<Figure size 640x480 with 1 Axes>"
      ]
     },
     "metadata": {},
     "output_type": "display_data"
    },
    {
     "data": {
      "image/png": "[encoded data removed]",
      "text/plain": [
       "<Figure size 640x480 with 1 Axes>"
      ]
     },
     "metadata": {},
     "output_type": "display_data"
    }
   ],
   "source": [
    "train_acc = history.history['acc']\n",
    "train_los = history.history['loss']\n",
    "\n",
    "# Plot the training and validation loss\n",
    "epochs = range(1, len(train_acc) + 1)\n",
    "plt.plot(epochs, train_acc, 'b', label='Training Accuracy')\n",
    "#plt.plot(epochs, train_los, 'r', label='Training Loss')\n",
    "plt.title('Reversed + Not Reversed Epochs=5 batchsize=20 dropout=0')\n",
    "plt.xlabel('Epochs')\n",
    "plt.ylabel('Accuracy')\n",
    "plt.legend()\n",
    "plt.show()\n",
    "\n",
    "\n",
    "epochs = range(1, len(train_acc) + 1)\n",
    "#plt.plot(epochs, train_acc, 'b', label='Training Accuracy')\n",
    "plt.plot(epochs, train_los, 'r', label='Training Loss')\n",
    "plt.title('Reversed + Not Reversed Epochs=5 batchsize=20 dropout=0')\n",
    "plt.xlabel('Epochs')\n",
    "plt.ylabel('Accuracy')\n",
    "plt.legend()\n",
    "plt.show()"
   ]
  },
  {
   "cell_type": "code",
   "execution_count": null,
   "metadata": {},
   "outputs": [
    {
     "name": "stdout",
     "output_type": "stream",
     "text": [
      "No GPU detected.\n"
     ]
    }
   ],
   "source": [
    "gpus = tf.config.list_physical_devices('GPU')\n",
    "if gpus:\n",
    "    for gpu in gpus:\n",
    "        print(\"GPU:\", gpu)\n",
    "else:\n",
    "    print(\"No GPU detected.\")"
   ]
  },
  {
   "cell_type": "code",
   "execution_count": null,
   "metadata": {},
   "outputs": [],
   "source": [
    "#model = tf.keras.models.load_model(\"trained_models/my_modelNr5.h5\")#"
   ]
  },
  {
   "cell_type": "code",
   "execution_count": null,
   "metadata": {},
   "outputs": [],
   "source": [
    "#model = otherModel()\n",
    "#model.compile(loss='categorical_crossentropy',metrics=['acc'],optimizer='adam')\n",
    "#history = model.fit([train_data_X, train_data_Y], decoder_final_output[:1000],\n",
    "#          validation_data=([val_data_X, val_data_Y], decoder_final_output[1000:]),\n",
    "#          epochs=100, batch_size=150)\n",
    "#history_frame = pd.DataFrame(history.history())\n",
    "#history_frame.loc[:, ['loss', 'val_loss']].plot()\n",
    "#history_frame.loc[:, ['acc', 'categorical_crossentropy']].plot()"
   ]
  },
  {
   "cell_type": "code",
   "execution_count": null,
   "metadata": {},
   "outputs": [],
   "source": [
    "#model2 = Model([enc_inp, dec_inp], dense_op)\n",
    "#from tensorflow.keras.optimizers import Adam\n",
    "#model2.compile(loss='categorical_crossentropy',metrics=['acc'],optimizer='adam')\n",
    "#history = model2.fit([encoder_inp,decoder_inp], decoder_final_output,epochs=50, batch_size=150)"
   ]
  },
  {
   "cell_type": "code",
   "execution_count": null,
   "metadata": {},
   "outputs": [],
   "source": [
    "#!pip install tensorflow-gpu\n",
    "#print(tf.test.gpu_device_name())\n",
    "#!pip install pandas\n",
    "#!pip install matplotlib"
   ]
  },
  {
   "cell_type": "code",
   "execution_count": null,
   "metadata": {},
   "outputs": [],
   "source": [
    "#model.save('trained_models/normalModel_100Epochs.h5')"
   ]
  },
  {
   "cell_type": "code",
   "execution_count": null,
   "metadata": {},
   "outputs": [
    {
     "name": "stdout",
     "output_type": "stream",
     "text": [
      "Model: \"model_30\"\n",
      "__________________________________________________________________________________________________\n",
      " Layer (type)                   Output Shape         Param #     Connected to                     \n",
      "==================================================================================================\n",
      " input_42 (InputLayer)          [(None, 26)]         0           []                               \n",
      "                                                                                                  \n",
      " input_41 (InputLayer)          [(None, 26)]         0           []                               \n",
      "                                                                                                  \n",
      " embedding_11 (Embedding)       (None, 26, 400)      454000      ['input_41[0][0]',               \n",
      "                                                                  'input_42[0][0]']               \n",
      "                                                                                                  \n",
      " lstm_24 (LSTM)                 [(None, 26, 800),    3843200     ['embedding_11[0][0]']           \n",
      "                                 (None, 800),                                                     \n",
      "                                 (None, 800)]                                                     \n",
      "                                                                                                  \n",
      " lstm_25 (LSTM)                 [(None, 26, 800),    3843200     ['embedding_11[1][0]',           \n",
      "                                 (None, 800),                     'lstm_24[0][1]',                \n",
      "                                 (None, 800)]                     'lstm_24[0][2]']                \n",
      "                                                                                                  \n",
      " dense_11 (Dense)               (None, 26, 1134)     908334      ['lstm_25[0][0]']                \n",
      "                                                                                                  \n",
      "==================================================================================================\n",
      "Total params: 9,048,734\n",
      "Trainable params: 9,048,734\n",
      "Non-trainable params: 0\n",
      "__________________________________________________________________________________________________\n"
     ]
    }
   ],
   "source": [
    "model.summary()"
   ]
  },
  {
   "attachments": {},
   "cell_type": "markdown",
   "metadata": {},
   "source": [
    "To use modell have to use Interence\n",
    "To use the modell we need the enc_states"
   ]
  },
  {
   "cell_type": "code",
   "execution_count": null,
   "metadata": {},
   "outputs": [],
   "source": [
    "# Encodieren des Eingangs und Erstellen des Encoder-Modells\n",
    "enc_model = Model([enc_inp], enc_states)\n",
    "\n",
    "# decoder Model\n",
    "decoder_state_input_h = Input(shape=(800,))\n",
    "decoder_state_input_c = Input(shape=(800,))\n",
    "\n",
    "decoder_states_inputs = [decoder_state_input_h, decoder_state_input_c]\n",
    "\n",
    "# Verwenden von LSTM-Einheiten mit den trainierten Gewichten\n",
    "# h ist der Hidden State mit Kontextinformation\n",
    "# c ist der Cell State mit Informationen über Abhängigkeiten\n",
    "decoder_outputs, state_h, state_c = dec_lstm(dec_embed , \n",
    "                                    initial_state=decoder_states_inputs)\n",
    "\n",
    "decoder_states = [state_h, state_c]\n",
    "\n",
    "dec_model = Model([dec_inp]+ decoder_states_inputs,\n",
    "                                      [decoder_outputs]+ decoder_states)"
   ]
  },
  {
   "cell_type": "code",
   "execution_count": null,
   "metadata": {},
   "outputs": [],
   "source": [
    "def x():\n",
    "    # Save Encoder Model\n",
    "    enc_model.save(\"encoder_model_t4.h5\")\n",
    "\n",
    "    # Save Decoder Model\n",
    "    dec_model.save(\"decoder_model_t4.h5\")\n",
    "\n",
    "\n",
    "    from keras.models import load_model\n",
    "\n",
    "    # Load Encoder Model\n",
    "    #enc_model = load_model(\"encoder_model_t3.h5\")\n",
    "\n",
    "    # Load Decoder Model\n",
    "   # dec_model = load_model(\"decoder_model_t3.h5\")\n",
    "x()"
   ]
  },
  {
   "cell_type": "code",
   "execution_count": null,
   "metadata": {},
   "outputs": [],
   "source": []
  },
  {
   "cell_type": "code",
   "execution_count": null,
   "metadata": {},
   "outputs": [
    {
     "name": "stdout",
     "output_type": "stream",
     "text": [
      "[8, 9, 2, 3, 1131]\n"
     ]
    }
   ],
   "source": [
    "def create_pred_input(sentence):\n",
    "    X_in = []\n",
    "    for word in sentence.lower().split():\n",
    "        try:\n",
    "            X_in.append(vocab[word])\n",
    "        except:\n",
    "            X_in.append(vocab['<OUT>'])\n",
    "            pass\n",
    "    print(X_in)    \n",
    "    return pad_sequences([X_in], longest_sequence, padding='post')\n",
    "\n",
    "input_for_prediction = create_pred_input('What is Tacotron 2 ?')"
   ]
  },
  {
   "cell_type": "code",
   "execution_count": 1,
   "metadata": {},
   "outputs": [],
   "source": [
    "def predict_sentence(sentences):\n",
    "    sentences = make_clean(sentences)\n",
    "    for sentence in sentences:\n",
    "        print(\"Question  : \" + sentence + \"/n\")\n",
    "        pred_input = create_pred_input(sentence)\n",
    "        stat = enc_model.predict(pred_input)\n",
    "        print(\"make predicted Input for \" + str(pred_input))\n",
    "        empty_target_seq = np.zeros( ( 1 , 1) )\n",
    "        ##   empty_target_seq = [0]\n",
    "        empty_target_seq[0, 0] = vocab['<SOS>']       \n",
    "\n",
    "        stop_condition = False\n",
    "        decoded_translation = ''\n",
    "        while not stop_condition :\n",
    "            # Vorhersage für das nächste Token\n",
    "            dec_outputs , h, c= dec_model.predict([ empty_target_seq] + stat )\n",
    "            # Transformation der Decoder-Ausgaben -> decoder_concat_input = [0.1, 0.2, .4, ..]\n",
    "            decoder_concat_input = dense(dec_outputs)\n",
    "            # Index des wahrscheinlichsten Tokens auswählen\n",
    "            sampled_word_index = np.argmax( decoder_concat_input[0, -1, :] )\n",
    "            # Wort anhand des Index im Vokabular auswählen  => inv_vocab[2] = 'hi' -> sampled_word = 'hi '\n",
    "            sampled_word = inv_vocab[sampled_word_index] + ' '\n",
    "\n",
    "            # Generierte Wörter zur Antwort hinzufügen Stop Bedingungen\n",
    "            if sampled_word != '<EOS> ':\n",
    "                decoded_translation += sampled_word  \n",
    "\n",
    "            if (sampled_word == '<EOS> ' or len(decoded_translation.split()) > longest_sequence):\n",
    "                stop_condition = True \n",
    "\n",
    "            # Aktualisieren des Decoder-Eingangs für das nächste Token\n",
    "            empty_target_seq = np.zeros( ( 1 , 1 ) )  \n",
    "            empty_target_seq[ 0 , 0 ] = sampled_word_index\n",
    "            ## <SOS> - > hi ## hi --> <EOS>\n",
    "            stat = [h, c]  \n",
    "\n",
    "        print(\"chatbot : \", decoded_translation )\n",
    "        print(\"============================================== \\n\")  "
   ]
  },
  {
   "cell_type": "code",
   "execution_count": null,
   "metadata": {},
   "outputs": [
    {
     "name": "stdout",
     "output_type": "stream",
     "text": [
      "Question  : how does tacotron 2 utilize a sequencetosequence architecture/n\n",
      "[0, 1, 2, 3, 4, 5, 6, 7]\n",
      "1/1 [==============================] - 0s 281ms/step\n",
      "make predicted Input for [[0 1 2 3 4 5 6 7 0 0 0 0 0 0 0 0 0 0 0 0 0 0 0 0 0 0]]\n",
      "1/1 [==============================] - 0s 256ms/step\n",
      "1/1 [==============================] - 0s 14ms/step\n",
      "1/1 [==============================] - 0s 17ms/step\n",
      "1/1 [==============================] - 0s 18ms/step\n",
      "1/1 [==============================] - 0s 17ms/step\n",
      "1/1 [==============================] - 0s 18ms/step\n",
      "1/1 [==============================] - 0s 16ms/step\n",
      "1/1 [==============================] - 0s 27ms/step\n",
      "1/1 [==============================] - 0s 16ms/step\n",
      "1/1 [==============================] - 0s 16ms/step\n",
      "1/1 [==============================] - 0s 16ms/step\n",
      "1/1 [==============================] - 0s 16ms/step\n",
      "1/1 [==============================] - 0s 17ms/step\n",
      "1/1 [==============================] - 0s 17ms/step\n",
      "chatbot :  tacotron 2 utilizes lstm units for modeling longterm dependencies in the speech synthesis \n",
      "============================================== \n",
      "\n",
      "Question  : what is the purpose of the spectral encoder in tacotron 2/n\n",
      "[8, 9, 10, 11, 12, 10, 13, 14, 15, 2, 3]\n",
      "1/1 [==============================] - 0s 22ms/step\n",
      "make predicted Input for [[ 8  9 10 11 12 10 13 14 15  2  3  0  0  0  0  0  0  0  0  0  0  0  0  0\n",
      "   0  0]]\n",
      "1/1 [==============================] - 0s 17ms/step\n",
      "1/1 [==============================] - 0s 17ms/step\n",
      "1/1 [==============================] - 0s 17ms/step\n",
      "1/1 [==============================] - 0s 17ms/step\n",
      "1/1 [==============================] - 0s 16ms/step\n",
      "1/1 [==============================] - 0s 17ms/step\n",
      "1/1 [==============================] - 0s 17ms/step\n",
      "1/1 [==============================] - 0s 17ms/step\n",
      "1/1 [==============================] - 0s 15ms/step\n",
      "1/1 [==============================] - 0s 17ms/step\n",
      "1/1 [==============================] - 0s 16ms/step\n",
      "1/1 [==============================] - 0s 16ms/step\n",
      "1/1 [==============================] - 0s 16ms/step\n",
      "chatbot :  the spectral encoder in tacotron 2 converts melscale spectrograms into highresolution spectrograms \n",
      "============================================== \n",
      "\n",
      "Question  : how does tacotron 2 generate speech from spectrograms/n\n",
      "[0, 1, 2, 3, 16, 17, 18, 19]\n",
      "1/1 [==============================] - 0s 21ms/step\n",
      "make predicted Input for [[ 0  1  2  3 16 17 18 19  0  0  0  0  0  0  0  0  0  0  0  0  0  0  0  0\n",
      "   0  0]]\n",
      "1/1 [==============================] - 0s 17ms/step\n",
      "1/1 [==============================] - 0s 17ms/step\n",
      "1/1 [==============================] - 0s 16ms/step\n",
      "1/1 [==============================] - 0s 16ms/step\n",
      "1/1 [==============================] - 0s 16ms/step\n",
      "1/1 [==============================] - 0s 17ms/step\n",
      "1/1 [==============================] - 0s 17ms/step\n",
      "1/1 [==============================] - 0s 17ms/step\n",
      "1/1 [==============================] - 0s 16ms/step\n",
      "1/1 [==============================] - 0s 16ms/step\n",
      "1/1 [==============================] - 0s 16ms/step\n",
      "chatbot :  tacotron 2 generates speech from text using a sequencetosequence model \n",
      "============================================== \n",
      "\n",
      "Question  : can the tacotron 2 deal with speech/n\n",
      "[119, 10, 2, 3, 68, 62, 17]\n",
      "1/1 [==============================] - 0s 22ms/step\n",
      "make predicted Input for [[119  10   2   3  68  62  17   0   0   0   0   0   0   0   0   0   0   0\n",
      "    0   0   0   0   0   0   0   0]]\n",
      "1/1 [==============================] - 0s 16ms/step\n",
      "1/1 [==============================] - 0s 17ms/step\n",
      "1/1 [==============================] - 0s 17ms/step\n",
      "1/1 [==============================] - 0s 16ms/step\n",
      "1/1 [==============================] - 0s 17ms/step\n",
      "1/1 [==============================] - 0s 16ms/step\n",
      "1/1 [==============================] - 0s 17ms/step\n",
      "1/1 [==============================] - 0s 16ms/step\n",
      "1/1 [==============================] - 0s 16ms/step\n",
      "1/1 [==============================] - 0s 16ms/step\n",
      "1/1 [==============================] - 0s 17ms/step\n",
      "1/1 [==============================] - 0s 17ms/step\n",
      "1/1 [==============================] - 0s 16ms/step\n",
      "1/1 [==============================] - 0s 16ms/step\n",
      "1/1 [==============================] - 0s 16ms/step\n",
      "chatbot :  tacotron 2 can be used for realtime speech synthesis with appropriate hardware and optimizations \n",
      "============================================== \n",
      "\n",
      "Question  : can it generate speech/n\n",
      "[119, 497, 16, 17]\n",
      "1/1 [==============================] - 0s 23ms/step\n",
      "make predicted Input for [[119 497  16  17   0   0   0   0   0   0   0   0   0   0   0   0   0   0\n",
      "    0   0   0   0   0   0   0   0]]\n",
      "1/1 [==============================] - 0s 17ms/step\n",
      "1/1 [==============================] - 0s 18ms/step\n",
      "1/1 [==============================] - 0s 17ms/step\n",
      "1/1 [==============================] - 0s 26ms/step\n",
      "1/1 [==============================] - 0s 16ms/step\n",
      "1/1 [==============================] - 0s 17ms/step\n",
      "1/1 [==============================] - 0s 17ms/step\n",
      "1/1 [==============================] - 0s 17ms/step\n",
      "1/1 [==============================] - 0s 17ms/step\n",
      "1/1 [==============================] - 0s 17ms/step\n",
      "1/1 [==============================] - 0s 17ms/step\n",
      "1/1 [==============================] - 0s 17ms/step\n",
      "1/1 [==============================] - 0s 17ms/step\n",
      "1/1 [==============================] - 0s 17ms/step\n",
      "chatbot :  the text encoder in tacotron 2 encodes input text into a fixedlength vector \n",
      "============================================== \n",
      "\n",
      "Question  : what are current challenges/n\n",
      "[8, 23, 215, 51]\n",
      "1/1 [==============================] - 0s 26ms/step\n",
      "make predicted Input for [[  8  23 215  51   0   0   0   0   0   0   0   0   0   0   0   0   0   0\n",
      "    0   0   0   0   0   0   0   0]]\n",
      "1/1 [==============================] - 0s 16ms/step\n",
      "1/1 [==============================] - 0s 17ms/step\n",
      "1/1 [==============================] - 0s 16ms/step\n",
      "1/1 [==============================] - 0s 17ms/step\n",
      "1/1 [==============================] - 0s 17ms/step\n",
      "1/1 [==============================] - 0s 17ms/step\n",
      "1/1 [==============================] - 0s 18ms/step\n",
      "1/1 [==============================] - 0s 18ms/step\n",
      "1/1 [==============================] - 0s 17ms/step\n",
      "1/1 [==============================] - 0s 17ms/step\n",
      "1/1 [==============================] - 0s 17ms/step\n",
      "1/1 [==============================] - 0s 17ms/step\n",
      "1/1 [==============================] - 0s 16ms/step\n",
      "1/1 [==============================] - 0s 18ms/step\n",
      "chatbot :  the text encoder in tacotron 2 encodes input text into a fixedlength vector \n",
      "============================================== \n",
      "\n",
      "Question  : is it a sequence2sequence model/n\n",
      "[9, 497, 5, 1131, 213]\n",
      "1/1 [==============================] - 0s 23ms/step\n",
      "make predicted Input for [[   9  497    5 1131  213    0    0    0    0    0    0    0    0    0\n",
      "     0    0    0    0    0    0    0    0    0    0    0    0]]\n",
      "1/1 [==============================] - 0s 17ms/step\n",
      "1/1 [==============================] - 0s 16ms/step\n",
      "1/1 [==============================] - 0s 24ms/step\n",
      "1/1 [==============================] - 0s 16ms/step\n",
      "1/1 [==============================] - 0s 17ms/step\n",
      "1/1 [==============================] - 0s 2ms/step\n",
      "1/1 [==============================] - 0s 18ms/step\n",
      "1/1 [==============================] - 0s 16ms/step\n",
      "1/1 [==============================] - 0s 17ms/step\n",
      "1/1 [==============================] - 0s 16ms/step\n",
      "1/1 [==============================] - 0s 18ms/step\n",
      "1/1 [==============================] - 0s 18ms/step\n",
      "chatbot :  tacotron 2 requires training data consisting of textspeech pairs for learning \n",
      "============================================== \n",
      "\n",
      "Question  : how many language/n\n",
      "[0, 652, 196]\n",
      "1/1 [==============================] - 0s 22ms/step\n",
      "make predicted Input for [[  0 652 196   0   0   0   0   0   0   0   0   0   0   0   0   0   0   0\n",
      "    0   0   0   0   0   0   0   0]]\n",
      "1/1 [==============================] - 0s 17ms/step\n",
      "1/1 [==============================] - 0s 17ms/step\n",
      "1/1 [==============================] - 0s 17ms/step\n",
      "1/1 [==============================] - 0s 17ms/step\n",
      "1/1 [==============================] - 0s 18ms/step\n",
      "1/1 [==============================] - 0s 16ms/step\n",
      "1/1 [==============================] - 0s 17ms/step\n",
      "1/1 [==============================] - 0s 17ms/step\n",
      "1/1 [==============================] - 0s 16ms/step\n",
      "1/1 [==============================] - 0s 17ms/step\n",
      "1/1 [==============================] - 0s 18ms/step\n",
      "chatbot :  tacotron 2 utilizes wavenet vocoder to generate highquality speech waveforms \n",
      "============================================== \n",
      "\n"
     ]
    }
   ],
   "source": [
    "Testset = [\"How does Tacotron 2 utilize a Sequence-to-Sequence architecture?\",\n",
    "\"What is the purpose of the Spectral Encoder in Tacotron 2?\",\n",
    "\"How does Tacotron 2 generate speech from spectrograms?\"\n",
    "\"What is the role of the WaveNet Vocoder in Tacotron 2\",\n",
    "\"How are character embeddings used in Tacotron 2?\",\n",
    "\"What are the advantages of using convolutional networks in Tacotron 2?\"]\n",
    "#print(])\n",
    "predict_sentence([questions[0],questions[1],questions[2]])\n",
    "\n",
    "\n",
    "#predict_sentence(answers[0])\n",
    "Testset = [\"Can the Tacotron 2 deal with speech\",\n",
    "           \"Can it generate speech\",\n",
    "           \"what are current challenges\",\n",
    "           \"Is it a sequence2sequence model\",\n",
    "           \"How many language\"\n",
    "           ]\n",
    "predict_sentence(Testset)\n",
    "\n",
    "\n"
   ]
  },
  {
   "cell_type": "markdown",
   "metadata": {},
   "source": []
  },
  {
   "cell_type": "code",
   "execution_count": null,
   "metadata": {},
   "outputs": [
    {
     "name": "stdout",
     "output_type": "stream",
     "text": [
      "{'how': 0, 'does': 1, 'tacotron': 2, '2': 3, 'utilize': 4, 'a': 5, 'sequencetosequence': 6, 'architecture': 7, 'what': 8, 'is': 9, 'the': 10, 'purpose': 11, 'of': 12, 'spectral': 13, 'encoder': 14, 'in': 15, 'generate': 16, 'speech': 17, 'from': 18, 'spectrograms': 19, 'role': 20, 'wavenet': 21, 'vocoder': 22, 'are': 23, 'character': 24, 'embeddings': 25, 'used': 26, 'advantages': 27, 'using': 28, 'convolutional': 29, 'networks': 30, 'lstm': 31, 'long': 32, 'shortterm': 33, 'memory': 34, 'relationship': 35, 'between': 36, 'and': 37, 'synthesis': 38, 'handle': 39, 'sentences': 40, 'improvements': 41, 'bring': 42, 'compared': 43, 'to': 44, 'its': 45, 'previous': 46, 'version': 47, 'variations': 48, 'pitch': 49, 'intonation': 50, 'challenges': 51, 'face': 52, 'handling': 53, 'different': 54, 'languages': 55, 'multiple': 56, 'speakers': 57, 'techniques': 58, 'employ': 59, 'ensure': 60, 'naturalsounding': 61, 'with': 62, 'background': 63, 'noise': 64, 'limitations': 65, 'terms': 66, 'generating': 67, 'deal': 68, 'outofvocabulary': 69, 'words': 70, 'accents': 71, 'computational': 72, 'requirements': 73, 'for': 74, 'training': 75, 'emotional': 76, 'expressions': 77, 'data': 78, 'train': 79, 'at': 80, 'speeds': 81, 'future': 82, 'research': 83, 'directions': 84, 'improving': 85, 'deep': 86, 'learning': 87, 'text': 88, 'play': 89, 'characters': 90, 'encoded': 91, 'function': 92, 'main': 93, 'technical': 94, 'implementing': 95, 'input': 96, 'sequences': 97, 'improve': 98, 'quality': 99, 'resources': 100, 'required': 101, 'process': 102, 'noisy': 103, 'attention': 104, 'mechanisms': 105, 'prosody': 106, 'impact': 107, 'batch': 108, 'size': 109, 'on': 110, 'speaker': 111, 'adaptation': 112, 'compare': 113, 'other': 114, 'models': 115, 'performance': 116, 'contribute': 117, '2s': 118, 'can': 119, 'you': 120, 'explain': 121, 'embedding': 122, 'significance': 123, 'generation': 124, 'waveforms': 125, 'texttospeech': 126, 'complex': 127, 'during': 128, 'brief': 129, 'some': 130, 'applications': 131, 'field': 132, 'distortion': 133, 'audio': 134, 'potential': 135, 'be': 136, 'realtime': 137, 'use': 138, 'punctuation': 139, 'emphasis': 140, 'synthesized': 141, 'finetuned': 142, 'specific': 143, 'domains': 144, 'or': 145, 'styles': 146, 'deploying': 147, 'do': 148, 'output': 149, 'format': 150, 'mechanism': 151, 'implemented': 152, 'advantage': 153, 'over': 154, 'traditional': 155, 'methods': 156, 'texts': 157, 'components': 158, 'pauses': 159, 'expressive': 160, 'implement': 161, 'key': 162, 'building': 163, 'normalization': 164, 'capitalization': 165, 'conversion': 166, 'complexity': 167, 'sounds': 168, 'rate': 169, 'speaking': 170, 'style': 171, 'tasks': 172, 'work': 173, 'neural': 174, '1': 175, 'longrange': 176, 'dependencies': 177, 'benefit': 178, 'approach': 179, 'lowquality': 180, 'dataset': 181, 'preprocessing': 182, 'stateoftheart': 183, 'concept': 184, 'zeichenembedding': 185, 'layer': 186, 'synthesize': 187, 'lowresource': 188, 'emotions': 189, 'cost': 190, 'running': 191, 'besides': 192, 'ambiguous': 193, 'homophone': 194, 'natural': 195, 'language': 196, 'processing': 197, 'systems': 198, 'convert': 199, 'into': 200, 'waveform': 201, 'synthesizer': 202, 'units': 203, 'naturalness': 204, 'generated': 205, 'datasets': 206, 'hyperparameters': 207, 'disfluencies': 208, 'melspectrogram': 209, 'benefits': 210, 'differ': 211, 'original': 212, 'model': 213, 'developments': 214, 'current': 215, 'trends': 216, 'like': 217, 'incorporate': 218, 'optimize': 219, 'efficient': 220, 'inference': 221, 'difference': 222, 'multispeaker': 223, 'address': 224, 'tradeoff': 225, 'intelligibility': 226, 'capabilities': 227, 'architectures': 228, 'utilized': 229, 'overcome': 230, 'issue': 231, 'clarity': 232, 'transfer': 233, 'kind': 234, 'take': 235, 'structured': 236, 'larger': 237, 'silences': 238, 'decoder': 239, 'phonetic': 240, 'nonlinguistic': 241, 'effects': 242, 'component': 243, 'mel': 244, 'arise': 245, 'when': 246, 'than': 247, 'english': 248, 'realworld': 249, 'scenarios': 250, 'voice': 251, 'cloning': 252, 'linguistic': 253, 'nuances': 254, 'context': 255, 'combined': 256, 'such': 257, 'as': 258, 'highquality': 259, 'assistants': 260, 'audiobook': 261, 'production': 262, 'pronunciation': 263, 'trained': 264, 'alternatives': 265, 'multilingual': 266, 'integrate': 267, 'describe': 268, 'variation': 269, 'individuality': 270, 'expressiveness': 271, 'run': 272, 'accuracy': 273, 'embedded': 274, 'tradeoffs': 275, 'errors': 276, 'achieve': 277, 'interference': 278, 'large': 279, 'rhythm': 280, 'customization': 281, 'advancements': 282, 'speed': 283, 'tempo': 284, 'objective': 285, 'alignment': 286, 'efficiency': 287, 'perform': 288, 'voices': 289, 'versions': 290, 'represented': 291, 'realistic': 292, 'rare': 293, 'limited': 294, 'gender': 295, 'age': 296, 'algorithms': 297, 'largescale': 298, 'further': 299, 'improved': 300, 'achieved': 301, 'leverage': 302, 'longterm': 303, 'upon': 304, 'predecessor': 305, 'characteristics': 306, 'phonemes': 307, 'inputs': 308, 'offer': 309, 'prevent': 310, 'overfitting': 311, 'signals': 312, 'adapted': 313, 'beyond': 314, 'extensions': 315, 'variablelength': 316, 'adapting': 317, 'environmental': 318, 'factors': 319, 'features': 320, 'laughter': 321, 'breath': 322, 'disfluent': 323, 'noises': 324, 'sequencertosequencer': 325, 'signal': 326, 'unclear': 327, 'vocoding': 328, 'melspectrograms': 329, 'oov': 330, 'twostep': 331, 'textencoder': 332, 'proper': 333, 'nouns': 334, 'diacritics': 335, 'encoderdecoder': 336, 'postnet': 337, 'genders': 338, 'ages': 339, 'f0': 340, 'conditioning': 341, 'duration': 342, 'dialects': 343, 'meldecoder': 344, 'rates': 345, 'characterembedding': 346, 'layers': 347, 'levels': 348, 'recording': 349, 'conditions': 350, 'residual': 351, 'connections': 352, 'microphones': 353, 'devices': 354, 'sampling': 355, 'prenet': 356, 'postprocessing': 357, 'mouth': 358, 'shapes': 359, 'batchnormalization': 360, 'relu': 361, 'activation': 362, 'music': 363, 'sound': 364, 'reverberation': 365, 'dropout': 366, 'adam': 367, 'optimizer': 368, 'movements': 369, 'head': 370, 'facial': 371, 'body': 372, 'postures': 373, 'sentence': 374, 'structures': 375, 'linear': 376, 'singing': 377, 'musical': 378, 'genres': 379, 'instruments': 380, 'multihead': 381, 'dilated': 382, 'convolution': 383, 'spectrogram': 384, 'frequencies': 385, 'softmax': 386, 'sigmoid': 387, 'volumes': 388, 'block': 389, 'drama': 390, 'comedy': 391, 'poetry': 392, 'storytelling': 393, 'news': 394, 'reporting': 395, 'gated': 396, 'sports': 397, 'commentary': 398, 'podcasting': 399, 'radio': 400, 'broadcasting': 401, 'acting': 402, 'public': 403, 'education': 404, 'audiobooks': 405, 'concatenation': 406, 'transpose': 407, 'highway': 408, 'network': 409, 'artificial': 410, 'intelligence': 411, 'chatbots': 412, 'virtual': 413, 'robotics': 414, 'gaming': 415, 'global': 416, 'local': 417, 'upsampling': 418, 'asmr': 419, 'meditation': 420, 'hypnosis': 421, 'relaxation': 422, 'sleep': 423, 'aid': 424, 'therapy': 425, 'timedelay': 426, 'logarithmic': 427, 'branding': 428, 'advertising': 429, 'voiceovers': 430, 'jingles': 431, 'design': 432, 'causal': 433, 'video': 434, 'games': 435, 'augmented': 436, 'reality': 437, 'positional': 438, 'encoding': 439, 'elearning': 440, 'moocs': 441, 'instructional': 442, 'videos': 443, 'fast': 444, 'fourier': 445, 'transform': 446, 'inverse': 447, 'audiometry': 448, 'hearing': 449, 'aids': 450, 'cochlear': 451, 'implants': 452, 'telemedicine': 453, 'remote': 454, 'conferencing': 455, 'bidirectional': 456, 'teaching': 457, 'translation': 458, 'recognition': 459, 'authentication': 460, 'recurrent': 461, 'unit': 462, 'speechtotext': 463, 'coding': 464, 'beam': 465, 'search': 466, 'greedy': 467, 'decoding': 468, 'compression': 469, 'enhancement': 470, 'zeropadding': 471, 'melfrequency': 472, 'cepstral': 473, 'coefficients': 474, 'shorttime': 475, 'denoising': 476, 'convergence': 477, 'clipping': 478, 'contrast': 479, 'stretching': 480, 'subtraction': 481, 'smoothing': 482, 'widening': 483, 'padding': 484, 'magnitude': 485, 'overlapping': 486, 'scaling': 487, 'phase': 488, 'inversion': 489, 'envelope': 490, 'frame': 491, 'shift': 492, 'resolution': 493, 'frequency': 494, 'range': 495, 'window': 496, 'it': 497, 'finetune': 498, 'augmentation': 499, 'effect': 500, 'nonenglish': 501, 'networkbased': 502, 'short': 503, 'loss': 504, 'functions': 505, 'optimizers': 506, 'homonyms': 507, 'homophones': 508, 'sarcasm': 509, 'irony': 510, 'spoken': 511, 'vs': 512, 'written': 513, 'slang': 514, 'informal': 515, 'types': 516, 'affective': 517, 'interruptions': 518, 'hesitation': 519, 'uncertainty': 520, 'breathing': 521, 'abbreviations': 522, 'acronyms': 523, 'foreign': 524, 'phrases': 525, 'sizes': 526, 'stride': 527, 'tone': 528, 'schedules': 529, 'nonstandard': 530, 'spellings': 531, 'typos': 532, 'depths': 533, 'widths': 534, 'weight': 535, 'initialization': 536, 'boundaries': 537, 'contractions': 538, 'elisions': 539, 'homograph': 540, 'disambiguation': 541, 'meanings': 542, 'decay': 543, 'gradient': 544, 'contextdependent': 545, 'distributions': 546, 'tying': 547, 'regularization': 548, 'tokenization': 549, 'named': 550, 'entities': 551, 'idiomatic': 552, 'compound': 553, 'early': 554, 'stopping': 555, 'criteria': 556, 'phrasal': 557, 'verbs': 558, 'strengths': 559, 'pooling': 560, 'pronouns': 561, 'hidden': 562, 'derivatives': 563, 'negation': 564, 'double': 565, 'negatives': 566, 'positions': 567, 'syntactic': 568, 'ambiguity': 569, 'factor': 570, 'uses': 571, 'mapping': 572, 'encodes': 573, 'predicted': 574, 'acoustic': 575, 'synthesizes': 576, 'by': 577, 'converting': 578, 'generates': 579, 'represent': 580, 'help': 581, 'capture': 582, 'utilizes': 583, 'modeling': 584, 'sequential': 585, 'handles': 586, 'splitting': 587, 'them': 588, 'shorter': 589, 'segments': 590, 'brings': 591, 'robustness': 592, 'through': 593, 'faces': 594, 'due': 595, 'languagespecific': 596, 'employs': 597, 'autoregressive': 598, 'but': 599, 'may': 600, 'affect': 601, 'include': 602, 'occasional': 603, 'mispronunciations': 604, 'oversmoothed': 605, 'relying': 606, 'subword': 607, 'graphemetophoneme': 608, 'accentspecific': 609, 'requires': 610, 'significant': 611, 'including': 612, 'gpus': 613, 'appropriate': 614, 'paired': 615, 'adjusting': 616, 'better': 617, 'learn': 618, 'converts': 619, 'sequence': 620, 'highlevel': 621, 'predicting': 622, 'transforms': 623, 'highresolution': 624, 'representation': 625, 'an': 626, 'feature': 627, 'extraction': 628, 'incorporates': 629, 'temporal': 630, 'hierarchical': 631, 'teacher': 632, 'forcing': 633, 'diverse': 634, 'system': 635, 'involves': 636, 'optimizing': 637, 'parameters': 638, 'focus': 639, 'relevant': 640, 'incorporating': 641, 'tokens': 642, 'affects': 643, 'usage': 644, 'adapt': 645, 'finetuning': 646, 'speakerspecific': 647, 'lack': 648, 'finegrained': 649, 'control': 650, 'outperforms': 651, 'many': 652, 'fixedlength': 653, 'improves': 654, 'combination': 655, 'encoders': 656, 'decoders': 657, 'helps': 658, 'continuous': 659, 'space': 660, 'extract': 661, 'plays': 662, 'enables': 663, 'highfidelity': 664, 'results': 665, 'various': 666, 'utilizing': 667, 'effectively': 668, 'minimize': 669, 'error': 670, 'has': 671, 'finds': 672, 'accessibility': 673, 'robust': 674, 'representations': 675, 'could': 676, 'hardware': 677, 'optimizations': 678, 'annotated': 679, 'specialized': 680, 'depend': 681, 'fixeddimensional': 682, 'higherlevel': 683, 'raw': 684, 'intermediate': 685, 'maps': 686, 'align': 687, 'fallback': 688, 'lexicon': 689, 'offers': 690, 'flexibility': 691, 'especially': 692, 'capturing': 693, 'fine': 694, 'details': 695, 'smaller': 696, 'chunks': 697, 'supervised': 698, 'extent': 699, 'based': 700, 'optimized': 701, 'implementations': 702, 'additional': 703, 'processes': 704, 'fixedsize': 705, 'more': 706, 'suitable': 707, 'information': 708, 'implements': 709, 'predict': 710, 'attentionbased': 711, 'preprocess': 712, 'reinforcement': 713, 'corresponding': 714, 'separate': 715, 'depends': 716, 'considered': 717, 'artifacts': 718, 'tools': 719, 'vector': 720, 'structure': 721, 'melscale': 722, 'sufficient': 723, 'optimal': 724, 'characterbased': 725, 'allows': 726, 'particularly': 727, 'producing': 728, 'part': 729, 'pipeline': 730, 'consists': 731, 'compares': 732, 'favorably': 733, 'contributes': 734, 'serves': 735, 'steps': 736, 'particular': 737, 'way': 738, 'poses': 739, 'considerable': 740, 'tackles': 741, 'performs': 742, 'well': 743, 'prosodic': 744, 'vectors': 745, 'challenging': 746, 'scarcity': 747, 'handled': 748, 'choice': 749, 'coverage': 750, 'samples': 751, 'number': 752, 'influence': 753, 'stability': 754, 'content': 755, 'containing': 756, 'fields': 757, 'voiceover': 758, 'this': 759, 'end': 760, 'questions': 761, 'fundamental': 762, 'ability': 763, 'provide': 764, 'compact': 765, 'that': 766, 'captures': 767, 'important': 768, 'dense': 769, 'collection': 770, 'optimization': 771, 'overreliance': 772, 'pronunciations': 773, 'similar': 774, 'applied': 775, 'time': 776, 'potentially': 777, 'extracts': 778, 'lowlevel': 779, 'map': 780, 'truncation': 781, 'chunking': 782, 'unsupervised': 783, 'characterlevel': 784, 'high': 785, 'frames': 786, 'relationships': 787, 'prediction': 788, 'optimizes': 789, 'parallelization': 790, 'lies': 791, 'addition': 792, 'external': 793, 'lexicons': 794, 'responsible': 795, 'balances': 796, 'subjective': 797, 'evaluation': 798, 'metrics': 799, 'pairs': 800, 'provides': 801, 'overcomes': 802, 'endtoend': 803, 'patterns': 804, 'difficulties': 805, 'approximating': 806, 'achieves': 807, 'narration': 808, 'scale': 809, 'takes': 810, 'teacherforcing': 811, 'guided': 812, 'textual': 813, 'cues': 814, 'predicts': 815, 'states': 816, 'unnaturalness': 817, 'leveraging': 818, 'aligns': 819, 'clone': 820, 'enhanced': 821, 'griffinlim': 822, 'algorithm': 823, 'represents': 824, 'each': 825, 'directly': 826, 'humanlike': 827, 'timefrequency': 828, 'need': 829, 'amount': 830, 'not': 831, 'designed': 832, 'length': 833, 'vocabulary': 834, 'crucial': 835, 'lowerdimensional': 836, 'integrates': 837, 'synthetic': 838, 'consisting': 839, 'textspeech': 840, 'parts': 841, 'being': 842, 'learned': 843, 'offline': 844, 'naturally': 845, 'occurring': 846, 'flexible': 847, 'roboticsounding': 848, 'subwordbased': 849, 'customized': 850, 'extracting': 851, 'parallelism': 852, 'obtaining': 853, 'aligned': 854, 'combining': 855, 'highdimensional': 856, 'latent': 857, 'outputs': 858, 'unusual': 859, 'nature': 860, 'substantial': 861, 'just': 862, 'requiring': 863, 'affected': 864, 'encode': 865, 'backpropagation': 866, 'descent': 867, 'amounts': 868, 'unseen': 869, 'vary': 870, 'depending': 871, 'injection': 872, 'create': 873, 'final': 874, 'their': 875, 'properties': 876, 'iterative': 877, 'updates': 878, 'enhance': 879, 'spelling': 880, 'involve': 881, 'exploring': 882, 'representing': 883, 'there': 884, 'strategies': 885, 'informative': 886, 'employed': 887, 'respective': 888, 'roles': 889, 'timedomain': 890, 'have': 891, 'achieving': 892, 'focuses': 893, 'presence': 894, 'low': 895, 'latency': 896, 'aims': 897, 'aspects': 898, 'demands': 899, 'robotic': 900, 'unnatural': 901, 'sounding': 902, 'modifications': 903, 'higherdimensional': 904, 'efficiently': 905, 'masking': 906, 'known': 907, 'assistant': 908, 'technologies': 909, 'noiseaware': 910, 'speakerindependent': 911, 'level': 912, 'differs': 913, 'architectural': 914, 'reduced': 915, 'supports': 916, 'manipulating': 917, 'trains': 918, 'addresses': 919, 'done': 920, 'issues': 921, 'capability': 922, 'cannot': 923, 'they': 924, 'within': 925, 'individual': 926, 'struggle': 927, 'leading': 928, 'inaccurate': 929, 'addressing': 930, 'biases': 931, 'numerical': 932, 'trainable': 933, 'melscaled': 934, 'computationally': 935, 'expensive': 936, 'examples': 937, 'syntax': 938, 'matrix': 939, 'accurate': 940, 'step': 941, 'towards': 942, 'adversarial': 943, 'dictionary': 944, 'dynamic': 945, 'rnn': 946, 'separates': 947, 'perfect': 948, 'slightly': 949, 'lower': 950, 'enhancements': 951, 'adding': 952, 'emotionspecific': 953, 'contour': 954, 'pretrained': 955, 'diacritictophoneme': 956, 'converter': 957, 'refines': 958, 'genderspecific': 959, 'agespecific': 960, 'phoneme': 961, 'phonemetographeme': 962, 'word': 963, 'enable': 964, 'microphonespecific': 965, 'devicespecific': 966, 'resampling': 967, 'retraining': 968, 'reduces': 969, 'lipsync': 970, 'normalizes': 971, 'applies': 972, 'nonlinearity': 973, 'musicaware': 974, 'prevents': 975, 'randomly': 976, 'dropping': 977, 'weights': 978, 'attends': 979, 'increases': 980, 'receptive': 981, 'probability': 982, 'distribution': 983, '0': 984, 'maintains': 985, 'depth': 986, 'adapts': 987, 'controls': 988, 'flow': 989, 'wavenets': 990, 'convolutions': 991, 'combines': 992, 'upsamples': 993, 'meaningful': 994, 'microphone': 995, 'device': 996, 'nonacoustic': 997, 'lowprobability': 998, 'events': 999, 'jingle': 1000, 'ensures': 1001, 'only': 1002, 'past': 1003, 'refine': 1004, 'adds': 1005, 'position': 1006, 'helping': 1007, 'order': 1008, 'activations': 1009, 'accelerating': 1010, 'educational': 1011, 'massive': 1012, 'open': 1013, 'online': 1014, 'courses': 1015, 'mooc': 1016, 'domain': 1017, 'back': 1018, 'audiological': 1019, 'contexts': 1020, 'therapeutic': 1021, 'customizing': 1022, 'implant': 1023, 'processors': 1024, 'medical': 1025, 'teleconsultations': 1026, 'conference': 1027, 'both': 1028, 'forward': 1029, 'backward': 1030, 'sides': 1031, 'instruction': 1032, 'related': 1033, 'variant': 1034, 'selectively': 1035, 'transcription': 1036, 'purposes': 1037, 'explores': 1038, 'paths': 1039, 'enhancing': 1040, 'strategy': 1041, 'selects': 1042, 'most': 1043, 'probable': 1044, 'maintain': 1045, 'preserves': 1046, 'scales': 1047, 'stabilize': 1048, 'measures': 1049, 'similarity': 1050, 'ground': 1051, 'truth': 1052, 'truncates': 1053, 'certain': 1054, 'emphasizes': 1055, 'peaks': 1056, 'resizes': 1057, 'fixed': 1058, 'estimates': 1059, 'removes': 1060, 'highfrequency': 1061, 'expands': 1062, 'zeros': 1063, 'match': 1064, 'desired': 1065, 'amplitude': 1066, 'adjusts': 1067, 'impacting': 1068, 'perceived': 1069, 'loudness': 1070, 'affecting': 1071, 'timing': 1072, 'harmonics': 1073, 'flips': 1074, 'spectrum': 1075, 'modifying': 1076, 'timbre': 1077, 'describes': 1078, 'shape': 1079, 'influencing': 1080, 'determines': 1081, 'framewindow': 1082, 'compute': 1083, 'defines': 1084, 'overlap': 1085, 'consecutive': 1086, 'frameswindows': 1087, 'computation': 1088, 'detail': 1089, 'sets': 1090, 'covered': 1091, 'reducing': 1092, 'leakage': 1093, 'learningbased': 1094, 'produces': 1095, 'several': 1096, 'days': 1097, 'even': 1098, 'weeks': 1099, 'changing': 1100, 'add': 1101, 'advanced': 1102, 'produce': 1103, 'prepares': 1104, 'pronounce': 1105, 'correctly': 1106, 'windows': 1107, 'strides': 1108, 'contours': 1109, 'cyclic': 1110, 'reduce': 1111, 'generally': 1112, 'correct': 1113, 'deepr': 1114, 'wider': 1115, 'require': 1116, 'xavier': 1117, 'pause': 1118, 'beams': 1119, 'l2': 1120, 'norm': 1121, 'square': 1122, 'root': 1123, 'no': 1124, 'clear': 1125, 'best': 1126, 'method': 1127, 'along': 1128, '<PAD>': 0, '<EOS>': 1130, '<OUT>': 1131, '<SOS>': 1132, 'cameron': 1129}\n"
     ]
    }
   ],
   "source": [
    "print(vocab)"
   ]
  }
 ],
 "metadata": {
  "kernelspec": {
   "display_name": "tensor",
   "language": "python",
   "name": "python3"
  },
  "language_info": {
   "codemirror_mode": {
    "name": "ipython",
    "version": 3
   },
   "file_extension": ".py",
   "mimetype": "text/x-python",
   "name": "python",
   "nbconvert_exporter": "python",
   "pygments_lexer": "ipython3",
   "version": "3.8.15"
  },
  "orig_nbformat": 4
 },
 "nbformat": 4,
 "nbformat_minor": 2
}
