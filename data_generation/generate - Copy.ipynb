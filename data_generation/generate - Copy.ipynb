{
 "cells": [
  {
   "cell_type": "code",
   "execution_count": 2,
   "metadata": {},
   "outputs": [
    {
     "name": "stdout",
     "output_type": "stream",
     "text": [
      "Requirement already satisfied: openai in c:\\users\\ben\\anaconda3\\envs\\whisper\\lib\\site-packages (0.27.8)\n",
      "Requirement already satisfied: requests>=2.20 in c:\\users\\ben\\anaconda3\\envs\\whisper\\lib\\site-packages (from openai) (2.31.0)\n",
      "Requirement already satisfied: tqdm in c:\\users\\ben\\anaconda3\\envs\\whisper\\lib\\site-packages (from openai) (4.65.0)\n",
      "Requirement already satisfied: aiohttp in c:\\users\\ben\\anaconda3\\envs\\whisper\\lib\\site-packages (from openai) (3.8.4)\n",
      "Requirement already satisfied: charset-normalizer<4,>=2 in c:\\users\\ben\\anaconda3\\envs\\whisper\\lib\\site-packages (from requests>=2.20->openai) (3.1.0)\n",
      "Requirement already satisfied: idna<4,>=2.5 in c:\\users\\ben\\anaconda3\\envs\\whisper\\lib\\site-packages (from requests>=2.20->openai) (3.4)\n",
      "Requirement already satisfied: urllib3<3,>=1.21.1 in c:\\users\\ben\\anaconda3\\envs\\whisper\\lib\\site-packages (from requests>=2.20->openai) (2.0.3)\n",
      "Requirement already satisfied: certifi>=2017.4.17 in c:\\users\\ben\\anaconda3\\envs\\whisper\\lib\\site-packages (from requests>=2.20->openai) (2023.5.7)\n",
      "Requirement already satisfied: attrs>=17.3.0 in c:\\users\\ben\\anaconda3\\envs\\whisper\\lib\\site-packages (from aiohttp->openai) (22.1.0)\n",
      "Requirement already satisfied: multidict<7.0,>=4.5 in c:\\users\\ben\\anaconda3\\envs\\whisper\\lib\\site-packages (from aiohttp->openai) (6.0.4)\n",
      "Requirement already satisfied: async-timeout<5.0,>=4.0.0a3 in c:\\users\\ben\\anaconda3\\envs\\whisper\\lib\\site-packages (from aiohttp->openai) (4.0.2)\n",
      "Requirement already satisfied: yarl<2.0,>=1.0 in c:\\users\\ben\\anaconda3\\envs\\whisper\\lib\\site-packages (from aiohttp->openai) (1.9.2)\n",
      "Requirement already satisfied: frozenlist>=1.1.1 in c:\\users\\ben\\anaconda3\\envs\\whisper\\lib\\site-packages (from aiohttp->openai) (1.3.3)\n",
      "Requirement already satisfied: aiosignal>=1.1.2 in c:\\users\\ben\\anaconda3\\envs\\whisper\\lib\\site-packages (from aiohttp->openai) (1.3.1)\n",
      "Requirement already satisfied: colorama in c:\\users\\ben\\anaconda3\\envs\\whisper\\lib\\site-packages (from tqdm->openai) (0.4.6)\n"
     ]
    }
   ],
   "source": [
    "!pip install openai"
   ]
  },
  {
   "cell_type": "code",
   "execution_count": 3,
   "metadata": {},
   "outputs": [],
   "source": [
    "def getFile(file_location):\n",
    "  \n",
    "    \n",
    "    with open(file_location, 'r') as file:\n",
    "        prompt = file.read()\n",
    "        return prompt\n"
   ]
  },
  {
   "cell_type": "code",
   "execution_count": 4,
   "metadata": {},
   "outputs": [],
   "source": [
    "import requests\n",
    "\n",
    "def generate_chat_response(prompt):\n",
    "    # Set up API endpoint and headers\n",
    "    url = \"https://api.openai.com/v1/chat/completions\"\n",
    "    headers = {\n",
    "        \"Content-Type\": \"application/json\",\n",
    "        \"Authorization\": getFile(\"K-API\")\n",
    "    }\n",
    "\n",
    "    # Create payload with the input prompt\n",
    "    data = {\n",
    "        \"model\": \"gpt-3.5-turbo\",\n",
    "        \"messages\": [\n",
    "            {\"role\": \"system\", \"content\": \"You are an expert for the architektur of Tacotron 2 \"},\n",
    "            {\"role\": \"user\", \"content\": prompt}\n",
    "        ],\n",
    "        \"temperature\": 0.7\n",
    "    }\n",
    "\n",
    "    # Send POST request\n",
    "    response = requests.post(url, json=data, headers=headers)\n",
    "\n",
    "    # Process response\n",
    "    if response.status_code == 200:\n",
    "        result = response.json()\n",
    "        # Extract the generated response from the result\n",
    "        generated_response = result[\"choices\"][0][\"message\"][\"content\"]\n",
    "        return generated_response\n",
    "    else:\n",
    "        print(\"Request failed with status code:\", response.status_code)\n",
    "        return response.json()\n",
    "\n",
    "# Example usage\n",
    "#prompt = \"generate me a simple html code for a simple statik website. Do not use inline css. \"\n",
    "#response = generate_chat_response(prompt)\n",
    "#print(response)"
   ]
  },
  {
   "cell_type": "code",
   "execution_count": 5,
   "metadata": {},
   "outputs": [],
   "source": [
    "import os\n",
    "def createNewFile(file_name, folder_path,fileInput):\n",
    "    # Specify the folder path and file name\n",
    "    # Create the full file path\n",
    "    file_path = os.path.join(folder_path, file_name)\n",
    "\n",
    "    # Check if the folder exists, if not create it\n",
    "    if not os.path.exists(folder_path):\n",
    "        os.makedirs(folder_path)\n",
    "\n",
    "    # Create the new file\n",
    "    with open(file_path, 'w') as file:\n",
    "        # Perform any necessary operations on the file\n",
    "        file.write(fileInput)\n",
    "\n",
    "    # Print a confirmation message\n",
    "    print(f\"New file '{ file_name }' created in '{folder_path}'.\")"
   ]
  },
  {
   "cell_type": "code",
   "execution_count": 6,
   "metadata": {},
   "outputs": [
    {
     "name": "stdout",
     "output_type": "stream",
     "text": [
      "11html shit11\n"
     ]
    }
   ],
   "source": [
    "def getOnlyTheHtmlCode(s):\n",
    "    x = s.split(\"```\")[1:2][0]\n",
    "    return x\n",
    "    \n",
    "bla = \" ```11html shit11```\"    \n",
    "print(getOnlyTheHtmlCode(bla))"
   ]
  },
  {
   "cell_type": "code",
   "execution_count": 7,
   "metadata": {},
   "outputs": [
    {
     "name": "stdout",
     "output_type": "stream",
     "text": [
      "Ja, ich bin online und bereit, Ihnen zu helfen. Was kann ich für Sie tun?\n"
     ]
    }
   ],
   "source": [
    "print(generate_chat_response(\"bist du online\"))"
   ]
  },
  {
   "cell_type": "code",
   "execution_count": 9,
   "metadata": {},
   "outputs": [],
   "source": [
    "#for i in range(50):\n",
    "   # prompt = getFile(\"input3.txt\")\n",
    " #  output = generate_chat_response(prompt)\n",
    "   # print(output)\n",
    "  #  createNewFile(\"fragen\" +str(i)+ \".txt\",\"newQuestions\",output)\n",
    "#print(output)"
   ]
  },
  {
   "cell_type": "code",
   "execution_count": null,
   "metadata": {},
   "outputs": [],
   "source": [
    "#print(output)"
   ]
  },
  {
   "cell_type": "code",
   "execution_count": 10,
   "metadata": {},
   "outputs": [],
   "source": [
    "#createNewFile(\"fragen2.txt\",\"output2\",output) "
   ]
  },
  {
   "cell_type": "code",
   "execution_count": 11,
   "metadata": {},
   "outputs": [],
   "source": [
    "#for x in range(0,308,25):\n",
    " #   createNewFile(\"fragen\" + str(x) + \".txt\",\"fragen\",\"\") "
   ]
  },
  {
   "cell_type": "code",
   "execution_count": null,
   "metadata": {},
   "outputs": [],
   "source": [
    "def createNewQuestion(output_filename, input_filename,index):\n",
    "    with open(output_filename, 'w') as output_file:\n",
    "        with open(input_filename, 'r') as input_file:\n",
    "            lines = input_file.readlines()\n",
    "            for x in range(25):\n",
    "                line_index = x + index\n",
    "                if line_index < len(lines):\n",
    "                    output_file.write(lines[line_index])\n",
    "\n",
    "for x in range(0, 208, 25):\n",
    "    createNewQuestion(\"fragen/fragen\" + str(x) + \".txt\", \"output/fragen.txt.\",x)"
   ]
  },
  {
   "cell_type": "code",
   "execution_count": 14,
   "metadata": {},
   "outputs": [
    {
     "name": "stdout",
     "output_type": "stream",
     "text": [
      "New file 'antworten0.txt' created in 'newAnswers'.\n",
      "New file 'antworten1.txt' created in 'newAnswers'.\n",
      "New file 'antworten2.txt' created in 'newAnswers'.\n",
      "New file 'antworten3.txt' created in 'newAnswers'.\n",
      "New file 'antworten4.txt' created in 'newAnswers'.\n",
      "New file 'antworten5.txt' created in 'newAnswers'.\n",
      "New file 'antworten6.txt' created in 'newAnswers'.\n",
      "New file 'antworten7.txt' created in 'newAnswers'.\n",
      "New file 'antworten8.txt' created in 'newAnswers'.\n",
      "New file 'antworten9.txt' created in 'newAnswers'.\n",
      "New file 'antworten10.txt' created in 'newAnswers'.\n",
      "New file 'antworten11.txt' created in 'newAnswers'.\n",
      "New file 'antworten12.txt' created in 'newAnswers'.\n",
      "New file 'antworten13.txt' created in 'newAnswers'.\n",
      "New file 'antworten14.txt' created in 'newAnswers'.\n",
      "New file 'antworten15.txt' created in 'newAnswers'.\n",
      "New file 'antworten16.txt' created in 'newAnswers'.\n",
      "New file 'antworten17.txt' created in 'newAnswers'.\n",
      "New file 'antworten18.txt' created in 'newAnswers'.\n",
      "New file 'antworten19.txt' created in 'newAnswers'.\n",
      "New file 'antworten20.txt' created in 'newAnswers'.\n",
      "New file 'antworten21.txt' created in 'newAnswers'.\n",
      "New file 'antworten22.txt' created in 'newAnswers'.\n",
      "New file 'antworten23.txt' created in 'newAnswers'.\n",
      "New file 'antworten24.txt' created in 'newAnswers'.\n",
      "New file 'antworten25.txt' created in 'newAnswers'.\n",
      "New file 'antworten26.txt' created in 'newAnswers'.\n",
      "New file 'antworten27.txt' created in 'newAnswers'.\n",
      "New file 'antworten28.txt' created in 'newAnswers'.\n",
      "New file 'antworten29.txt' created in 'newAnswers'.\n",
      "New file 'antworten30.txt' created in 'newAnswers'.\n",
      "New file 'antworten31.txt' created in 'newAnswers'.\n",
      "New file 'antworten32.txt' created in 'newAnswers'.\n"
     ]
    }
   ],
   "source": [
    "for x in range(0,33):\n",
    "    questions = getFile(\"newQuestions/fragen\" + str(x) + \".txt\")    \n",
    "    prompt = \"Here are 25 Questions. \" + questions +  \" \\n Give a short answer to these questions. dont use more then 15 Words. Only stop generation if you are finished\"\n",
    "    output = generate_chat_response(prompt)\n",
    "    createNewFile(\"antworten\" + str(x) + \".txt\", \"newAnswers\",output)"
   ]
  },
  {
   "cell_type": "code",
   "execution_count": null,
   "metadata": {},
   "outputs": [
    {
     "name": "stdout",
     "output_type": "stream",
     "text": [
      "0\n",
      "0=25\n",
      "25\n",
      "25=25\n",
      "50\n",
      "50=25\n",
      "75\n",
      "75=25\n",
      "100\n",
      "100=25\n",
      "125\n",
      "125=25\n",
      "150\n",
      "150=25\n",
      "175\n",
      "175=25\n",
      "200\n",
      "200=25\n",
      "225\n",
      "225=25\n",
      "250\n",
      "250=25\n",
      "275\n",
      "275=25\n",
      "300\n",
      "300=8\n",
      "New file 'all_antworten.txt' created in 'antworten'.\n"
     ]
    }
   ],
   "source": [
    "all_antworten = \"\"\n",
    "for x in range(0,325,25):\n",
    "    print(x)   \n",
    "    with open(\"antworten/antworten\" + str(x) + \".txt\", 'r') as input_file:\n",
    "        lines = input_file.readlines()\n",
    "        print(str(x) + \"=\"  + str(len(lines)))\n",
    "        for line in lines:          \n",
    "            split_teile = line.split(\".\")\n",
    "            if len(split_teile) > 1:\n",
    "                all_antworten += split_teile[1].strip() + \"\\n\" \n",
    "            else:\n",
    "                print(line)\n",
    "\n",
    "createNewFile(\"all_antworten.txt\", \"antworten\",all_antworten)"
   ]
  },
  {
   "cell_type": "code",
   "execution_count": null,
   "metadata": {},
   "outputs": [
    {
     "name": "stdout",
     "output_type": "stream",
     "text": [
      "0\n",
      "0=25\n",
      "25\n",
      "25=25\n",
      "50\n",
      "50=25\n",
      "75\n",
      "75=25\n",
      "100\n",
      "100=25\n",
      "125\n",
      "125=25\n",
      "150\n",
      "150=25\n",
      "175\n",
      "175=25\n",
      "200\n",
      "200=25\n",
      "225\n",
      "225=25\n",
      "250\n",
      "250=25\n",
      "275\n",
      "275=25\n",
      "300\n",
      "300=8\n",
      "New file 'all_fragen.txt' created in 'fragen'.\n"
     ]
    }
   ],
   "source": [
    "all_fragen = \"\"\n",
    "for x in range(0,325,25):\n",
    "    print(x)   \n",
    "    with open(\"fragen/fragen\" + str(x) + \".txt\", 'r') as input_file:\n",
    "        lines = input_file.readlines()\n",
    "        print(str(x) + \"=\"  + str(len(lines)))\n",
    "        for line in lines:          \n",
    "            split_teile = line.split(\".\")\n",
    "            if len(split_teile) > 1:\n",
    "                all_fragen += split_teile[1].strip() + \"\\n\" \n",
    "            else:\n",
    "                print(line)\n",
    "\n",
    "createNewFile(\"all_fragen.txt\", \"fragen\",all_fragen)"
   ]
  },
  {
   "cell_type": "code",
   "execution_count": null,
   "metadata": {},
   "outputs": [],
   "source": [
    "#prompt = getFile(\"generatedHtml/indexErweitert3.html\") + \"Erweitere diesen code sodass, auch anmeldung per Facebook und per google angeboten wird\"\n",
    "#output = generate_chat_response(prompt)\n",
    "#createNewFile(\"googleFacebookErweiterungen.html\",\"v2\",output)\n",
    "#print(output)\n",
    "#createNewFile(\"googleFacebookErweiterungen.html\",\"v2\",output)"
   ]
  }
 ],
 "metadata": {
  "kernelspec": {
   "display_name": "Python 3",
   "language": "python",
   "name": "python3"
  },
  "language_info": {
   "codemirror_mode": {
    "name": "ipython",
    "version": 3
   },
   "file_extension": ".py",
   "mimetype": "text/x-python",
   "name": "python",
   "nbconvert_exporter": "python",
   "pygments_lexer": "ipython3",
   "version": "3.8.16"
  },
  "orig_nbformat": 4
 },
 "nbformat": 4,
 "nbformat_minor": 2
}
