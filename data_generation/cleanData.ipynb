{
 "cells": [
  {
   "cell_type": "code",
   "execution_count": null,
   "metadata": {},
   "outputs": [],
   "source": [
    "import os\n",
    "\n",
    "folder_path = 'newQuesstions'  # Geben Sie den Pfad zum gewünschten Ordner an\n",
    "\n",
    "# Durchlaufen aller Dateien im Ordner\n",
    "for filename in os.listdir(folder_path):\n",
    "    file_path = os.path.join(folder_path, filename)\n",
    "    \n",
    "    # Überprüfen, ob es sich um eine Datei handelt\n",
    "    if os.path.isfile(file_path):\n",
    "        with open(file_path, 'r') as file:\n",
    "            # Schleife über jede Zeile in der Datei\n",
    "            for line in file:\n",
    "                # Aufteilen der Zeile am ersten Leerzeichen\n",
    "                first_space_index = line.find(' ')\n",
    "                if first_space_index != -1:\n",
    "                    cut_line = line[first_space_index:]\n",
    "                else:\n",
    "                    cut_line = line\n",
    "                \n",
    "                # Verarbeiten der geschnittenen Zeile (z.B. Ausgabe oder Speichern)\n",
    "                print(cut_line)"
   ]
  },
  {
   "cell_type": "code",
   "execution_count": 6,
   "metadata": {},
   "outputs": [],
   "source": [
    "import os\n",
    "\n",
    "folder_path = 'ss' # Specify the path to the desired folder\n",
    "\n",
    "# Traverse all files in the folder\n",
    "for filename in os.listdir(folder_path):\n",
    "    file_path = os.path.join(folder_path, filename)\n",
    "    \n",
    "    # Check if it's a file\n",
    "    if os.path.isfile(file_path):\n",
    "        # Read the file content\n",
    "        with open(file_path, 'r') as file:\n",
    "            lines = file.readlines()\n",
    "        \n",
    "        # Process each line and modify it\n",
    "        modified_lines = []\n",
    "        for line in lines:\n",
    "            first_space_index = line.find(' ')\n",
    "            if first_space_index != -1:\n",
    "                modified_line = line[first_space_index+1:]  # Cut the text after the first whitespace\n",
    "            else:\n",
    "                modified_line = line\n",
    "            \n",
    "            modified_lines.append(modified_line)\n",
    "        \n",
    "        # Write the modified lines back to the file\n",
    "        #print(modified_lines)\n",
    "        with open(file_path, 'w') as file:\n",
    "            file.writelines(modified_lines)"
   ]
  },
  {
   "cell_type": "code",
   "execution_count": null,
   "metadata": {},
   "outputs": [],
   "source": [
    "def createNewFile(file_name, folder_path,fileInput):\n",
    "    # Specify the folder path and file name\n",
    "    # Create the full file path\n",
    "    file_path = os.path.join(folder_path, file_name)\n",
    "\n",
    "    # Check if the folder exists, if not create it\n",
    "    if not os.path.exists(folder_path):\n",
    "        os.makedirs(folder_path)\n",
    "\n",
    "    # Create the new file\n",
    "    with open(file_path, 'w') as file:\n",
    "        # Perform any necessary operations on the file\n",
    "        file.write(fileInput)\n",
    "\n",
    "    # Print a confirmation message\n",
    "    print(f\"New file '{ file_name }' created in '{folder_path}'.\") "
   ]
  },
  {
   "cell_type": "code",
   "execution_count": 12,
   "metadata": {},
   "outputs": [
    {
     "name": "stdout",
     "output_type": "stream",
     "text": [
      "825\n"
     ]
    }
   ],
   "source": [
    "import os\n",
    "\n",
    "folder_path = 'newAnswers' # Specify the path to the desired folder\n",
    "\n",
    "all_lines = []\n",
    "# Traverse all files in the folder\n",
    "for filename in os.listdir(folder_path):\n",
    "    file_path = os.path.join(folder_path, filename)\n",
    "    \n",
    "    # Check if it's a file\n",
    "    if os.path.isfile(file_path):\n",
    "        # Read the file content\n",
    "        with open(file_path, 'r') as file:\n",
    "            all_lines += [x for x in file.readlines()]\n",
    "print(len(all_lines))\n",
    "\n",
    "def createNewFile(file_name, folder_path,fileInput):\n",
    "    # Specify the folder path and file name\n",
    "    # Create the full file path\n",
    "    file_path = os.path.join(folder_path, file_name)\n",
    "\n",
    "    # Check if the folder exists, if not create it\n",
    "    if not os.path.exists(folder_path):\n",
    "        os.makedirs(folder_path)\n",
    "\n",
    "    # Create the new file\n",
    "    with open(file_path, 'w') as file:\n",
    "        # Perform any necessary operations on the file\n",
    "        for x in fileInput:\n",
    "            file.write(x)\n",
    "\n",
    "    # Print a confirmation message\n",
    "    print(f\"New file '{ file_name }' created in '{folder_path}'.\") \n",
    "\n",
    "    "
   ]
  },
  {
   "cell_type": "code",
   "execution_count": 13,
   "metadata": {},
   "outputs": [
    {
     "name": "stdout",
     "output_type": "stream",
     "text": [
      "New file 'a' created in 'ALL'.\n"
     ]
    }
   ],
   "source": [
    "createNewFile(\"a\",\"ALL\",all_lines)"
   ]
  }
 ],
 "metadata": {
  "kernelspec": {
   "display_name": "Test2",
   "language": "python",
   "name": "python3"
  },
  "language_info": {
   "codemirror_mode": {
    "name": "ipython",
    "version": 3
   },
   "file_extension": ".py",
   "mimetype": "text/x-python",
   "name": "python",
   "nbconvert_exporter": "python",
   "pygments_lexer": "ipython3",
   "version": "3.8.15"
  },
  "orig_nbformat": 4
 },
 "nbformat": 4,
 "nbformat_minor": 2
}
